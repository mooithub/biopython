{
 "metadata": {
  "celltoolbar": "Raw Cell Format",
  "name": "",
  "signature": "sha256:3fc13f1ff5dbaeabb0bbb59638585a210790bf10079efc80354fdad92f3e896d"
 },
 "nbformat": 3,
 "nbformat_minor": 0,
 "worksheets": [
  {
   "cells": [
    {
     "cell_type": "heading",
     "level": 1,
     "metadata": {},
     "source": [
      "Practical Computing for Biologists <br>\n",
      "Release 1.0<br>"
     ]
    },
    {
     "cell_type": "heading",
     "level": 2,
     "metadata": {},
     "source": [
      "<br>4.11 Python Modules<br><br>\n",
      "4.12 NumPy and Matplotlib<br>"
     ]
    },
    {
     "cell_type": "heading",
     "level": 3,
     "metadata": {},
     "source": [
      "2014.7.1 <br><br>\n",
      "\ubc15 \ud64d \ud6c8<br>"
     ]
    },
    {
     "cell_type": "code",
     "collapsed": false,
     "input": [
      "fig = figure()\n",
      "ax = fig.add_subplot(111, axisbg='g')\n",
      "N=8\n",
      "y=np.zeros(N)\n",
      "x1= linspace(0,10,N, endpoint= True)\n",
      "p1 = plot(x1,y,'o')\n",
      "ax.set_xlim([-0.5, 10.5])\n",
      "show()"
     ],
     "language": "python",
     "metadata": {},
     "outputs": [
      {
       "metadata": {},
       "output_type": "display_data",
       "png": "[encoded data removed]",
       "text": [
        "<matplotlib.figure.Figure at 0x655f450>"
       ]
      }
     ],
     "prompt_number": 5
    },
    {
     "cell_type": "code",
     "collapsed": false,
     "input": [
      "def test(a, *b, **kw):  # \uac00\ubcc0\uc778\uc218\n",
      "    print 'a = ', a\n",
      "    if b : \n",
      "        print '*b = ', b\n",
      "    if kw : print ' **kw = ', kw\n",
      "    print\n",
      "        \n",
      "        \n",
      "test(123)\n",
      "test(123,555,'test','a','bb')\n",
      "test(123,['test','a'],'bb')\n",
      "test(234, 'aa','bb','cc', k=3, y=44)"
     ],
     "language": "python",
     "metadata": {},
     "outputs": [
      {
       "output_type": "stream",
       "stream": "stdout",
       "text": [
        "a =  123\n",
        "\n",
        "a =  123\n",
        "*b =  (555, 'test', 'a', 'bb')\n",
        "\n",
        "a =  123\n",
        "*b =  (['test', 'a'], 'bb')\n",
        "\n",
        "a =  234\n",
        "*b =  ('aa', 'bb', 'cc')\n",
        " **kw =  {'y': 44, 'k': 3}\n",
        "\n"
       ]
      }
     ],
     "prompt_number": 3
    },
    {
     "cell_type": "heading",
     "level": 2,
     "metadata": {},
     "source": [
      "\uae30\ubcf8\uac1c\ub150"
     ]
    },
    {
     "cell_type": "markdown",
     "metadata": {},
     "source": [
      "<pre>\n",
      "namespace (\uc774\ub984\uacf5\uac04) -- a mapping from names to objects  ???\n",
      "\n",
      "\ubaa8\ub4c8   -- python \ud30c\uc77c :  a single Python file\n",
      "\ud329\ud0a4\uc9c0  -- module \ubaa8\uc74c : a directory of Python modules containing an additional __init__.py file</pre>"
     ]
    },
    {
     "cell_type": "markdown",
     "metadata": {},
     "source": [
      "http://legacy.python.org/dev/peps/pep-0008/#package-and-module-names <br>\n",
      "-- PEP8 --<br>\n",
      "   Module Names  -- short, all-lowercase names <br>\n",
      "   Package Names  -- short, all-lowercase names"
     ]
    },
    {
     "cell_type": "markdown",
     "metadata": {},
     "source": [
      "Class \uc774\ub984 : \ub300\ubb38\uc790\ub85c \uc2dc\uc791 <br>\n",
      "method \uc774\ub984 (\ud568\uc218 \uc774\ub984) : \ubaa8\ub450 \uc18c\ubb38\uc790"
     ]
    },
    {
     "cell_type": "code",
     "collapsed": false,
     "input": [
      "%load 'mod1.py'"
     ],
     "language": "python",
     "metadata": {},
     "outputs": [],
     "prompt_number": 81
    },
    {
     "cell_type": "code",
     "collapsed": false,
     "input": [
      "MY_CONST = 333\n",
      "\n",
      "loc = 'korea'\n",
      "\n",
      "def hap(a, b):\n",
      "    c = 10\n",
      "    print a + b + c\n",
      "\n",
      "class Calc:\n",
      "    def hap(self, a, b):\n",
      "        print a + b + 1000\n",
      "\n",
      "\n",
      "print 'name  : ', __name__\n",
      "\n",
      "if __name__ == '__main__':\n",
      "    hap(1,2)\n"
     ],
     "language": "python",
     "metadata": {},
     "outputs": []
    },
    {
     "cell_type": "code",
     "collapsed": false,
     "input": [
      "%load 'mod2.py'"
     ],
     "language": "python",
     "metadata": {},
     "outputs": [],
     "prompt_number": 80
    },
    {
     "cell_type": "code",
     "collapsed": false,
     "input": [
      "# mod2.py\t\n",
      "MY_CONST = 111\n",
      "\n",
      "loc = 'usa'\n",
      "\n",
      "def hap(a, b):\n",
      "    print a + b\n",
      "\n",
      "print 'name  : ', __name__\n",
      "\n",
      "if __name__ == '__main__':\n",
      "    hap(1,2)\n"
     ],
     "language": "python",
     "metadata": {},
     "outputs": []
    },
    {
     "cell_type": "code",
     "collapsed": false,
     "input": [
      "import mod1\n",
      "import mod2\n",
      "print mod1.loc\n",
      "print mod2.loc"
     ],
     "language": "python",
     "metadata": {},
     "outputs": [
      {
       "output_type": "stream",
       "stream": "stdout",
       "text": [
        "name  :  mod1\n",
        "name  :  mod2\n",
        "korea\n",
        "usa\n"
       ]
      }
     ],
     "prompt_number": 1
    },
    {
     "cell_type": "code",
     "collapsed": false,
     "input": [
      "mod1.hap(1,2)\n",
      "mod2.hap(1,2)"
     ],
     "language": "python",
     "metadata": {},
     "outputs": [
      {
       "output_type": "stream",
       "stream": "stdout",
       "text": [
        "13\n",
        "3\n"
       ]
      }
     ],
     "prompt_number": 2
    },
    {
     "cell_type": "heading",
     "level": 1,
     "metadata": {},
     "source": [
      "4.11 Python Modules"
     ]
    },
    {
     "cell_type": "heading",
     "level": 6,
     "metadata": {},
     "source": [
      "http://people.duke.edu/~ccc14/pcfb/modules.html"
     ]
    },
    {
     "cell_type": "code",
     "collapsed": false,
     "input": [
      "import math"
     ],
     "language": "python",
     "metadata": {},
     "outputs": [],
     "prompt_number": 2
    },
    {
     "cell_type": "code",
     "collapsed": false,
     "input": [
      "dir(math)"
     ],
     "language": "python",
     "metadata": {},
     "outputs": [
      {
       "metadata": {},
       "output_type": "pyout",
       "prompt_number": 3,
       "text": [
        "['__doc__',\n",
        " '__name__',\n",
        " '__package__',\n",
        " 'acos',\n",
        " 'acosh',\n",
        " 'asin',\n",
        " 'asinh',\n",
        " 'atan',\n",
        " 'atan2',\n",
        " 'atanh',\n",
        " 'ceil',\n",
        " 'copysign',\n",
        " 'cos',\n",
        " 'cosh',\n",
        " 'degrees',\n",
        " 'e',\n",
        " 'erf',\n",
        " 'erfc',\n",
        " 'exp',\n",
        " 'expm1',\n",
        " 'fabs',\n",
        " 'factorial',\n",
        " 'floor',\n",
        " 'fmod',\n",
        " 'frexp',\n",
        " 'fsum',\n",
        " 'gamma',\n",
        " 'hypot',\n",
        " 'isinf',\n",
        " 'isnan',\n",
        " 'ldexp',\n",
        " 'lgamma',\n",
        " 'log',\n",
        " 'log10',\n",
        " 'log1p',\n",
        " 'modf',\n",
        " 'pi',\n",
        " 'pow',\n",
        " 'radians',\n",
        " 'sin',\n",
        " 'sinh',\n",
        " 'sqrt',\n",
        " 'tan',\n",
        " 'tanh',\n",
        " 'trunc']"
       ]
      }
     ],
     "prompt_number": 3
    },
    {
     "cell_type": "code",
     "collapsed": false,
     "input": [
      "math.exp.__doc__"
     ],
     "language": "python",
     "metadata": {},
     "outputs": [
      {
       "metadata": {},
       "output_type": "pyout",
       "prompt_number": 4,
       "text": [
        "'exp(x)\\n\\nReturn e raised to the power of x.'"
       ]
      }
     ],
     "prompt_number": 4
    },
    {
     "cell_type": "code",
     "collapsed": false,
     "input": [
      "print math.exp.__doc__"
     ],
     "language": "python",
     "metadata": {},
     "outputs": [
      {
       "output_type": "stream",
       "stream": "stdout",
       "text": [
        "exp(x)\n",
        "\n",
        "Return e raised to the power of x.\n"
       ]
      }
     ],
     "prompt_number": 5
    },
    {
     "cell_type": "heading",
     "level": 2,
     "metadata": {},
     "source": [
      "4.11.1 os module"
     ]
    },
    {
     "cell_type": "markdown",
     "metadata": {},
     "source": [
      "http://people.duke.edu/~ccc14/pcfb/modules.html#os-module<br>\n",
      "https://docs.python.org/2/library/os.html"
     ]
    },
    {
     "cell_type": "code",
     "collapsed": false,
     "input": [
      "import os"
     ],
     "language": "python",
     "metadata": {},
     "outputs": [],
     "prompt_number": 6
    },
    {
     "cell_type": "code",
     "collapsed": false,
     "input": [
      "print os.getcwd()   # \ud604\uc7ac \uc791\uc5c5 \ub514\ub809\ud1a0\ub9ac \uc774\ub984 "
     ],
     "language": "python",
     "metadata": {},
     "outputs": [
      {
       "output_type": "stream",
       "stream": "stdout",
       "text": [
        "C:\\Users\\user\n"
       ]
      }
     ],
     "prompt_number": 7
    },
    {
     "cell_type": "code",
     "collapsed": false,
     "input": [
      "os.chdir ('C:\\Users')   # \ub514\ub809\ud1a0\ub9ac \uc774\ub3d9\n",
      "os.getcwd()"
     ],
     "language": "python",
     "metadata": {},
     "outputs": [
      {
       "metadata": {},
       "output_type": "pyout",
       "prompt_number": 8,
       "text": [
        "'C:\\\\Users'"
       ]
      }
     ],
     "prompt_number": 8
    },
    {
     "cell_type": "code",
     "collapsed": false,
     "input": [
      "os.chdir ('C:\\Users\\user')  \n",
      "os.getcwd()"
     ],
     "language": "python",
     "metadata": {},
     "outputs": [
      {
       "metadata": {},
       "output_type": "pyout",
       "prompt_number": 9,
       "text": [
        "'C:\\\\Users\\\\user'"
       ]
      }
     ],
     "prompt_number": 9
    },
    {
     "cell_type": "code",
     "collapsed": false,
     "input": [
      "os.mkdir('test111')   # \ub514\ub809\ud1a0\ub9ac \ub9cc\ub4e4\uae30\n",
      "os.listdir(os.getcwd())  #  dir  or ls"
     ],
     "language": "python",
     "metadata": {},
     "outputs": [
      {
       "metadata": {},
       "output_type": "pyout",
       "prompt_number": 13,
       "text": [
        "['.continuum',\n",
        " '.eclipse',\n",
        " '.gem',\n",
        " '.idlerc',\n",
        " '.ipynb_checkpoints',\n",
        " '.ipython',\n",
        " '.kivy',\n",
        " '.matplotlib',\n",
        " '.PyCharm30',\n",
        " '.spyder2',\n",
        " '.squirrel-sql',\n",
        " '.VirtualBox',\n",
        " '2012 - 2014 4\\xbf\\xf9 \\xc3\\xbb\\xb1\\xb8\\xc6\\xc4\\xc0\\xcf\\xbe\\xe7\\xbd\\xc4 \\xba\\xf1\\xb1\\xb3.ods',\n",
        " '2013-05-21-12-48-47.009-VirtualBox.exe-4748.log',\n",
        " '2014-2.csv',\n",
        " '2014-2cam.csv',\n",
        " '2014-2cam.ods',\n",
        " '2014-2g1.csv',\n",
        " '2014-2g1m.csv',\n",
        " '2014-2g1m.ods',\n",
        " '2014-2g2.csv',\n",
        " '2014.csv',\n",
        " '2014.ods',\n",
        " '201401cancer.csv',\n",
        " '20142-2.ods',\n",
        " '2014hd1.csv',\n",
        " '2014hd3.csv',\n",
        " '2014hd32.csv',\n",
        " 'AppData',\n",
        " 'Application Data',\n",
        " 'Aptana Rubles',\n",
        " 'blurcat.bmp',\n",
        " 'Contacts',\n",
        " 'Cookies',\n",
        " 'csv.txt',\n",
        " 'csvtest.csv',\n",
        " 'Desktop',\n",
        " 'Documents',\n",
        " 'Downloads',\n",
        " 'Dropbox',\n",
        " 'drug140501.csv',\n",
        " 'Favorites',\n",
        " 'gumjin2014.ipynb',\n",
        " 'hb.csv',\n",
        " 'hd2014.csv',\n",
        " 'hd2014format.csv',\n",
        " 'ktv.csv',\n",
        " 'Links',\n",
        " 'Local Settings',\n",
        " 'Music',\n",
        " 'My Documents',\n",
        " 'NetHood',\n",
        " 'NTUSER.DAT',\n",
        " 'ntuser.dat.LOG1',\n",
        " 'ntuser.dat.LOG2',\n",
        " 'NTUSER.DAT{6cced2f1-6e01-11de-8bed-001e0bcd1824}.TM.blf',\n",
        " 'NTUSER.DAT{6cced2f1-6e01-11de-8bed-001e0bcd1824}.TMContainer00000000000000000001.regtrans-ms',\n",
        " 'NTUSER.DAT{6cced2f1-6e01-11de-8bed-001e0bcd1824}.TMContainer00000000000000000002.regtrans-ms',\n",
        " 'ntuser.ini',\n",
        " 'numpyplot.ipynb',\n",
        " 'Pictures',\n",
        " 'pip',\n",
        " 'PrintHood',\n",
        " 'PycharmProjects',\n",
        " 'Recent',\n",
        " 'Saved Games',\n",
        " 'Searches',\n",
        " 'SendTo',\n",
        " 'Templates',\n",
        " 'test.txt',\n",
        " 'test111',\n",
        " 'Untitled0.ipynb',\n",
        " 'Untitled1.ipynb',\n",
        " 'Untitled2.ipynb',\n",
        " 'Untitled3.ipynb',\n",
        " 'Untitled4.ipynb',\n",
        " 'Videos',\n",
        " 'VirtualBox VMs',\n",
        " 'wc',\n",
        " 'workspace',\n",
        " '\\xbd\\xc3\\xc0\\xdb \\xb8\\xde\\xb4\\xba']"
       ]
      }
     ],
     "prompt_number": 13
    },
    {
     "cell_type": "heading",
     "level": 2,
     "metadata": {},
     "source": [
      "4.11.2 csv module"
     ]
    },
    {
     "cell_type": "heading",
     "level": 3,
     "metadata": {},
     "source": [
      "\ucc38\uace0 1 :  http://freeprog.tistory.com/12 "
     ]
    },
    {
     "cell_type": "heading",
     "level": 3,
     "metadata": {},
     "source": [
      "\ucc38\uace0 2 : http://freeprog.tistory.com/10"
     ]
    },
    {
     "cell_type": "markdown",
     "metadata": {},
     "source": [
      "http://people.duke.edu/~ccc14/pcfb/modules.html#csv-module<br>\n",
      "https://docs.python.org/2/library/csv.html \n"
     ]
    },
    {
     "cell_type": "markdown",
     "metadata": {},
     "source": [
      "csv (comma-separated values) \n",
      "\n",
      "\uae30\ubcf8 \uad6c\ubd84\uc790 (default delimiter) == ','\n",
      "\n",
      "default dialect == 'excel'"
     ]
    },
    {
     "cell_type": "code",
     "collapsed": false,
     "input": [
      "import csv\n",
      "f = open('monty_python.csv','w')    # writerow \uc0ac\uc6a9\uc2dc 'w' \uc0ac\uc6a9\ud558\uba74 \uc548\ub428.\n",
      "cfw = csv.writer(f, dialect = 'excel')  \n",
      "cfw.writerow(['spam','spam','eggs','spam'])   # file open \ubaa8\ub4dc\uac00 'w'\uc778 \uacbd\uc6b0 windows 7 \uc5d0\uc11c '\\r\\r\\n' \uc785\ub825\ub418\uace0, -- ubuntu12.4\ub294 '\\r\\n' \uc785\ub825\n",
      "cfw.writerow(['spam','spam','spam and eggs','spam'])  # file open \ubaa8\ub4dc\uac00 'wb'\uc778 \uacbd\uc6b0 windows 7 \uc5d0\uc11c '\\r\\n' \ub85c \uc815\uc0c1 \uc785\ub825\ub428.\n",
      "cfw.writerow(['toast'])\n",
      "f.close()\n",
      "\n",
      "    "
     ],
     "language": "python",
     "metadata": {},
     "outputs": [],
     "prompt_number": 5
    },
    {
     "cell_type": "markdown",
     "metadata": {},
     "source": [
      "<br><br>--- Universal newlines --- <br><br>\n",
      "https://docs.python.org/2/glossary.html#term-universal-newlines"
     ]
    },
    {
     "cell_type": "code",
     "collapsed": false,
     "input": [
      "import csv\n",
      "\n",
      "cfr = csv.reader(open('monty_python.csv', 'rU'), dialect ='excel')  \n",
      "# 'U' ;  universal newlines\n",
      "# 'rU' \ub300\uc2e0\uc5d0 'r' \ub9cc \uc0ac\uc6a9\uc2dc\uc5d0\ub294 \ube48\uc904 \ucd94\uac00 \uc548\ub428.\n",
      "\n",
      "for row in cfr:\n",
      "    print ', '.join(row)"
     ],
     "language": "python",
     "metadata": {},
     "outputs": [
      {
       "output_type": "stream",
       "stream": "stdout",
       "text": [
        "spam, spam, eggs, spam\n",
        "\n",
        "spam, spam, spam and eggs, spam\n",
        "\n",
        "toast\n",
        "\n"
       ]
      }
     ],
     "prompt_number": 16
    },
    {
     "cell_type": "code",
     "collapsed": false,
     "input": [
      "%load?"
     ],
     "language": "python",
     "metadata": {},
     "outputs": [],
     "prompt_number": 211
    },
    {
     "cell_type": "markdown",
     "metadata": {},
     "source": [
      "%load  ---   http://ipython.org/ipython-doc/dev/interactive/qtconsole.html#load"
     ]
    },
    {
     "cell_type": "code",
     "collapsed": false,
     "input": [
      "%load 'monty_python.csv'"
     ],
     "language": "python",
     "metadata": {},
     "outputs": [],
     "prompt_number": 210
    },
    {
     "cell_type": "code",
     "collapsed": false,
     "input": [
      "spam,spam,eggs,spam\n",
      "\n",
      "spam,spam,spam and eggs,spam\n",
      "\n",
      "toast\n",
      "\n"
     ],
     "language": "python",
     "metadata": {},
     "outputs": []
    },
    {
     "cell_type": "markdown",
     "metadata": {},
     "source": [
      "--->  \uacf5\ubc31\ucd94\uac00\ub41c \uc6d0\uc778\uc740 '\\r\\r\\n' + Universal newlines  \ub54c\ubb38.... <br><br><br>\n",
      "\n"
     ]
    },
    {
     "cell_type": "code",
     "collapsed": false,
     "input": [
      "cfr = csv.reader(open('monty_python.csv', 'r'), dialect ='excel')   # 'rU' \ub300\uc2e0\uc5d0 'r' \ub9cc \uc0ac\uc6a9\uc2dc\uc5d0\ub294 \uacf5\ubc31\ucd94\uac00 \uc548\ub428. dialect='excel' \uc0dd\ub7b5 \uac00\ub2a5.\n",
      "\n",
      "for row in cfr:\n",
      "    print ', '.join(row)"
     ],
     "language": "python",
     "metadata": {},
     "outputs": [
      {
       "output_type": "stream",
       "stream": "stdout",
       "text": [
        "spam, spam, eggs, spam\n",
        "spam, spam, spam and eggs, spam\n",
        "toast\n"
       ]
      }
     ],
     "prompt_number": 7
    },
    {
     "cell_type": "code",
     "collapsed": false,
     "input": [
      "cfr = csv.reader(open('monty_python.csv', 'r'), dialect ='excel')\n",
      "\n",
      "for row in cfr:\n",
      "    print row"
     ],
     "language": "python",
     "metadata": {},
     "outputs": [
      {
       "output_type": "stream",
       "stream": "stdout",
       "text": [
        "['spam', 'spam', 'eggs', 'spam']\n",
        "['spam', 'spam', 'spam and eggs', 'spam']\n",
        "['toast']\n"
       ]
      }
     ],
     "prompt_number": 13
    },
    {
     "cell_type": "heading",
     "level": 6,
     "metadata": {},
     "source": [
      "<br><br>\uae30\ubcf8 \uad6c\ubd84\uc790 (default delimiter) \ubcc0\uacbd \uac00\ub2a5."
     ]
    },
    {
     "cell_type": "raw",
     "metadata": {},
     "source": [
      "tabbs.csv \ud30c\uc77c\uc740 \ub9cc\ub4e4\uc5b4 \ub193\uc544\uc57c \ud55c\ub2e4."
     ]
    },
    {
     "cell_type": "code",
     "collapsed": false,
     "input": [
      "%load 'tabbs.csv'"
     ],
     "language": "python",
     "metadata": {},
     "outputs": [],
     "prompt_number": 20
    },
    {
     "cell_type": "code",
     "collapsed": false,
     "input": [
      "1\t2\t3\n",
      "2\t3\t4\n",
      "4\t5\t6"
     ],
     "language": "python",
     "metadata": {},
     "outputs": []
    },
    {
     "cell_type": "code",
     "collapsed": false,
     "input": [
      "import csv\n",
      "f = open('tabbs.csv', 'rU')\n",
      "csvfile = csv.reader(f, delimiter='\\t')   # '\\t' (\ud0ed\ud0a4) \ub97c \uad6c\ubd84\uc790\ub85c \uc0ac\uc6a9\ud568.\n",
      "for row in csvfile:\n",
      "    print row"
     ],
     "language": "python",
     "metadata": {},
     "outputs": [
      {
       "output_type": "stream",
       "stream": "stdout",
       "text": [
        "['1', '2', '3']\n",
        "['2', '3', '4']\n",
        "['4', '5', '6']\n"
       ]
      }
     ],
     "prompt_number": 18
    },
    {
     "cell_type": "heading",
     "level": 6,
     "metadata": {},
     "source": [
      "<br><br>csv file  header \ubd88\ub7ec\uc624\uae30."
     ]
    },
    {
     "cell_type": "markdown",
     "metadata": {},
     "source": [
      "test_scores.csv \ud30c\uc77c\uc740  http://people.duke.edu/~ccc14/pcfb/data.html \uc5d0\uc11c CSV sample data \ub2e4\uc6b4\ubc1b\uc73c\uba74 \ub428."
     ]
    },
    {
     "cell_type": "code",
     "collapsed": false,
     "input": [
      "%load 'test_scores.csv'"
     ],
     "language": "python",
     "metadata": {},
     "outputs": [],
     "prompt_number": 26
    },
    {
     "cell_type": "code",
     "collapsed": false,
     "input": [
      "Name,Sex,Age,Score\n",
      "Alice,F,25,89\n",
      "Bob,M,29,78\n",
      "Claire,F,24,90\n",
      "David,M,22,80\n",
      "Edward,M,23,78\n",
      "Flo,F,27,88\n",
      "George,M,30,75\n",
      "Hettie,F,32,92\n",
      "Ida,F,27,87\n",
      "John,M,25,85\n",
      "Kelly,F,24,78\n",
      "Linda,F,23,74\n",
      "Mark,M,26,86\n",
      "Nadine,F,22,82\n",
      "Patrick,M,20,77\n",
      "Rose,F,24,80\n",
      "Steven,M,32,80\n",
      "Tiv,F,34,95\n",
      "Wayne,M,23,85\n"
     ],
     "language": "python",
     "metadata": {},
     "outputs": []
    },
    {
     "cell_type": "code",
     "collapsed": false,
     "input": [
      "import csv\n",
      "\n",
      "f = open('test_scores.csv', 'rU')\n",
      "csvfile = csv.reader(f)  # \ubc18\ubcf5\uc790 (iterator)\n",
      "\n",
      "header = False\n",
      "\n",
      "for row in csvfile:\n",
      "   if not header:\n",
      "      header = True\n",
      "   else:\n",
      "      print row\n",
      "f.close()"
     ],
     "language": "python",
     "metadata": {},
     "outputs": [
      {
       "output_type": "stream",
       "stream": "stdout",
       "text": [
        "['Alice', 'F', '25', '89']\n",
        "['Bob', 'M', '29', '78']\n",
        "['Claire', 'F', '24', '90']\n",
        "['David', 'M', '22', '80']\n",
        "['Edward', 'M', '23', '78']\n",
        "['Flo', 'F', '27', '88']\n",
        "['George', 'M', '30', '75']\n",
        "['Hettie', 'F', '32', '92']\n",
        "['Ida', 'F', '27', '87']\n",
        "['John', 'M', '25', '85']\n",
        "['Kelly', 'F', '24', '78']\n",
        "['Linda', 'F', '23', '74']\n",
        "['Mark', 'M', '26', '86']\n",
        "['Nadine', 'F', '22', '82']\n",
        "['Patrick', 'M', '20', '77']\n",
        "['Rose', 'F', '24', '80']\n",
        "['Steven', 'M', '32', '80']\n",
        "['Tiv', 'F', '34', '95']\n",
        "['Wayne', 'M', '23', '85']\n"
       ]
      }
     ],
     "prompt_number": 26
    },
    {
     "cell_type": "code",
     "collapsed": false,
     "input": [
      "# \ubcf4\uae30 \uc88b\uc740 \ucf54\ub4dc\n",
      "\n",
      "import csv\n",
      "\n",
      "with open('test_scores.csv', 'rU') as f:\n",
      "    csvfile = csv.reader(f)  # csvfile \uc740 \ubc18\ubcf5\uc790 (iterator)\n",
      "    \n",
      "    header = next(csvfile)\n",
      "    print header\n",
      "    \n",
      "    for row in csvfile:\n",
      "        print row"
     ],
     "language": "python",
     "metadata": {},
     "outputs": [
      {
       "output_type": "stream",
       "stream": "stdout",
       "text": [
        "['Name', 'Sex', 'Age', 'Score']\n",
        "['Alice', 'F', '25', '89']\n",
        "['Bob', 'M', '29', '78']\n",
        "['Claire', 'F', '24', '90']\n",
        "['David', 'M', '22', '80']\n",
        "['Edward', 'M', '23', '78']\n",
        "['Flo', 'F', '27', '88']\n",
        "['George', 'M', '30', '75']\n",
        "['Hettie', 'F', '32', '92']\n",
        "['Ida', 'F', '27', '87']\n",
        "['John', 'M', '25', '85']\n",
        "['Kelly', 'F', '24', '78']\n",
        "['Linda', 'F', '23', '74']\n",
        "['Mark', 'M', '26', '86']\n",
        "['Nadine', 'F', '22', '82']\n",
        "['Patrick', 'M', '20', '77']\n",
        "['Rose', 'F', '24', '80']\n",
        "['Steven', 'M', '32', '80']\n",
        "['Tiv', 'F', '34', '95']\n",
        "['Wayne', 'M', '23', '85']\n"
       ]
      }
     ],
     "prompt_number": 31
    },
    {
     "cell_type": "markdown",
     "metadata": {},
     "source": [
      "<br><br>\n",
      "\n",
      "p.54 \uc5f0\uc2b5\ubb38\uc81c \ud480\uc774"
     ]
    },
    {
     "cell_type": "code",
     "collapsed": false,
     "input": [
      "import csv\n",
      "\n",
      "with open('test_scores.csv', 'rU') as f:\n",
      "    csvfile = csv.reader(f)  # csvfile \uc740 \ubc18\ubcf5\uc790 (iterator)\n",
      "    \n",
      "    header = next(csvfile)\n",
      "    # print header\n",
      "    # print header[1], header[3]\n",
      "    \n",
      "    m = []\n",
      "    f= []\n",
      "    \n",
      "    for _, sex, _ , score in csvfile:\n",
      "        # print sex, score\n",
      "        if sex == 'F' : f.append(int(score))   # int(score) ; \ubb38\uc790  ->  \uc815\uc218\ub85c \ubcc0\ud658\n",
      "        else: m.append(int(score))\n",
      "            \n",
      "print m\n",
      "print f\n",
      "\n",
      "m_avr = sum(m)/len(m)            \n",
      "print 'female average = ' , m_avr\n",
      "\n",
      "f_avr = sum(f)/len(f)        # \ud568\uc218\ub85c \ub9cc\ub4e4\uba74 \ub354 \ub098\uc744\ub4ef.\n",
      "print 'male average = ' , f_avr"
     ],
     "language": "python",
     "metadata": {},
     "outputs": [
      {
       "output_type": "stream",
       "stream": "stdout",
       "text": [
        "[78, 80, 78, 75, 85, 86, 77, 80, 85]\n",
        "[89, 90, 88, 92, 87, 78, 74, 82, 80, 95]\n",
        "female average =  80\n",
        "male average =  85\n"
       ]
      }
     ],
     "prompt_number": 43
    },
    {
     "cell_type": "heading",
     "level": 2,
     "metadata": {},
     "source": [
      "4.11.3 sys.argv"
     ]
    },
    {
     "cell_type": "markdown",
     "metadata": {},
     "source": [
      "http://people.duke.edu/~ccc14/pcfb/modules.html#sys-argv<br>\n",
      "https://docs.python.org/2/library/sys.html"
     ]
    },
    {
     "cell_type": "code",
     "collapsed": false,
     "input": [
      "!cat 'argv_example.py' "
     ],
     "language": "python",
     "metadata": {},
     "outputs": [
      {
       "output_type": "stream",
       "stream": "stdout",
       "text": [
        "import sys\n",
        "if len(sys.argv) > 1:\n",
        "  print sys.argv\n",
        "else:\n",
        "  print 'no arguments passed'\n"
       ]
      }
     ],
     "prompt_number": 63
    },
    {
     "cell_type": "code",
     "collapsed": false,
     "input": [
      "%load 'argv_example.py'   "
     ],
     "language": "python",
     "metadata": {},
     "outputs": [],
     "prompt_number": 200
    },
    {
     "cell_type": "code",
     "collapsed": false,
     "input": [],
     "language": "python",
     "metadata": {},
     "outputs": []
    },
    {
     "cell_type": "code",
     "collapsed": false,
     "input": [
      "import sys\n",
      "if len(sys.argv) > 1:\n",
      "  print sys.argv\n",
      "else:\n",
      "  print 'no arguments passed'"
     ],
     "language": "python",
     "metadata": {},
     "outputs": [
      {
       "output_type": "stream",
       "stream": "stdout",
       "text": [
        "['-c', '-f', 'C:\\\\Users\\\\user\\\\.ipython\\\\profile_mynbserver\\\\security\\\\kernel-9c6b0fb7-b6f7-4e0d-ab15-3493c1360aac.json', \"--IPKernelApp.parent_appname='ipython-notebook'\", '--profile-dir', 'C:\\\\Users\\\\user\\\\.ipython\\\\profile_mynbserver', '--interrupt=760', '--parent=756']\n"
       ]
      }
     ],
     "prompt_number": 201
    },
    {
     "cell_type": "raw",
     "metadata": {},
     "source": [
      "\n",
      "[jacob@moku ~]$ python argv_example.py foo bar baz\n",
      "['argv_example.py', 'foo', 'bar', 'baz']"
     ]
    },
    {
     "cell_type": "raw",
     "metadata": {},
     "source": [
      "\n",
      "C:\\Users\\user>python argv_example.py kk yy\n",
      "['argv_example.py', 'kk', 'yy']"
     ]
    },
    {
     "cell_type": "code",
     "collapsed": false,
     "input": [
      "import sys\n",
      "sys.version"
     ],
     "language": "python",
     "metadata": {},
     "outputs": [
      {
       "metadata": {},
       "output_type": "pyout",
       "prompt_number": 3,
       "text": [
        "'2.7.7 (default, Jun  1 2014, 14:17:13) [MSC v.1500 32 bit (Intel)]'"
       ]
      }
     ],
     "prompt_number": 3
    },
    {
     "cell_type": "code",
     "collapsed": false,
     "input": [
      "import sys\n",
      "sys.getdefaultencoding()"
     ],
     "language": "python",
     "metadata": {},
     "outputs": [
      {
       "metadata": {},
       "output_type": "pyout",
       "prompt_number": 4,
       "text": [
        "'ascii'"
       ]
      }
     ],
     "prompt_number": 4
    },
    {
     "cell_type": "heading",
     "level": 2,
     "metadata": {},
     "source": [
      "4.11.4 glob module"
     ]
    },
    {
     "cell_type": "markdown",
     "metadata": {},
     "source": [
      "http://people.duke.edu/~ccc14/pcfb/modules.html#glob-module<br>\n",
      "https://docs.python.org/2/library/glob.html"
     ]
    },
    {
     "cell_type": "code",
     "collapsed": false,
     "input": [
      "import glob\n",
      "for file in glob.glob('./*.txt'):\n",
      "    print file"
     ],
     "language": "python",
     "metadata": {},
     "outputs": [
      {
       "output_type": "stream",
       "stream": "stdout",
       "text": [
        ".\\csv.txt\n",
        ".\\test.txt\n"
       ]
      }
     ],
     "prompt_number": 203
    },
    {
     "cell_type": "code",
     "collapsed": false,
     "input": [
      "glob.glob('./*.txt')"
     ],
     "language": "python",
     "metadata": {},
     "outputs": [
      {
       "metadata": {},
       "output_type": "pyout",
       "prompt_number": 204,
       "text": [
        "['.\\\\csv.txt', '.\\\\test.txt']"
       ]
      }
     ],
     "prompt_number": 204
    },
    {
     "cell_type": "heading",
     "level": 2,
     "metadata": {},
     "source": [
      "4.11.5 math module"
     ]
    },
    {
     "cell_type": "markdown",
     "metadata": {},
     "source": [
      "http://people.duke.edu/~ccc14/pcfb/modules.html#math-module<br>\n",
      "https://docs.python.org/2/library/math.html"
     ]
    },
    {
     "cell_type": "code",
     "collapsed": false,
     "input": [
      "import math\n",
      "math.e"
     ],
     "language": "python",
     "metadata": {},
     "outputs": [
      {
       "metadata": {},
       "output_type": "pyout",
       "prompt_number": 6,
       "text": [
        "2.718281828459045"
       ]
      }
     ],
     "prompt_number": 6
    },
    {
     "cell_type": "code",
     "collapsed": false,
     "input": [
      "math.pi"
     ],
     "language": "python",
     "metadata": {},
     "outputs": [
      {
       "metadata": {},
       "output_type": "pyout",
       "prompt_number": 7,
       "text": [
        "3.141592653589793"
       ]
      }
     ],
     "prompt_number": 7
    },
    {
     "cell_type": "code",
     "collapsed": false,
     "input": [
      "math.log10(100)"
     ],
     "language": "python",
     "metadata": {},
     "outputs": [
      {
       "metadata": {},
       "output_type": "pyout",
       "prompt_number": 8,
       "text": [
        "2.0"
       ]
      }
     ],
     "prompt_number": 8
    },
    {
     "cell_type": "code",
     "collapsed": false,
     "input": [
      "math.log(math.e)"
     ],
     "language": "python",
     "metadata": {},
     "outputs": [
      {
       "metadata": {},
       "output_type": "pyout",
       "prompt_number": 9,
       "text": [
        "1.0"
       ]
      }
     ],
     "prompt_number": 9
    },
    {
     "cell_type": "code",
     "collapsed": false,
     "input": [
      "math.cos(math.pi)"
     ],
     "language": "python",
     "metadata": {},
     "outputs": [
      {
       "metadata": {},
       "output_type": "pyout",
       "prompt_number": 10,
       "text": [
        "-1.0"
       ]
      }
     ],
     "prompt_number": 10
    },
    {
     "cell_type": "code",
     "collapsed": false,
     "input": [
      "math.exp(1)"
     ],
     "language": "python",
     "metadata": {},
     "outputs": [
      {
       "metadata": {},
       "output_type": "pyout",
       "prompt_number": 11,
       "text": [
        "2.718281828459045"
       ]
      }
     ],
     "prompt_number": 11
    },
    {
     "cell_type": "code",
     "collapsed": false,
     "input": [
      "math.pow(5,2)"
     ],
     "language": "python",
     "metadata": {},
     "outputs": [
      {
       "metadata": {},
       "output_type": "pyout",
       "prompt_number": 12,
       "text": [
        "25.0"
       ]
      }
     ],
     "prompt_number": 12
    },
    {
     "cell_type": "code",
     "collapsed": false,
     "input": [
      "math.sin(math.pi)"
     ],
     "language": "python",
     "metadata": {},
     "outputs": [
      {
       "metadata": {},
       "output_type": "pyout",
       "prompt_number": 13,
       "text": [
        "1.2246467991473532e-16"
       ]
      }
     ],
     "prompt_number": 13
    },
    {
     "cell_type": "heading",
     "level": 2,
     "metadata": {},
     "source": [
      "4.11.6 re (regular expressions)"
     ]
    },
    {
     "cell_type": "markdown",
     "metadata": {},
     "source": [
      "http://people.duke.edu/~ccc14/pcfb/modules.html#re-regular-expressions<br>\n",
      "https://docs.python.org/2/library/re.html"
     ]
    },
    {
     "cell_type": "markdown",
     "metadata": {},
     "source": [
      "\ucc38\uace0 \uc0ac\uc774\ud2b8 --- http://devanix.tistory.com/296"
     ]
    },
    {
     "cell_type": "code",
     "collapsed": false,
     "input": [
      "import re\n",
      "m = re.search('games', 'all fun and games')\n",
      "m.group()"
     ],
     "language": "python",
     "metadata": {},
     "outputs": [
      {
       "metadata": {},
       "output_type": "pyout",
       "prompt_number": 28,
       "text": [
        "'games'"
       ]
      }
     ],
     "prompt_number": 28
    },
    {
     "cell_type": "code",
     "collapsed": false,
     "input": [
      "re.findall('[1234567890]+','12 drummers drumming, 11 pipers piping, 101 lords a-leaping')"
     ],
     "language": "python",
     "metadata": {},
     "outputs": [
      {
       "metadata": {},
       "output_type": "pyout",
       "prompt_number": 49,
       "text": [
        "['12', '11', '101']"
       ]
      }
     ],
     "prompt_number": 49
    },
    {
     "cell_type": "heading",
     "level": 2,
     "metadata": {},
     "source": [
      "4.11.7 datetime and time"
     ]
    },
    {
     "cell_type": "markdown",
     "metadata": {},
     "source": [
      "http://people.duke.edu/~ccc14/pcfb/modules.html#datetime-and-time<br>\n",
      "https://docs.python.org/2/library/datetime.html<br>\n",
      "https://docs.python.org/2/library/time.html"
     ]
    },
    {
     "cell_type": "markdown",
     "metadata": {},
     "source": [
      "\ucc38\uace0\uc0ac\uc774\ud2b8 --- http://devanix.tistory.com/306"
     ]
    },
    {
     "cell_type": "code",
     "collapsed": false,
     "input": [
      "import datetime\n",
      "\n",
      "a = datetime.time(8,30)\n",
      "b = datetime.time(9,45)\n",
      "\n",
      "print b>a\n",
      "print a\n",
      "print b"
     ],
     "language": "python",
     "metadata": {},
     "outputs": [
      {
       "output_type": "stream",
       "stream": "stdout",
       "text": [
        "True\n",
        "08:30:00\n",
        "09:45:00\n"
       ]
      }
     ],
     "prompt_number": 19
    },
    {
     "cell_type": "code",
     "collapsed": false,
     "input": [
      "datetime.date.today()"
     ],
     "language": "python",
     "metadata": {},
     "outputs": [
      {
       "metadata": {},
       "output_type": "pyout",
       "prompt_number": 209,
       "text": [
        "datetime.date(2014, 6, 30)"
       ]
      }
     ],
     "prompt_number": 209
    },
    {
     "cell_type": "code",
     "collapsed": false,
     "input": [
      "import time\n",
      "\n",
      "a = time.time()\n",
      "print 'a = ', a\n",
      "\n",
      "time.sleep(3)   # 3\ucd08\uac04 \ub300\uae30...\n",
      "\n",
      "b = time.time()\n",
      "print 'b = ', b\n",
      "print '\uc2dc\uac04\ucc28 : ', b-a"
     ],
     "language": "python",
     "metadata": {},
     "outputs": [
      {
       "output_type": "stream",
       "stream": "stdout",
       "text": [
        "a =  1403771924.87\n",
        "b = "
       ]
      },
      {
       "output_type": "stream",
       "stream": "stdout",
       "text": [
        " 1403771927.87\n",
        "\uc2dc\uac04\ucc28 :  3.0\n"
       ]
      }
     ],
     "prompt_number": 23
    },
    {
     "cell_type": "heading",
     "level": 2,
     "metadata": {},
     "source": [
      "4.11.8 pickling and unpickling\n"
     ]
    },
    {
     "cell_type": "markdown",
     "metadata": {},
     "source": [
      "http://people.duke.edu/~ccc14/pcfb/modules.html#pickling-and-unpickling<br>\n",
      "https://docs.python.org/2/library/pickle.html"
     ]
    },
    {
     "cell_type": "code",
     "collapsed": false,
     "input": [
      "import pickle\n",
      "\n",
      "adict = {'a': [1,2,3], 'b' : [4,5,6]}\n",
      "\n",
      "pickle.dump(adict, open('adict.pic', 'w'))   # https://docs.python.org/2/library/pickle.html#pickle.dump\n",
      "\n",
      "del adict\n",
      "adict"
     ],
     "language": "python",
     "metadata": {},
     "outputs": [
      {
       "ename": "NameError",
       "evalue": "name 'adict' is not defined",
       "output_type": "pyerr",
       "traceback": [
        "\u001b[1;31m---------------------------------------------------------------------------\u001b[0m\n\u001b[1;31mNameError\u001b[0m                                 Traceback (most recent call last)",
        "\u001b[1;32m<ipython-input-50-23e7ccb61059>\u001b[0m in \u001b[0;36m<module>\u001b[1;34m()\u001b[0m\n\u001b[0;32m      6\u001b[0m \u001b[1;33m\u001b[0m\u001b[0m\n\u001b[0;32m      7\u001b[0m \u001b[1;32mdel\u001b[0m \u001b[0madict\u001b[0m\u001b[1;33m\u001b[0m\u001b[0m\n\u001b[1;32m----> 8\u001b[1;33m \u001b[0madict\u001b[0m\u001b[1;33m\u001b[0m\u001b[0m\n\u001b[0m",
        "\u001b[1;31mNameError\u001b[0m: name 'adict' is not defined"
       ]
      }
     ],
     "prompt_number": 50
    },
    {
     "cell_type": "code",
     "collapsed": false,
     "input": [
      "adict = pickle.load(open('adict.pic'))\n",
      "adict"
     ],
     "language": "python",
     "metadata": {},
     "outputs": [
      {
       "metadata": {},
       "output_type": "pyout",
       "prompt_number": 25,
       "text": [
        "{'a': [1, 2, 3], 'b': [4, 5, 6]}"
       ]
      }
     ],
     "prompt_number": 25
    },
    {
     "cell_type": "heading",
     "level": 2,
     "metadata": {},
     "source": [
      "4.11.9 pypi (formerly cheese shop)"
     ]
    },
    {
     "cell_type": "heading",
     "level": 5,
     "metadata": {},
     "source": [
      "https://pypi.python.org/pypi"
     ]
    },
    {
     "cell_type": "markdown",
     "metadata": {},
     "source": [
      "<br><br><br><br><br><br>\n",
      "\n",
      "\n"
     ]
    },
    {
     "cell_type": "heading",
     "level": 1,
     "metadata": {},
     "source": [
      "4.12 NumPy and Matplotlib"
     ]
    },
    {
     "cell_type": "heading",
     "level": 5,
     "metadata": {},
     "source": [
      "http://people.duke.edu/~ccc14/pcfb/numerics.html"
     ]
    },
    {
     "cell_type": "heading",
     "level": 2,
     "metadata": {},
     "source": [
      "4.12.1 NumPy - numeric computing"
     ]
    },
    {
     "cell_type": "heading",
     "level": 3,
     "metadata": {},
     "source": [
      "NumPy - array (\ubc30\uc5f4)"
     ]
    },
    {
     "cell_type": "heading",
     "level": 5,
     "metadata": {},
     "source": [
      "http://people.duke.edu/~ccc14/pcfb/numpympl/Arrays.html"
     ]
    },
    {
     "cell_type": "code",
     "collapsed": false,
     "input": [
      "import numpy as np\n",
      "x = np.array([[1,2,3],[4,5,6],[7,8,9]])\n",
      "x"
     ],
     "language": "python",
     "metadata": {},
     "outputs": [
      {
       "metadata": {},
       "output_type": "pyout",
       "prompt_number": 7,
       "text": [
        "array([[1, 2, 3],\n",
        "       [4, 5, 6],\n",
        "       [7, 8, 9]])"
       ]
      }
     ],
     "prompt_number": 7
    },
    {
     "cell_type": "code",
     "collapsed": false,
     "input": [
      "type(x)"
     ],
     "language": "python",
     "metadata": {},
     "outputs": [
      {
       "metadata": {},
       "output_type": "pyout",
       "prompt_number": 20,
       "text": [
        "numpy.ndarray"
       ]
      }
     ],
     "prompt_number": 20
    },
    {
     "cell_type": "code",
     "collapsed": false,
     "input": [
      "x.shape    # Tuple of array dimensions. -- http://docs.scipy.org/doc/numpy/reference/generated/numpy.ndarray.shape.html"
     ],
     "language": "python",
     "metadata": {},
     "outputs": [
      {
       "metadata": {},
       "output_type": "pyout",
       "prompt_number": 8,
       "text": [
        "(3, 3)"
       ]
      }
     ],
     "prompt_number": 8
    },
    {
     "cell_type": "code",
     "collapsed": false,
     "input": [
      "x.ndim   # Number of array dimensions.   - http://docs.scipy.org/doc/numpy/reference/generated/numpy.ndarray.ndim.html"
     ],
     "language": "python",
     "metadata": {},
     "outputs": [
      {
       "metadata": {},
       "output_type": "pyout",
       "prompt_number": 9,
       "text": [
        "2"
       ]
      }
     ],
     "prompt_number": 9
    },
    {
     "cell_type": "code",
     "collapsed": false,
     "input": [
      "x.size    # Number of elements in the array."
     ],
     "language": "python",
     "metadata": {},
     "outputs": [
      {
       "metadata": {},
       "output_type": "pyout",
       "prompt_number": 10,
       "text": [
        "9"
       ]
      }
     ],
     "prompt_number": 10
    },
    {
     "cell_type": "code",
     "collapsed": false,
     "input": [
      "x.sum(axis=0)     # Sum of array elements over a given axis."
     ],
     "language": "python",
     "metadata": {},
     "outputs": [
      {
       "metadata": {},
       "output_type": "pyout",
       "prompt_number": 11,
       "text": [
        "array([12, 15, 18])"
       ]
      }
     ],
     "prompt_number": 11
    },
    {
     "cell_type": "code",
     "collapsed": false,
     "input": [
      "x.sum(axis=1)"
     ],
     "language": "python",
     "metadata": {},
     "outputs": [
      {
       "metadata": {},
       "output_type": "pyout",
       "prompt_number": 12,
       "text": [
        "array([ 6, 15, 24])"
       ]
      }
     ],
     "prompt_number": 12
    },
    {
     "cell_type": "code",
     "collapsed": false,
     "input": [
      "x.mean(axis=0)    # Compute the arithmetic mean along the specified axis."
     ],
     "language": "python",
     "metadata": {},
     "outputs": [
      {
       "metadata": {},
       "output_type": "pyout",
       "prompt_number": 13,
       "text": [
        "array([ 4.,  5.,  6.])"
       ]
      }
     ],
     "prompt_number": 13
    },
    {
     "cell_type": "code",
     "collapsed": false,
     "input": [
      "x.mean(axis=1)"
     ],
     "language": "python",
     "metadata": {},
     "outputs": [
      {
       "metadata": {},
       "output_type": "pyout",
       "prompt_number": 14,
       "text": [
        "array([ 2.,  5.,  8.])"
       ]
      }
     ],
     "prompt_number": 14
    },
    {
     "cell_type": "code",
     "collapsed": false,
     "input": [
      "np.arange(10)   # Return evenly spaced values within a given interval."
     ],
     "language": "python",
     "metadata": {},
     "outputs": [
      {
       "metadata": {},
       "output_type": "pyout",
       "prompt_number": 15,
       "text": [
        "array([0, 1, 2, 3, 4, 5, 6, 7, 8, 9])"
       ]
      }
     ],
     "prompt_number": 15
    },
    {
     "cell_type": "code",
     "collapsed": false,
     "input": [
      "np.arange(5,10)"
     ],
     "language": "python",
     "metadata": {},
     "outputs": [
      {
       "metadata": {},
       "output_type": "pyout",
       "prompt_number": 16,
       "text": [
        "array([5, 6, 7, 8, 9])"
       ]
      }
     ],
     "prompt_number": 16
    },
    {
     "cell_type": "code",
     "collapsed": false,
     "input": [
      "np.arange(5,10,0.5)"
     ],
     "language": "python",
     "metadata": {},
     "outputs": [
      {
       "metadata": {},
       "output_type": "pyout",
       "prompt_number": 17,
       "text": [
        "array([ 5. ,  5.5,  6. ,  6.5,  7. ,  7.5,  8. ,  8.5,  9. ,  9.5])"
       ]
      }
     ],
     "prompt_number": 17
    },
    {
     "cell_type": "code",
     "collapsed": false,
     "input": [
      "x = np.arange(1,10).reshape(3,3)   # Gives a new shape to an array without changing its data.\n",
      "x"
     ],
     "language": "python",
     "metadata": {},
     "outputs": [
      {
       "metadata": {},
       "output_type": "pyout",
       "prompt_number": 19,
       "text": [
        "array([[1, 2, 3],\n",
        "       [4, 5, 6],\n",
        "       [7, 8, 9]])"
       ]
      }
     ],
     "prompt_number": 19
    },
    {
     "cell_type": "markdown",
     "metadata": {},
     "source": [
      "<br><br>http://docs.scipy.org/doc/numpy/reference/generated/numpy.linspace.html\n",
      "    \n",
      "<b> numpy.linspace</b>(start, stop, num=50, endpoint=True, retstep=False)<br>\n",
      "\n",
      "    Return evenly spaced numbers over a specified interval.\n",
      "\n",
      "    Returns num evenly spaced samples, calculated over the interval [start, stop ]."
     ]
    },
    {
     "cell_type": "code",
     "collapsed": false,
     "input": [
      "numpy.linspace?"
     ],
     "language": "python",
     "metadata": {},
     "outputs": [],
     "prompt_number": 15
    },
    {
     "cell_type": "code",
     "collapsed": false,
     "input": [
      "x = np.linspace(0,5,5)\n",
      "x"
     ],
     "language": "python",
     "metadata": {},
     "outputs": [
      {
       "metadata": {},
       "output_type": "pyout",
       "prompt_number": 21,
       "text": [
        "array([ 0.  ,  1.25,  2.5 ,  3.75,  5.  ])"
       ]
      }
     ],
     "prompt_number": 21
    },
    {
     "cell_type": "code",
     "collapsed": false,
     "input": [
      "import numpy as np\n",
      "import matplotlib.pyplot as plt\n",
      "\n",
      "fig = plt.figure()\n",
      "ax = fig.add_subplot(111)\n",
      "\n",
      "N = 8\n",
      "y = np.zeros(N)\n",
      "\n",
      "x1 = np.linspace(0, 10, N, endpoint=True)\n",
      "\n",
      "p1 = plt.plot(x1, y, 'o')\n",
      "ax.set_xlim([-0.5,10.5])\n",
      "\n",
      "plt.show()"
     ],
     "language": "python",
     "metadata": {},
     "outputs": [
      {
       "metadata": {},
       "output_type": "display_data",
       "png": "[encoded data removed]",
       "text": [
        "<matplotlib.figure.Figure at 0x689b210>"
       ]
      }
     ],
     "prompt_number": 16
    },
    {
     "cell_type": "code",
     "collapsed": false,
     "input": [
      "x = np.array([1,2,3])\n",
      "x.dtype"
     ],
     "language": "python",
     "metadata": {},
     "outputs": [
      {
       "metadata": {},
       "output_type": "pyout",
       "prompt_number": 24,
       "text": [
        "dtype('int32')"
       ]
      }
     ],
     "prompt_number": 24
    },
    {
     "cell_type": "code",
     "collapsed": false,
     "input": [
      "x"
     ],
     "language": "python",
     "metadata": {},
     "outputs": [
      {
       "metadata": {},
       "output_type": "pyout",
       "prompt_number": 25,
       "text": [
        "array([1, 2, 3])"
       ]
      }
     ],
     "prompt_number": 25
    },
    {
     "cell_type": "code",
     "collapsed": false,
     "input": [
      "x = np.array([0.1,0.2,0.3])\n",
      "x"
     ],
     "language": "python",
     "metadata": {},
     "outputs": [
      {
       "metadata": {},
       "output_type": "pyout",
       "prompt_number": 17,
       "text": [
        "array([ 0.1,  0.2,  0.3])"
       ]
      }
     ],
     "prompt_number": 17
    },
    {
     "cell_type": "code",
     "collapsed": false,
     "input": [
      "x.dtype"
     ],
     "language": "python",
     "metadata": {},
     "outputs": [
      {
       "metadata": {},
       "output_type": "pyout",
       "prompt_number": 18,
       "text": [
        "dtype('float64')"
       ]
      }
     ],
     "prompt_number": 18
    },
    {
     "cell_type": "code",
     "collapsed": false,
     "input": [
      "x = np.array([1,2,3],dtype='float64')\n",
      "x.dtype"
     ],
     "language": "python",
     "metadata": {},
     "outputs": [
      {
       "metadata": {},
       "output_type": "pyout",
       "prompt_number": 22,
       "text": [
        "dtype('float64')"
       ]
      }
     ],
     "prompt_number": 22
    },
    {
     "cell_type": "code",
     "collapsed": false,
     "input": [
      "x"
     ],
     "language": "python",
     "metadata": {},
     "outputs": [
      {
       "metadata": {},
       "output_type": "pyout",
       "prompt_number": 23,
       "text": [
        "array([ 1.,  2.,  3.])"
       ]
      }
     ],
     "prompt_number": 23
    },
    {
     "cell_type": "code",
     "collapsed": false,
     "input": [
      "x = np.zeros([3,4])    # Return a new array of given shape and type, filled with zeros.\n",
      "x"
     ],
     "language": "python",
     "metadata": {},
     "outputs": [
      {
       "metadata": {},
       "output_type": "pyout",
       "prompt_number": 33,
       "text": [
        "array([[ 0.,  0.,  0.,  0.],\n",
        "       [ 0.,  0.,  0.,  0.],\n",
        "       [ 0.,  0.,  0.,  0.]])"
       ]
      }
     ],
     "prompt_number": 33
    },
    {
     "cell_type": "code",
     "collapsed": false,
     "input": [
      "x = np.ones([3,4])   # Return a new array of given shape and type, filled with ones.\n",
      "x"
     ],
     "language": "python",
     "metadata": {},
     "outputs": [
      {
       "metadata": {},
       "output_type": "pyout",
       "prompt_number": 34,
       "text": [
        "array([[ 1.,  1.,  1.,  1.],\n",
        "       [ 1.,  1.,  1.,  1.],\n",
        "       [ 1.,  1.,  1.,  1.]])"
       ]
      }
     ],
     "prompt_number": 34
    },
    {
     "cell_type": "heading",
     "level": 3,
     "metadata": {},
     "source": [
      "NumPy - basics"
     ]
    },
    {
     "cell_type": "heading",
     "level": 6,
     "metadata": {},
     "source": [
      "http://people.duke.edu/~ccc14/pcfb/numpympl/NumpyBasics.html"
     ]
    },
    {
     "cell_type": "markdown",
     "metadata": {},
     "source": [
      "<table border=\"1\" class=\"docutils\">\n",
      "<colgroup>\n",
      "<col width=\"36%\" />\n",
      "<col width=\"64%\" />\n",
      "</colgroup>\n",
      "<thead valign=\"bottom\">\n",
      "<tr class=\"row-odd\"><th class=\"head\">NumPy command</th>\n",
      "<th class=\"head\">Note</th>\n",
      "</tr>\n",
      "</thead>\n",
      "<tbody valign=\"top\">\n",
      "<tr class=\"row-even\"><td>a.ndim</td>\n",
      "<td>returns the num. of dimensions</td>\n",
      "</tr>\n",
      "<tr class=\"row-odd\"><td>a.shape</td>\n",
      "<td>returns the num. of rows and colums</td>\n",
      "</tr>\n",
      "<tr class=\"row-even\"><td>arange(start,stop,step)</td>\n",
      "<td>returns a sequence vector</td>\n",
      "</tr>\n",
      "<tr class=\"row-odd\"><td>linspace(start,stop,steps)</td>\n",
      "<td>returns a evenly spaced sequence in the specificed interval</td>\n",
      "</tr>\n",
      "<tr class=\"row-even\"><td>dot(a,b)</td>\n",
      "<td>matrix multiplication</td>\n",
      "</tr>\n",
      "<tr class=\"row-odd\"><td>vstack([a,b])</td>\n",
      "<td>stack arrays a and b vertically</td>\n",
      "</tr>\n",
      "<tr class=\"row-even\"><td>hstack([a,b])</td>\n",
      "<td>stack arrays a and b horizontally</td>\n",
      "</tr>\n",
      "<tr class=\"row-odd\"><td>where(a&gt;x)</td>\n",
      "<td>returns elements from an array depending on condition</td>\n",
      "</tr>\n",
      "<tr class=\"row-even\"><td>argsort(a)</td>\n",
      "<td>returns the sorted indices of an input array</td>\n",
      "</tr>\n",
      "</tbody>\n",
      "</table>"
     ]
    },
    {
     "cell_type": "code",
     "collapsed": false,
     "input": [
      "a = np.array([3,4,5])\n",
      "b = np.ones(3)"
     ],
     "language": "python",
     "metadata": {},
     "outputs": [],
     "prompt_number": 43
    },
    {
     "cell_type": "code",
     "collapsed": false,
     "input": [
      "a"
     ],
     "language": "python",
     "metadata": {},
     "outputs": [
      {
       "metadata": {},
       "output_type": "pyout",
       "prompt_number": 39,
       "text": [
        "array([3, 4, 5])"
       ]
      }
     ],
     "prompt_number": 39
    },
    {
     "cell_type": "code",
     "collapsed": false,
     "input": [
      "b"
     ],
     "language": "python",
     "metadata": {},
     "outputs": [
      {
       "metadata": {},
       "output_type": "pyout",
       "prompt_number": 40,
       "text": [
        "array([ 1.,  1.,  1.])"
       ]
      }
     ],
     "prompt_number": 40
    },
    {
     "cell_type": "code",
     "collapsed": false,
     "input": [
      "a - b"
     ],
     "language": "python",
     "metadata": {},
     "outputs": [
      {
       "metadata": {},
       "output_type": "pyout",
       "prompt_number": 42,
       "text": [
        "array([ 2.,  3.,  4.])"
       ]
      }
     ],
     "prompt_number": 42
    },
    {
     "cell_type": "code",
     "collapsed": false,
     "input": [
      "a = np.array([[1,2],[3,4]])\n",
      "b = np.array([[1,2],[3,4]])\n",
      "a"
     ],
     "language": "python",
     "metadata": {},
     "outputs": [
      {
       "metadata": {},
       "output_type": "pyout",
       "prompt_number": 44,
       "text": [
        "array([[1, 2],\n",
        "       [3, 4]])"
       ]
      }
     ],
     "prompt_number": 44
    },
    {
     "cell_type": "code",
     "collapsed": false,
     "input": [
      "b"
     ],
     "language": "python",
     "metadata": {},
     "outputs": [
      {
       "metadata": {},
       "output_type": "pyout",
       "prompt_number": 45,
       "text": [
        "array([[1, 2],\n",
        "       [3, 4]])"
       ]
      }
     ],
     "prompt_number": 45
    },
    {
     "cell_type": "code",
     "collapsed": false,
     "input": [
      "a*b"
     ],
     "language": "python",
     "metadata": {},
     "outputs": [
      {
       "metadata": {},
       "output_type": "pyout",
       "prompt_number": 46,
       "text": [
        "array([[ 1,  4],\n",
        "       [ 9, 16]])"
       ]
      }
     ],
     "prompt_number": 46
    },
    {
     "cell_type": "code",
     "collapsed": false,
     "input": [
      "np.dot(a,b)     # \ud589\ub82c \uacf1"
     ],
     "language": "python",
     "metadata": {},
     "outputs": [
      {
       "metadata": {},
       "output_type": "pyout",
       "prompt_number": 47,
       "text": [
        "array([[ 7, 10],\n",
        "       [15, 22]])"
       ]
      }
     ],
     "prompt_number": 47
    },
    {
     "cell_type": "code",
     "collapsed": false,
     "input": [
      "a = np.zeros((2,2),dtype='float')\n",
      "a"
     ],
     "language": "python",
     "metadata": {},
     "outputs": [
      {
       "metadata": {},
       "output_type": "pyout",
       "prompt_number": 48,
       "text": [
        "array([[ 0.,  0.],\n",
        "       [ 0.,  0.]])"
       ]
      }
     ],
     "prompt_number": 48
    },
    {
     "cell_type": "code",
     "collapsed": false,
     "input": [
      "a += 5\n",
      "a"
     ],
     "language": "python",
     "metadata": {},
     "outputs": [
      {
       "metadata": {},
       "output_type": "pyout",
       "prompt_number": 49,
       "text": [
        "array([[ 5.,  5.],\n",
        "       [ 5.,  5.]])"
       ]
      }
     ],
     "prompt_number": 49
    },
    {
     "cell_type": "code",
     "collapsed": false,
     "input": [
      "a *= 5\n",
      "a"
     ],
     "language": "python",
     "metadata": {},
     "outputs": [
      {
       "metadata": {},
       "output_type": "pyout",
       "prompt_number": 50,
       "text": [
        "array([[ 25.,  25.],\n",
        "       [ 25.,  25.]])"
       ]
      }
     ],
     "prompt_number": 50
    },
    {
     "cell_type": "code",
     "collapsed": false,
     "input": [
      "a + a"
     ],
     "language": "python",
     "metadata": {},
     "outputs": [
      {
       "metadata": {},
       "output_type": "pyout",
       "prompt_number": 51,
       "text": [
        "array([[ 50.,  50.],\n",
        "       [ 50.,  50.]])"
       ]
      }
     ],
     "prompt_number": 51
    },
    {
     "cell_type": "markdown",
     "metadata": {},
     "source": [
      "<br><b> Concatenation </b><br>"
     ]
    },
    {
     "cell_type": "code",
     "collapsed": false,
     "input": [
      "a = np.array([1,2,3])\n",
      "b = np.array([4,5,6])\n",
      "c = np.array([7,8,9])\n",
      "a, b, c"
     ],
     "language": "python",
     "metadata": {},
     "outputs": [
      {
       "metadata": {},
       "output_type": "pyout",
       "prompt_number": 53,
       "text": [
        "(array([1, 2, 3]), array([4, 5, 6]), array([7, 8, 9]))"
       ]
      }
     ],
     "prompt_number": 53
    },
    {
     "cell_type": "code",
     "collapsed": false,
     "input": [
      "np.hstack([a,b,c])    # Stack arrays in sequence horizontally (column wise)."
     ],
     "language": "python",
     "metadata": {},
     "outputs": [
      {
       "metadata": {},
       "output_type": "pyout",
       "prompt_number": 54,
       "text": [
        "array([1, 2, 3, 4, 5, 6, 7, 8, 9])"
       ]
      }
     ],
     "prompt_number": 54
    },
    {
     "cell_type": "code",
     "collapsed": false,
     "input": [
      "np.vstack([a,b,c])"
     ],
     "language": "python",
     "metadata": {},
     "outputs": [
      {
       "metadata": {},
       "output_type": "pyout",
       "prompt_number": 55,
       "text": [
        "array([[1, 2, 3],\n",
        "       [4, 5, 6],\n",
        "       [7, 8, 9]])"
       ]
      }
     ],
     "prompt_number": 55
    },
    {
     "cell_type": "markdown",
     "metadata": {},
     "source": [
      "<br><b> Sorting arrays </b><br>"
     ]
    },
    {
     "cell_type": "code",
     "collapsed": false,
     "input": [
      "x = np.array(([1,3,4,0,0,5]))\n",
      "x"
     ],
     "language": "python",
     "metadata": {},
     "outputs": [
      {
       "metadata": {},
       "output_type": "pyout",
       "prompt_number": 59,
       "text": [
        "array([1, 3, 4, 0, 0, 5])"
       ]
      }
     ],
     "prompt_number": 59
    },
    {
     "cell_type": "markdown",
     "metadata": {},
     "source": [
      "ndarray.sort(axis=-1, kind='quicksort', order=None) <br>\n",
      "http://docs.scipy.org/doc/numpy/reference/generated/numpy.ndarray.sort.html#numpy.ndarray.sort"
     ]
    },
    {
     "cell_type": "code",
     "collapsed": false,
     "input": [
      "x.sort()   # Sort an array, in-place. \n",
      "x"
     ],
     "language": "python",
     "metadata": {},
     "outputs": [
      {
       "metadata": {},
       "output_type": "pyout",
       "prompt_number": 65,
       "text": [
        "array([0, 0, 1, 3, 4, 5])"
       ]
      }
     ],
     "prompt_number": 65
    },
    {
     "cell_type": "code",
     "collapsed": false,
     "input": [
      "np.argsort(x)"
     ],
     "language": "python",
     "metadata": {},
     "outputs": [
      {
       "metadata": {},
       "output_type": "pyout",
       "prompt_number": 66,
       "text": [
        "array([0, 1, 2, 3, 4, 5])"
       ]
      }
     ],
     "prompt_number": 66
    },
    {
     "cell_type": "code",
     "collapsed": false,
     "input": [
      "x = np.array(([1,3,4,0,0,5]))\n",
      "x"
     ],
     "language": "python",
     "metadata": {},
     "outputs": [
      {
       "metadata": {},
       "output_type": "pyout",
       "prompt_number": 69,
       "text": [
        "array([1, 3, 4, 0, 0, 5])"
       ]
      }
     ],
     "prompt_number": 69
    },
    {
     "cell_type": "code",
     "collapsed": false,
     "input": [
      "np.argsort(x)  # ????"
     ],
     "language": "python",
     "metadata": {},
     "outputs": [
      {
       "metadata": {},
       "output_type": "pyout",
       "prompt_number": 70,
       "text": [
        "array([3, 4, 0, 1, 2, 5])"
       ]
      }
     ],
     "prompt_number": 70
    },
    {
     "cell_type": "markdown",
     "metadata": {},
     "source": [
      "\ud574\uc11d : \ubc30\uc5f4 x \uc758 3\ubc88\uc9f8\uc694\uc18c(0)\uac00 \uac00\uc7a5 \uc791\uace0, \uadf8 \ub2e4\uc74c\uc740 4\ubc88\uc9f8\uc694\uc18c (0), \uadf8 \ub2e4\uc74c\uc740 0\ubc88\uc9f8 \uc694\uc18c(1), \uadf8 \ub2e4\uc74c\uc740 1\ubc88\uc9f8 \uc694\uc18c(3), \uadf8\ub2e4\uc74c\uc740 2\ubc88\uc9f8\uc694\uc18c(4), \ub9c8\uc9c0\ub9c9\uc740 5\ubc88\uc9f8 \uc694\uc18c(5) \uc774\ub2e4."
     ]
    },
    {
     "cell_type": "markdown",
     "metadata": {},
     "source": [
      "argsort \ucc38\uace0 \uc0ac\uc774\ud2b8 : <br>\n",
      "http://stackoverflow.com/questions/17901218/numpy-argsort-what-is-it-doing <br><br>\n",
      "http://ysoh.wordpress.com/2012/07/24/python-2%EA%B0%9C%EC%9D%98-%EB%A6%AC%EC%8A%A4%ED%8A%B8-%EC%A0%95%EB%A0%AC-%ED%95%98%EA%B8%B0/ \n"
     ]
    },
    {
     "cell_type": "heading",
     "level": 6,
     "metadata": {},
     "source": [
      "<br><b> Common math functions </b><br>"
     ]
    },
    {
     "cell_type": "code",
     "collapsed": false,
     "input": [
      "x = np.arange(1,5)\n",
      "x"
     ],
     "language": "python",
     "metadata": {},
     "outputs": [
      {
       "metadata": {},
       "output_type": "pyout",
       "prompt_number": 71,
       "text": [
        "array([1, 2, 3, 4])"
       ]
      }
     ],
     "prompt_number": 71
    },
    {
     "cell_type": "code",
     "collapsed": false,
     "input": [
      "np.sqrt(x) * np.pi"
     ],
     "language": "python",
     "metadata": {},
     "outputs": [
      {
       "metadata": {},
       "output_type": "pyout",
       "prompt_number": 72,
       "text": [
        "array([ 3.14159265,  4.44288294,  5.44139809,  6.28318531])"
       ]
      }
     ],
     "prompt_number": 72
    },
    {
     "cell_type": "code",
     "collapsed": false,
     "input": [
      "2**4"
     ],
     "language": "python",
     "metadata": {},
     "outputs": [
      {
       "metadata": {},
       "output_type": "pyout",
       "prompt_number": 73,
       "text": [
        "16"
       ]
      }
     ],
     "prompt_number": 73
    },
    {
     "cell_type": "code",
     "collapsed": false,
     "input": [
      "np.power(2,4)"
     ],
     "language": "python",
     "metadata": {},
     "outputs": [
      {
       "metadata": {},
       "output_type": "pyout",
       "prompt_number": 74,
       "text": [
        "16"
       ]
      }
     ],
     "prompt_number": 74
    },
    {
     "cell_type": "code",
     "collapsed": false,
     "input": [
      "np.log(np.e)"
     ],
     "language": "python",
     "metadata": {},
     "outputs": [
      {
       "metadata": {},
       "output_type": "pyout",
       "prompt_number": 75,
       "text": [
        "1.0"
       ]
      }
     ],
     "prompt_number": 75
    },
    {
     "cell_type": "code",
     "collapsed": false,
     "input": [
      "x = np.arange(5)\n",
      "x"
     ],
     "language": "python",
     "metadata": {},
     "outputs": [
      {
       "metadata": {},
       "output_type": "pyout",
       "prompt_number": 78,
       "text": [
        "array([0, 1, 2, 3, 4])"
       ]
      }
     ],
     "prompt_number": 78
    },
    {
     "cell_type": "code",
     "collapsed": false,
     "input": [
      "x.max() - x.min()"
     ],
     "language": "python",
     "metadata": {},
     "outputs": [
      {
       "metadata": {},
       "output_type": "pyout",
       "prompt_number": 79,
       "text": [
        "4"
       ]
      }
     ],
     "prompt_number": 79
    },
    {
     "cell_type": "markdown",
     "metadata": {},
     "source": [
      "<br><font size =3> <b> Additional NumPy </b></font><br>"
     ]
    },
    {
     "cell_type": "markdown",
     "metadata": {},
     "source": [
      " <br><b> Indexing and Slicing </b><br>"
     ]
    },
    {
     "cell_type": "code",
     "collapsed": false,
     "input": [
      "a = np.arange(10)\n",
      "a"
     ],
     "language": "python",
     "metadata": {},
     "outputs": [
      {
       "metadata": {},
       "output_type": "pyout",
       "prompt_number": 81,
       "text": [
        "array([0, 1, 2, 3, 4, 5, 6, 7, 8, 9])"
       ]
      }
     ],
     "prompt_number": 81
    },
    {
     "cell_type": "code",
     "collapsed": false,
     "input": [
      "a[2:4]"
     ],
     "language": "python",
     "metadata": {},
     "outputs": [
      {
       "metadata": {},
       "output_type": "pyout",
       "prompt_number": 82,
       "text": [
        "array([2, 3])"
       ]
      }
     ],
     "prompt_number": 82
    },
    {
     "cell_type": "code",
     "collapsed": false,
     "input": [
      "a[:10:2]"
     ],
     "language": "python",
     "metadata": {},
     "outputs": [
      {
       "metadata": {},
       "output_type": "pyout",
       "prompt_number": 83,
       "text": [
        "array([0, 2, 4, 6, 8])"
       ]
      }
     ],
     "prompt_number": 83
    },
    {
     "cell_type": "code",
     "collapsed": false,
     "input": [
      "a[::-1]  # reverse"
     ],
     "language": "python",
     "metadata": {},
     "outputs": [
      {
       "metadata": {},
       "output_type": "pyout",
       "prompt_number": 85,
       "text": [
        "array([9, 8, 7, 6, 5, 4, 3, 2, 1, 0])"
       ]
      }
     ],
     "prompt_number": 85
    },
    {
     "cell_type": "code",
     "collapsed": false,
     "input": [
      "x = np.arange(12).reshape(3,4)\n",
      "x"
     ],
     "language": "python",
     "metadata": {},
     "outputs": [
      {
       "metadata": {},
       "output_type": "pyout",
       "prompt_number": 58,
       "text": [
        "array([[ 0,  1,  2,  3],\n",
        "       [ 4,  5,  6,  7],\n",
        "       [ 8,  9, 10, 11]])"
       ]
      }
     ],
     "prompt_number": 58
    },
    {
     "cell_type": "code",
     "collapsed": false,
     "input": [
      "x[2,3]"
     ],
     "language": "python",
     "metadata": {},
     "outputs": [
      {
       "metadata": {},
       "output_type": "pyout",
       "prompt_number": 87,
       "text": [
        "11"
       ]
      }
     ],
     "prompt_number": 87
    },
    {
     "cell_type": "code",
     "collapsed": false,
     "input": [
      "x[:,1]  # everything in the second row"
     ],
     "language": "python",
     "metadata": {},
     "outputs": [
      {
       "metadata": {},
       "output_type": "pyout",
       "prompt_number": 89,
       "text": [
        "array([1, 5, 9])"
       ]
      }
     ],
     "prompt_number": 89
    },
    {
     "cell_type": "code",
     "collapsed": false,
     "input": [
      "x[1,:]                       # everything in the second column"
     ],
     "language": "python",
     "metadata": {},
     "outputs": [
      {
       "metadata": {},
       "output_type": "pyout",
       "prompt_number": 90,
       "text": [
        "array([4, 5, 6, 7])"
       ]
      }
     ],
     "prompt_number": 90
    },
    {
     "cell_type": "code",
     "collapsed": false,
     "input": [
      "x[1:3,:]                     # second and third rows"
     ],
     "language": "python",
     "metadata": {},
     "outputs": [
      {
       "metadata": {},
       "output_type": "pyout",
       "prompt_number": 91,
       "text": [
        "array([[ 4,  5,  6,  7],\n",
        "       [ 8,  9, 10, 11]])"
       ]
      }
     ],
     "prompt_number": 91
    },
    {
     "cell_type": "markdown",
     "metadata": {},
     "source": [
      " <br><b> Where </b><br>"
     ]
    },
    {
     "cell_type": "markdown",
     "metadata": {},
     "source": [
      "http://students.mimuw.edu.pl/~pbechler/numpy_doc/reference/generated/numpy.where.html"
     ]
    },
    {
     "cell_type": "code",
     "collapsed": false,
     "input": [
      "a = np.array([1,1,1,2,2,2,3,3,3])\n",
      "a"
     ],
     "language": "python",
     "metadata": {},
     "outputs": [
      {
       "metadata": {},
       "output_type": "pyout",
       "prompt_number": 52,
       "text": [
        "array([1, 1, 1, 2, 2, 2, 3, 3, 3])"
       ]
      }
     ],
     "prompt_number": 52
    },
    {
     "cell_type": "code",
     "collapsed": false,
     "input": [
      "a[a>1]"
     ],
     "language": "python",
     "metadata": {},
     "outputs": [
      {
       "metadata": {},
       "output_type": "pyout",
       "prompt_number": 53,
       "text": [
        "array([2, 2, 2, 3, 3, 3])"
       ]
      }
     ],
     "prompt_number": 53
    },
    {
     "cell_type": "code",
     "collapsed": false,
     "input": [
      "a[a==3]"
     ],
     "language": "python",
     "metadata": {},
     "outputs": [
      {
       "metadata": {},
       "output_type": "pyout",
       "prompt_number": 54,
       "text": [
        "array([3, 3, 3])"
       ]
      }
     ],
     "prompt_number": 54
    },
    {
     "cell_type": "code",
     "collapsed": false,
     "input": [
      "np.where(a<3)"
     ],
     "language": "python",
     "metadata": {},
     "outputs": [
      {
       "metadata": {},
       "output_type": "pyout",
       "prompt_number": 55,
       "text": [
        "(array([0, 1, 2, 3, 4, 5]),)"
       ]
      }
     ],
     "prompt_number": 55
    },
    {
     "cell_type": "code",
     "collapsed": false,
     "input": [
      "np.where(a<3)[0]"
     ],
     "language": "python",
     "metadata": {},
     "outputs": [
      {
       "metadata": {},
       "output_type": "pyout",
       "prompt_number": 97,
       "text": [
        "array([0, 1, 2, 3, 4, 5])"
       ]
      }
     ],
     "prompt_number": 97
    },
    {
     "cell_type": "code",
     "collapsed": false,
     "input": [
      "np.where(a>9)"
     ],
     "language": "python",
     "metadata": {},
     "outputs": [
      {
       "metadata": {},
       "output_type": "pyout",
       "prompt_number": 98,
       "text": [
        "(array([], dtype=int32),)"
       ]
      }
     ],
     "prompt_number": 98
    },
    {
     "cell_type": "markdown",
     "metadata": {},
     "source": [
      "<br><b> Printing </b><br>"
     ]
    },
    {
     "cell_type": "code",
     "collapsed": false,
     "input": [
      "for row in x:\n",
      "    print row"
     ],
     "language": "python",
     "metadata": {},
     "outputs": [
      {
       "output_type": "stream",
       "stream": "stdout",
       "text": [
        "[0 1 2 3]\n",
        "[4 5 6 7]\n",
        "[ 8  9 10 11]\n"
       ]
      }
     ],
     "prompt_number": 59
    },
    {
     "cell_type": "code",
     "collapsed": false,
     "input": [
      "x.flat"
     ],
     "language": "python",
     "metadata": {},
     "outputs": [
      {
       "metadata": {},
       "output_type": "pyout",
       "prompt_number": 60,
       "text": [
        "<numpy.flatiter at 0x1d5df88>"
       ]
      }
     ],
     "prompt_number": 60
    },
    {
     "cell_type": "markdown",
     "metadata": {},
     "source": [
      "http://docs.scipy.org/doc/numpy/reference/generated/numpy.ndarray.flat.html<br>\n",
      "<b>numpy.ndarray.flat</b>    <br>\n",
      "   --- A 1-D iterator over the array."
     ]
    },
    {
     "cell_type": "code",
     "collapsed": false,
     "input": [
      "for element in x.flat:\n",
      "    print element"
     ],
     "language": "python",
     "metadata": {},
     "outputs": [
      {
       "output_type": "stream",
       "stream": "stdout",
       "text": [
        "0\n",
        "1\n",
        "2\n",
        "3\n",
        "4\n",
        "5\n",
        "6\n",
        "7\n",
        "8\n",
        "9\n",
        "10\n",
        "11\n"
       ]
      }
     ],
     "prompt_number": 61
    },
    {
     "cell_type": "markdown",
     "metadata": {},
     "source": [
      "<br><b> Copying </b><br>"
     ]
    },
    {
     "cell_type": "markdown",
     "metadata": {},
     "source": [
      "dtype='|S1'  --> 1-character string\n",
      "\n",
      "dtype='|S5'  --> 5-character string"
     ]
    },
    {
     "cell_type": "code",
     "collapsed": false,
     "input": [
      "tt = np.array(['abc','ddd','sadfs'])\n",
      "tt"
     ],
     "language": "python",
     "metadata": {},
     "outputs": [
      {
       "metadata": {},
       "output_type": "pyout",
       "prompt_number": 64,
       "text": [
        "array(['abc', 'ddd', 'sadfs'], \n",
        "      dtype='|S5')"
       ]
      }
     ],
     "prompt_number": 64
    },
    {
     "cell_type": "code",
     "collapsed": false,
     "input": [
      "a = np.array(['a','b','c'])\n",
      "a"
     ],
     "language": "python",
     "metadata": {},
     "outputs": [
      {
       "metadata": {},
       "output_type": "pyout",
       "prompt_number": 103,
       "text": [
        "array(['a', 'b', 'c'], \n",
        "      dtype='|S1')"
       ]
      }
     ],
     "prompt_number": 103
    },
    {
     "cell_type": "code",
     "collapsed": false,
     "input": [
      "b = a\n",
      "b"
     ],
     "language": "python",
     "metadata": {},
     "outputs": [
      {
       "metadata": {},
       "output_type": "pyout",
       "prompt_number": 105,
       "text": [
        "array(['a', 'z', 'c'], \n",
        "      dtype='|S1')"
       ]
      }
     ],
     "prompt_number": 105
    },
    {
     "cell_type": "code",
     "collapsed": false,
     "input": [
      "b[1] = 'z'  # b \uc758 \uac12\uc744 \ubc14\uafe8\ub294\ub370.\n",
      "b"
     ],
     "language": "python",
     "metadata": {},
     "outputs": [
      {
       "metadata": {},
       "output_type": "pyout",
       "prompt_number": 106,
       "text": [
        "array(['a', 'z', 'c'], \n",
        "      dtype='|S1')"
       ]
      }
     ],
     "prompt_number": 106
    },
    {
     "cell_type": "code",
     "collapsed": false,
     "input": [
      "a     # a \uc758 \uac12\ub3c4 \ubcc0\ud568."
     ],
     "language": "python",
     "metadata": {},
     "outputs": [
      {
       "metadata": {},
       "output_type": "pyout",
       "prompt_number": 107,
       "text": [
        "array(['a', 'z', 'c'], \n",
        "      dtype='|S1')"
       ]
      }
     ],
     "prompt_number": 107
    },
    {
     "cell_type": "markdown",
     "metadata": {},
     "source": [
      "<br><br>.. python deep copy \uc5ed\ud560 \ud544\uc694\ud568."
     ]
    },
    {
     "cell_type": "code",
     "collapsed": false,
     "input": [
      "a = np.array(['a','b','c'])\n",
      "b = a.copy()\n",
      "b[1] = 'z'\n",
      "b"
     ],
     "language": "python",
     "metadata": {},
     "outputs": [
      {
       "metadata": {},
       "output_type": "pyout",
       "prompt_number": 65,
       "text": [
        "array(['a', 'z', 'c'], \n",
        "      dtype='|S1')"
       ]
      }
     ],
     "prompt_number": 65
    },
    {
     "cell_type": "code",
     "collapsed": false,
     "input": [
      "a   # a \uc758 \uac12 \uc548\ubcc0\ud568."
     ],
     "language": "python",
     "metadata": {},
     "outputs": [
      {
       "metadata": {},
       "output_type": "pyout",
       "prompt_number": 66,
       "text": [
        "array(['a', 'b', 'c'], \n",
        "      dtype='|S1')"
       ]
      }
     ],
     "prompt_number": 66
    },
    {
     "cell_type": "markdown",
     "metadata": {},
     "source": [
      " <br><b> Missing data </b><br>"
     ]
    },
    {
     "cell_type": "markdown",
     "metadata": {},
     "source": [
      "http://docs.scipy.org/doc/numpy/user/misc.html#ieee-754-floating-point-special-values\n",
      "\n",
      "<b>NaN (Not a Number)</b><br>\n",
      ": can be used as a poor-man\u2019s mask (if you don\u2019t care what the original value was)\n",
      "<br><br><br>\n",
      "\n",
      "http://docs.scipy.org/doc/scipy-dev/reference/generated/scipy.stats.nanmean.html\n",
      "\n",
      "<b>scipy.stats.nanmean(x, axis=0)</b><br>\n",
      "Compute the mean over the given axis ignoring nans."
     ]
    },
    {
     "cell_type": "code",
     "collapsed": false,
     "input": [
      "import numpy as np\n",
      "from scipy.stats import nanmean\n",
      "\n",
      "a = np.array([[1,2,3],[4,5,np.nan],[7,8,9]])\n",
      "a"
     ],
     "language": "python",
     "metadata": {},
     "outputs": [
      {
       "metadata": {},
       "output_type": "pyout",
       "prompt_number": 109,
       "text": [
        "array([[  1.,   2.,   3.],\n",
        "       [  4.,   5.,  nan],\n",
        "       [  7.,   8.,   9.]])"
       ]
      }
     ],
     "prompt_number": 109
    },
    {
     "cell_type": "code",
     "collapsed": false,
     "input": [
      "columnMean = nanmean(a,axis=0)\n",
      "columnMean"
     ],
     "language": "python",
     "metadata": {},
     "outputs": [
      {
       "metadata": {},
       "output_type": "pyout",
       "prompt_number": 110,
       "text": [
        "array([ 4.,  5.,  6.])"
       ]
      }
     ],
     "prompt_number": 110
    },
    {
     "cell_type": "code",
     "collapsed": false,
     "input": [
      "rowMean = nanmean(a,axis=1)\n",
      "rowMean"
     ],
     "language": "python",
     "metadata": {},
     "outputs": [
      {
       "metadata": {},
       "output_type": "pyout",
       "prompt_number": 111,
       "text": [
        "array([ 2. ,  4.5,  8. ])"
       ]
      }
     ],
     "prompt_number": 111
    },
    {
     "cell_type": "markdown",
     "metadata": {},
     "source": [
      " <br><b> Generating random numbers </b><br>"
     ]
    },
    {
     "cell_type": "markdown",
     "metadata": {},
     "source": [
      "http://docs.scipy.org/doc/numpy/reference/generated/numpy.random.randint.html#numpy-random-randint\n",
      "\n",
      "<b>numpy.random.randint(low, high=None, size=None)</b><br>\n",
      "Return random integers from low (inclusive) to high (exclusive)."
     ]
    },
    {
     "cell_type": "code",
     "collapsed": false,
     "input": [
      "np.random.randint(0,10,5)      # random integers from a closed interval"
     ],
     "language": "python",
     "metadata": {},
     "outputs": [
      {
       "metadata": {},
       "output_type": "pyout",
       "prompt_number": 112,
       "text": [
        "array([2, 5, 1, 6, 0])"
       ]
      }
     ],
     "prompt_number": 112
    },
    {
     "cell_type": "markdown",
     "metadata": {},
     "source": [
      "http://docs.scipy.org/doc/numpy/reference/generated/numpy.random.normal.html#numpy-random-normal\n",
      "    \n",
      "<b>numpy.random.normal(loc=0.0, scale=1.0, size=None)</b><br>\n",
      "Draw random samples from a normal (Gaussian) distribution."
     ]
    },
    {
     "cell_type": "code",
     "collapsed": false,
     "input": [
      "np.random.normal(0,1,5)        # random numbers from a Gaussian"
     ],
     "language": "python",
     "metadata": {},
     "outputs": [
      {
       "metadata": {},
       "output_type": "pyout",
       "prompt_number": 113,
       "text": [
        "array([ 1.01386278,  0.00633992,  1.07845331, -0.14548525,  1.700239  ])"
       ]
      }
     ],
     "prompt_number": 113
    },
    {
     "cell_type": "markdown",
     "metadata": {},
     "source": [
      "http://docs.scipy.org/doc/numpy/reference/generated/numpy.random.uniform.html#numpy.random.uniform"
     ]
    },
    {
     "cell_type": "code",
     "collapsed": false,
     "input": [
      "np.random.uniform(0,2,5)       # random numbers from a uniform distribution"
     ],
     "language": "python",
     "metadata": {},
     "outputs": [
      {
       "metadata": {},
       "output_type": "pyout",
       "prompt_number": 114,
       "text": [
        "array([ 1.35123805,  1.39395536,  1.24615096,  0.22770281,  0.37107672])"
       ]
      }
     ],
     "prompt_number": 114
    },
    {
     "cell_type": "markdown",
     "metadata": {},
     "source": [
      "http://docs.scipy.org/doc/numpy/reference/generated/numpy.random.randn.html\n",
      "<br>numpy.<b>random.randn(d0, d1, ..., dn)</b><br>\n",
      "--- Return a sample (or samples) from the \u201cstandard normal\u201d distribution."
     ]
    },
    {
     "cell_type": "code",
     "collapsed": false,
     "input": [
      "np.random.randn(2, 3)"
     ],
     "language": "python",
     "metadata": {},
     "outputs": [
      {
       "metadata": {},
       "output_type": "pyout",
       "prompt_number": 72,
       "text": [
        "array([[-0.98518031, -0.50181038,  0.81315092],\n",
        "       [-1.20863149,  1.16661091,  0.7450974 ]])"
       ]
      }
     ],
     "prompt_number": 72
    },
    {
     "cell_type": "code",
     "collapsed": false,
     "input": [
      "np.random.randn(4)"
     ],
     "language": "python",
     "metadata": {},
     "outputs": [
      {
       "metadata": {},
       "output_type": "pyout",
       "prompt_number": 71,
       "text": [
        "array([-1.0976496 ,  1.06470375, -0.21401478, -0.52362097])"
       ]
      }
     ],
     "prompt_number": 71
    },
    {
     "cell_type": "markdown",
     "metadata": {},
     "source": [
      "http://docs.scipy.org/doc/numpy/reference/generated/numpy.random.rand.html\n",
      "<br>numpy.<b>random.rand(d0, d1, ..., dn)</b><br>\n",
      "--- Random values in a given shape.\n",
      "\n",
      "Create an array of the given shape and propagate it with random samples from a uniform distribution over [0, 1)."
     ]
    },
    {
     "cell_type": "code",
     "collapsed": false,
     "input": [
      "np.random.rand(3,2)"
     ],
     "language": "python",
     "metadata": {},
     "outputs": [
      {
       "metadata": {},
       "output_type": "pyout",
       "prompt_number": 75,
       "text": [
        "array([[ 0.26045252,  0.60569655],\n",
        "       [ 0.71631108,  0.53888121],\n",
        "       [ 0.96488294,  0.9472548 ]])"
       ]
      }
     ],
     "prompt_number": 75
    },
    {
     "cell_type": "code",
     "collapsed": false,
     "input": [
      "np.random.rand(4)"
     ],
     "language": "python",
     "metadata": {},
     "outputs": [
      {
       "metadata": {},
       "output_type": "pyout",
       "prompt_number": 76,
       "text": [
        "array([ 0.00341955,  0.82440236,  0.75138067,  0.22082252])"
       ]
      }
     ],
     "prompt_number": 76
    },
    {
     "cell_type": "heading",
     "level": 3,
     "metadata": {},
     "source": [
      "NumPy - linear algebra"
     ]
    },
    {
     "cell_type": "heading",
     "level": 6,
     "metadata": {},
     "source": [
      "http://people.duke.edu/~ccc14/pcfb/numpympl/LinearAlgebra.html"
     ]
    },
    {
     "cell_type": "markdown",
     "metadata": {},
     "source": [
      "\n",
      "<div class=\"math\">\n",
      "\\begin{split}x =\n",
      "\\begin{pmatrix}\n",
      "x_{1}  \\\\\n",
      "x_{2}  \\\\\n",
      "\\vdots \\\\\n",
      "x_{N}\n",
      "\\end{pmatrix}\\end{split}</div>\n"
     ]
    },
    {
     "cell_type": "code",
     "collapsed": false,
     "input": [
      "import numpy as np\n",
      "x = np.array([[1,2,3]])\n",
      "x"
     ],
     "language": "python",
     "metadata": {},
     "outputs": [
      {
       "metadata": {},
       "output_type": "pyout",
       "prompt_number": 116,
       "text": [
        "array([[1, 2, 3]])"
       ]
      }
     ],
     "prompt_number": 116
    },
    {
     "cell_type": "code",
     "collapsed": false,
     "input": [
      "x.shape"
     ],
     "language": "python",
     "metadata": {},
     "outputs": [
      {
       "metadata": {},
       "output_type": "pyout",
       "prompt_number": 118,
       "text": [
        "(1, 3)"
       ]
      }
     ],
     "prompt_number": 118
    },
    {
     "cell_type": "code",
     "collapsed": false,
     "input": [
      "xt = x.T   # transpose (\uc804\uce58)\n",
      "xt"
     ],
     "language": "python",
     "metadata": {},
     "outputs": [
      {
       "metadata": {},
       "output_type": "pyout",
       "prompt_number": 117,
       "text": [
        "array([[1],\n",
        "       [2],\n",
        "       [3]])"
       ]
      }
     ],
     "prompt_number": 117
    },
    {
     "cell_type": "code",
     "collapsed": false,
     "input": [
      "xt.shape"
     ],
     "language": "python",
     "metadata": {},
     "outputs": [
      {
       "metadata": {},
       "output_type": "pyout",
       "prompt_number": 119,
       "text": [
        "(3, 1)"
       ]
      }
     ],
     "prompt_number": 119
    },
    {
     "cell_type": "code",
     "collapsed": false,
     "input": [
      "x = np.array([[3,4,5,6]]).T\n",
      "x"
     ],
     "language": "python",
     "metadata": {},
     "outputs": [
      {
       "metadata": {},
       "output_type": "pyout",
       "prompt_number": 120,
       "text": [
        "array([[3],\n",
        "       [4],\n",
        "       [5],\n",
        "       [6]])"
       ]
      }
     ],
     "prompt_number": 120
    },
    {
     "cell_type": "code",
     "collapsed": false,
     "input": [
      "x = np.array([[3,4,5,6]])\n",
      "x"
     ],
     "language": "python",
     "metadata": {},
     "outputs": [
      {
       "metadata": {},
       "output_type": "pyout",
       "prompt_number": 121,
       "text": [
        "array([[3, 4, 5, 6]])"
       ]
      }
     ],
     "prompt_number": 121
    },
    {
     "cell_type": "markdown",
     "metadata": {},
     "source": [
      "http://docs.scipy.org/doc/numpy/reference/generated/numpy.array.html <br>\n",
      "    <b>numpy.array</b>(object, dtype=None, copy=True, order=None, subok=False, ndmin=0) <br>\n",
      "    --> Returns : <b>ndarray</b> <br><br>\n",
      "    http://docs.scipy.org/doc/numpy/reference/generated/numpy.ndarray.html<br>\n",
      "    class <b>numpy.ndarray</b>\n",
      "<pre>Attributes\n",
      "<b>T</b>  :\tsame as <b>transpose()</b>\n",
      "</pre>\n",
      "    "
     ]
    },
    {
     "cell_type": "markdown",
     "metadata": {},
     "source": [
      "<br><font size =3> <b> Common tasks </b></font><br>"
     ]
    },
    {
     "cell_type": "markdown",
     "metadata": {},
     "source": [
      "<br><b> Matrix determinant (\ud589\ub82c\uc2dd)</b><br>"
     ]
    },
    {
     "cell_type": "code",
     "collapsed": false,
     "input": [
      "a = np.array([[3,-9],[2,5]])  \n",
      "a"
     ],
     "language": "python",
     "metadata": {},
     "outputs": [
      {
       "metadata": {},
       "output_type": "pyout",
       "prompt_number": 125,
       "text": [
        "array([[ 3, -9],\n",
        "       [ 2,  5]])"
       ]
      }
     ],
     "prompt_number": 125
    },
    {
     "cell_type": "code",
     "collapsed": false,
     "input": [
      "np.linalg.det(a)   # \ud589\ub82c\uc2dd \uacc4\uc0b0 ---> 3*5 - (-9)*2"
     ],
     "language": "python",
     "metadata": {},
     "outputs": [
      {
       "metadata": {},
       "output_type": "pyout",
       "prompt_number": 128,
       "text": [
        "33.000000000000014"
       ]
      }
     ],
     "prompt_number": 128
    },
    {
     "cell_type": "code",
     "collapsed": false,
     "input": [
      "np.round(np.linalg.det(a)) "
     ],
     "language": "python",
     "metadata": {},
     "outputs": [
      {
       "metadata": {},
       "output_type": "pyout",
       "prompt_number": 133,
       "text": [
        "33.0"
       ]
      }
     ],
     "prompt_number": 133
    },
    {
     "cell_type": "markdown",
     "metadata": {},
     "source": [
      "<br><b> Matrix inverse (\uc5ed\ud589\ub82c) </b><br>"
     ]
    },
    {
     "cell_type": "code",
     "collapsed": false,
     "input": [
      "A = np.array([[-4,-2],[5,5]])\n",
      "A"
     ],
     "language": "python",
     "metadata": {},
     "outputs": [
      {
       "metadata": {},
       "output_type": "pyout",
       "prompt_number": 129,
       "text": [
        "array([[-4, -2],\n",
        "       [ 5,  5]])"
       ]
      }
     ],
     "prompt_number": 129
    },
    {
     "cell_type": "code",
     "collapsed": false,
     "input": [
      "invA = np.linalg.inv(A)  # \uc5ed\ud589\ub82c\n",
      "invA"
     ],
     "language": "python",
     "metadata": {},
     "outputs": [
      {
       "metadata": {},
       "output_type": "pyout",
       "prompt_number": 130,
       "text": [
        "array([[-0.5, -0.2],\n",
        "       [ 0.5,  0.4]])"
       ]
      }
     ],
     "prompt_number": 130
    },
    {
     "cell_type": "code",
     "collapsed": false,
     "input": [
      "np.dot(A,invA)"
     ],
     "language": "python",
     "metadata": {},
     "outputs": [
      {
       "metadata": {},
       "output_type": "pyout",
       "prompt_number": 131,
       "text": [
        "array([[ 1.,  0.],\n",
        "       [ 0.,  1.]])"
       ]
      }
     ],
     "prompt_number": 131
    },
    {
     "cell_type": "code",
     "collapsed": false,
     "input": [
      "np.round(np.dot(A,invA))"
     ],
     "language": "python",
     "metadata": {},
     "outputs": [
      {
       "metadata": {},
       "output_type": "pyout",
       "prompt_number": 132,
       "text": [
        "array([[ 1.,  0.],\n",
        "       [ 0.,  1.]])"
       ]
      }
     ],
     "prompt_number": 132
    },
    {
     "cell_type": "markdown",
     "metadata": {},
     "source": [
      "<br><b> Eigenvalues (\uace0\uc720\uce58) and Eigenvectors (\uace0\uc720\ubca1\ud130) </b><br>"
     ]
    },
    {
     "cell_type": "code",
     "collapsed": false,
     "input": [
      "a = np.diag((1, 2, 3))  # \ub300\uac01\ud589\ub82c\n",
      "a"
     ],
     "language": "python",
     "metadata": {},
     "outputs": [
      {
       "metadata": {},
       "output_type": "pyout",
       "prompt_number": 135,
       "text": [
        "array([[1, 0, 0],\n",
        "       [0, 2, 0],\n",
        "       [0, 0, 3]])"
       ]
      }
     ],
     "prompt_number": 135
    },
    {
     "cell_type": "markdown",
     "metadata": {},
     "source": [
      "http://docs.scipy.org/doc/numpy/reference/generated/numpy.linalg.eig.html"
     ]
    },
    {
     "cell_type": "code",
     "collapsed": false,
     "input": [
      "w,v = np.linalg.eig(a)"
     ],
     "language": "python",
     "metadata": {},
     "outputs": [],
     "prompt_number": 142
    },
    {
     "cell_type": "code",
     "collapsed": false,
     "input": [
      "w"
     ],
     "language": "python",
     "metadata": {},
     "outputs": [
      {
       "metadata": {},
       "output_type": "pyout",
       "prompt_number": 143,
       "text": [
        "array([ 1.,  2.,  3.])"
       ]
      }
     ],
     "prompt_number": 143
    },
    {
     "cell_type": "code",
     "collapsed": false,
     "input": [
      "v"
     ],
     "language": "python",
     "metadata": {},
     "outputs": [
      {
       "metadata": {},
       "output_type": "pyout",
       "prompt_number": 144,
       "text": [
        "array([[ 1.,  0.,  0.],\n",
        "       [ 0.,  1.,  0.],\n",
        "       [ 0.,  0.,  1.]])"
       ]
      }
     ],
     "prompt_number": 144
    },
    {
     "cell_type": "heading",
     "level": 2,
     "metadata": {},
     "source": [
      "4.12.2 Matplotlib - plotting in Python"
     ]
    },
    {
     "cell_type": "heading",
     "level": 3,
     "metadata": {},
     "source": [
      "* \ucc38\uace0 : pylab, matplotlib, numpy \uad6c\ubd84 <br><br> http://freeprog.tistory.com/14 <br><br>\n",
      "p.92 \uc608\uc81c "
     ]
    },
    {
     "cell_type": "markdown",
     "metadata": {},
     "source": [
      "<br><font size =3> <b> Matplotlib - basics </b></font><br>"
     ]
    },
    {
     "cell_type": "heading",
     "level": 6,
     "metadata": {},
     "source": [
      "http://people.duke.edu/~ccc14/pcfb/numpympl/MatplotlibBasics.html"
     ]
    },
    {
     "cell_type": "markdown",
     "metadata": {},
     "source": [
      " <br><b> Introduction </b><br>"
     ]
    },
    {
     "cell_type": "markdown",
     "metadata": {},
     "source": [
      "<br><br><b> --- \uae30\ubcf8 \uac1c\ub150 ---</b><br>\n",
      "<br>\n",
      "<b>Figure --- top level container for all plot elements</b> \n",
      "(http://matplotlib.org/api/figure_api.html)<br>\n",
      "<br>\n",
      "<b> Axes </b> <br>contains most of the figure elements: Axis, Tick, Line2D, Text, Polygon, etc., and sets the coordinate system.\n",
      "(http://matplotlib.org/api/axes_api.html)"
     ]
    },
    {
     "cell_type": "markdown",
     "metadata": {},
     "source": [
      "<b>*** Axes instance \ub97c \ubc18\ud658\ud558\ub294 \uba54\uc18c\ub4dc \uc911 3\uac00\uc9c0 !!! </b><br>\n",
      " 1. add_subplot()<br>\n",
      " 2. add_axes()<br>\n",
      " 3. gca()"
     ]
    },
    {
     "cell_type": "markdown",
     "metadata": {},
     "source": [
      "http://matplotlib.org/api/figure_api.html#matplotlib.figure.Figure\n",
      "\n",
      "http://matplotlib.org/api/figure_api.html#matplotlib.figure.Figure.add_axes\n",
      "<br><b>add_axes</b>(*args, **kwargs) <br>\n",
      "Add an axes at position rect [left, bottom, width, height] where all quantities are in fractions of figure width and height."
     ]
    },
    {
     "cell_type": "markdown",
     "metadata": {},
     "source": [
      "http://matplotlib.org/api/pyplot_api.html#matplotlib.pyplot.draw\n",
      "<br>matplotlib.pyplot.<b>draw()</b><br>\n",
      "--- Redraw the current figure."
     ]
    },
    {
     "cell_type": "markdown",
     "metadata": {},
     "source": [
      "http://matplotlib.org/api/figure_api.html#matplotlib.figure.Figure.clear\n",
      "<br><b>clear()</b> <br>\n",
      "--- Clear the figure \u2013 synonym for clf()."
     ]
    },
    {
     "cell_type": "markdown",
     "metadata": {},
     "source": [
      "http://matplotlib.org/api/pyplot_api.html#matplotlib.pyplot.close\n",
      "<br>matplotlib.pyplot.<b>close(*args)</b><br>\n",
      "--- Close a figure window."
     ]
    },
    {
     "cell_type": "markdown",
     "metadata": {},
     "source": [
      "<br><br>pylab \ubaa8\ub4dc ipython \uc2e4\ud589\ud558\uc5ec, \ub2e8\uacc4\uc801 \uc0dd\uc131\ubcf4\uae30!\n",
      "\n",
      "\ubc29\ubc95 1 : <b>ipython --pylab </b>  \uc73c\ub85c \uc2e4\ud589\n",
      "\n",
      "\ubc29\ubc95 2 : <b>ipython</b> \uc2e4\ud589\ud6c4 <b>%pylab</b> \uba85\ub839\uc5b4 \uc785\ub825 \uc2e4\ud589\n"
     ]
    },
    {
     "cell_type": "heading",
     "level": 2,
     "metadata": {},
     "source": [
      "<span style=\"color:#0000FF\"> ** Matplotlib Tutorial \uc815\ub9ac </span><br><br>\n",
      "http://freeprog.tistory.com/15"
     ]
    },
    {
     "cell_type": "markdown",
     "metadata": {},
     "source": [
      "<br><b> Essentials </b><br>"
     ]
    },
    {
     "cell_type": "code",
     "collapsed": false,
     "input": [
      "import matplotlib.pyplot as plt\n",
      "\n",
      "fig = plt.figure()   # The Figure instance returned  <-- pyplot.py\n",
      "\n",
      "ax = fig.add_subplot(2,1,1)   # 2\uc904, 1\uce78, 1st    # Axes instance will be returned.\n",
      "# draw()  # interactive mode \uc5d0\uc11c \ud654\uba74 \ucd9c\ub825\uc704\ud574..\n",
      "\n",
      "fig2 = plt.figure()\n",
      "ax2 = fig2.add_axes([0.15, 0.1, 0.7, 0.3])  # [left, bottom, width, height]\n",
      "\n",
      "fig.savefig('foo.png',dpi=200)   # \uadf8\ub9bc \ud30c\uc77c\ub85c \uc800\uc7a5\n",
      "plt.show()"
     ],
     "language": "python",
     "metadata": {},
     "outputs": [
      {
       "metadata": {},
       "output_type": "display_data",
       "png": "[encoded data removed]",
       "text": [
        "<matplotlib.figure.Figure at 0x76c1970>"
       ]
      },
      {
       "metadata": {},
       "output_type": "display_data",
       "png": "[encoded data removed]",
       "text": [
        "<matplotlib.figure.Figure at 0x691f890>"
       ]
      }
     ],
     "prompt_number": 68
    },
    {
     "cell_type": "markdown",
     "metadata": {},
     "source": [
      " <br><b> An example </b><br>"
     ]
    },
    {
     "cell_type": "markdown",
     "metadata": {},
     "source": [
      "<h2> plot() </h2>\n",
      "http://matplotlib.org/api/axes_api.html#matplotlib.axes.Axes.plot\n",
      "<br>matplotlib.axes.<b>Axes.plot(*args, **kwargs)</b><br>\n",
      "Plot lines and/or markers to the Axes.\n",
      "\n",
      "http://matplotlib.org/api/pyplot_api.html#matplotlib.pyplot.plot\n",
      "<br>matplotlib.<b>pyplot.plot(*args, **kwargs)</b><br>\n",
      "\n",
      "<b>Axes.plot() \uc640 pyplot.plot() \ucc28\uc774</b><br>\n",
      "--- <b>pyplot.plot()</b> : \ub0b4\ubd80\uc801\uc73c\ub85c ax = gca() \uc0ac\uc6a9\ud558\uc5ec ax.plot() \ub97c \ud638\ucd9c\ud55c\ub2e4. <br>\n",
      "         \uc774\ud6c4\uc5d0 draw_if_interactive() \ud638\ucd9c\ud558\uc5ec , interactive \ubaa8\ub4dc\uc5d0\uc11c  Axes.plot() \uc640 \ub2ec\ub9ac <b> \ubc14\ub85c \ud654\uba74\uc5d0 \uadf8\ub9bc \uadf8\ub9b0\ub2e4</b>."
     ]
    },
    {
     "cell_type": "markdown",
     "metadata": {},
     "source": [
      "<h2> hist() </h2>\n",
      "http://matplotlib.org/api/axes_api.html#matplotlib.axes.Axes.hist\n",
      "<br>matplotlib.axes.<b>Axes.hist</b>(x, bins=10, range=None, normed=False, weights=None, cumulative=False, bottom=None, histtype='bar', align='mid', orientation='vertical', rwidth=None, log=False, color=None, label=None, stacked=False, **kwargs)\n",
      "<br>--- plot a histogram.\n",
      "\n",
      "http://matplotlib.org/api/pyplot_api.html#matplotlib.pyplot.hist\n",
      "<br>matplotlib.<b>pyplot.hist</b>(x, bins=10, range=None, normed=False, weights=None, cumulative=False, bottom=None, histtype='bar', align='mid', orientation='vertical', rwidth=None, log=False, color=None, label=None, stacked=False, hold=None, **kwargs)\n",
      "\n",
      "\n",
      "<b>Axes.hist() \uc640 pyplot.hist() \ucc28\uc774</b><br>\n",
      "--- <b>pyplot.hist()</b> : \ub0b4\ubd80\uc801\uc73c\ub85c ax = gca() \uc0ac\uc6a9\ud558\uc5ec ax.hist() \ub97c \ud638\ucd9c\ud55c\ub2e4. <br>\n",
      "   \uc774\ud6c4\uc5d0 draw_if_interactive() \ud638\ucd9c\ud558\uc5ec , interactive \ubaa8\ub4dc\uc5d0\uc11c  Axes.hist() \uc640 \ub2ec\ub9ac <b> \ubc14\ub85c \ud654\uba74\uc5d0 \uadf8\ub9bc \uadf8\ub9b0\ub2e4</b>."
     ]
    },
    {
     "cell_type": "code",
     "collapsed": false,
     "input": [
      "import numpy as np\n",
      "import matplotlib.pyplot as plt\n",
      "\n",
      "fig = plt.figure()\n",
      "fig.subplots_adjust(top=0.8)\n",
      "\n",
      "ax1 = fig.add_subplot(211)   # Axes instance will be returned.\n",
      "\n",
      "ax1.set_ylabel('volts')\n",
      "ax1.set_title('a sine wave')\n",
      "\n",
      "t = np.arange(0.0, 1.0, 0.01)\n",
      "s = np.sin(2*np.pi*t)\n",
      "line, = ax1.plot(t, s, color='blue', lw=5)   # lw = linewidth\n",
      "# ax1.plot(t, s)     # default  ;   line, color = 'blue'         == 'b-'\n",
      "# ax1.plot(t, s,'b-')\n",
      "\n",
      "ax2 = fig.add_axes([0.15, 0.1, 0.7, 0.3])  # Axes instance will be returned.\n",
      "n, bins, patches = ax2.hist(np.random.randn(1000), 50, facecolor='yellow', edgecolor='red')\n",
      "# ax2.hist(np.random.randn(1000), 10, facecolor='yellow', edgecolor='yellow')\n",
      "ax2.set_xlabel('time (s)')\n",
      "\n",
      "plt.show()"
     ],
     "language": "python",
     "metadata": {},
     "outputs": [
      {
       "metadata": {},
       "output_type": "display_data",
       "png": "[encoded data removed]",
       "text": [
        "<matplotlib.figure.Figure at 0x6b9f0f0>"
       ]
      }
     ],
     "prompt_number": 67
    },
    {
     "cell_type": "markdown",
     "metadata": {},
     "source": [
      "<br><font size =3> <b> Matplotlib - line and box plots </b></font><br>"
     ]
    },
    {
     "cell_type": "markdown",
     "metadata": {},
     "source": [
      " <br><b> Simple line plot </b><br>"
     ]
    },
    {
     "cell_type": "code",
     "collapsed": false,
     "input": [
      "import numpy as np\n",
      "import matplotlib.pyplot as plt\n",
      "\n",
      "## initialize the axes\n",
      "fig = plt.figure()\n",
      "ax = fig.add_subplot(111)    # \ud55c\uc904, \ud55c\uce78, \uccab\ubc88\uc9f8\n",
      "\n",
      "## format axes\n",
      "ax.set_ylabel('volts')\n",
      "ax.set_title('a sine wave')\n",
      "\n",
      "t = np.arange(0.0, 1.0, 0.01)  # x \ucd95\n",
      "s = np.sin(2*np.pi*t)       # y \ucd95\n",
      "line, = ax.plot(t, s, color='blue', lw=5)   # linewidth == lw\n",
      "\n",
      "plt.show()"
     ],
     "language": "python",
     "metadata": {},
     "outputs": [
      {
       "metadata": {},
       "output_type": "display_data",
       "png": "[encoded data removed]",
       "text": [
        "<matplotlib.figure.Figure at 0x68bb630>"
       ]
      }
     ],
     "prompt_number": 4
    },
    {
     "cell_type": "markdown",
     "metadata": {},
     "source": [
      " <br><b> Lines with markers </b><br>"
     ]
    },
    {
     "cell_type": "code",
     "collapsed": false,
     "input": [
      "import numpy as np\n",
      "import matplotlib.pyplot as plt\n",
      "\n",
      "## initialize the figure\n",
      "fig = plt.figure()\n",
      "\n",
      "\n",
      "## the data\n",
      "t = np.arange(0.0, 1.0, 0.01)\n",
      "s = np.sin(2*np.pi*t)\n",
      "\n",
      "## the top axes\n",
      "ax1 = fig.add_subplot(3,1,1)   # 3\uc904 , 1\uce78, \uccab\ubc88\uc9f8\n",
      "ax1.set_ylabel('volts')\n",
      "ax1.set_title('a sine wave')\n",
      "\n",
      "line1 = ax1.plot(t, s+5.0, color='blue', lw=2)  # \uae30\ubcf8\uac12\uc740 blue line ('b-')\n",
      "line2 = ax1.plot(t, s+2.5, color='red', lw=2)  # \uae30\ubcf8\uac12\uc740 blue line ('b-')\n",
      "line3 = ax1.plot(t, s, color='orange', lw=2)    # \uae30\ubcf8\uac12\uc740 blue line ('b-')\n",
      "\n",
      "## the middle axes\n",
      "ax2 = fig.add_subplot(3,1,2)  # 3\uc904 , 1\uce78, \ub450\ubc88\uc9f8\n",
      "ax2.set_ylabel('volts')\n",
      "ax2.set_title('a sine wave')\n",
      "\n",
      "line1 = ax2.plot(t, s+5.0, color='black', lw=2,linestyle=\"--\")\n",
      "line2 = ax2.plot(t, s+2.5, color='black', lw=2,linestyle=\"-.\")\n",
      "line3 = ax2.plot(t, s, color='#000000', lw=2,linestyle=\":\")\n",
      "\n",
      "## the thrid axes\n",
      "ax3 = fig.add_subplot(3,1,3)  # 3\uc904 , 1\uce78, \uc138\ubc88\uc9f8\n",
      "ax3.set_ylabel('volts')\n",
      "ax3.set_title('a sine wave')\n",
      "\n",
      "line1 = ax3.plot(t,s+5.0, color='blue', marker=\"+\")\n",
      "line2 = ax3.plot(t,s+2.5, color='red', marker=\"o\")\n",
      "line3 = ax3.plot(t,s, color='orange', marker=\"^\")\n",
      "\n",
      "## adjust the space between plots\n",
      "plt.subplots_adjust(wspace=0.2,hspace=.4)\n",
      "plt.show()"
     ],
     "language": "python",
     "metadata": {},
     "outputs": [
      {
       "metadata": {},
       "output_type": "display_data",
       "png": "[encoded data removed]",
       "text": [
        "<matplotlib.figure.Figure at 0xa7db810>"
       ]
      }
     ],
     "prompt_number": 167
    },
    {
     "cell_type": "markdown",
     "metadata": {},
     "source": [
      " <br><b> Box plots </b><br>"
     ]
    },
    {
     "cell_type": "markdown",
     "metadata": {},
     "source": [
      "http://matplotlib.org/api/axes_api.html#matplotlib.axes.Axes.boxplot <br>\n",
      "<b>boxplot</b>(x, notch=False, sym='b+', vert=True, whis=1.5, positions=None, widths=None, patch_artist=False, bootstrap=None, usermedians=None, conf_intervals=None)\n",
      "<br>--- Make a box and whisker plot.\n",
      "\n",
      "http://matplotlib.org/api/pyplot_api.html#matplotlib.pyplot.boxplot <br>\n",
      "* pyplot.boxplot : \ub0b4\ubd80\uc801\uc73c\ub85c ax = gca() \uc0ac\uc6a9\ud558\uc5ec ax.boxplot() \ub97c \ud638\ucd9c\ud55c\ub2e4."
     ]
    },
    {
     "cell_type": "code",
     "collapsed": false,
     "input": [
      "import numpy as np\n",
      "import matplotlib.pyplot as plt\n",
      "\n",
      "\n",
      "fig = plt.figure()\n",
      "ax = fig.add_subplot(111)  # \ud55c\uc904, \ud55c\uce78, \uccab\ubc88\uc9f8\n",
      "\n",
      "x1 = np.random.normal(0,1,50)  # http://docs.scipy.org/doc/numpy/reference/generated/numpy.random.normal.html\n",
      "x2 = np.random.normal(1,1,50)\n",
      "x3 = np.random.normal(2,1,50)\n",
      "\n",
      "ax.boxplot([x1,x2,x3])\n",
      "plt.show()"
     ],
     "language": "python",
     "metadata": {},
     "outputs": [
      {
       "metadata": {},
       "output_type": "display_data",
       "png": "[encoded data removed]",
       "text": [
        "<matplotlib.figure.Figure at 0xb053410>"
       ]
      }
     ],
     "prompt_number": 176
    },
    {
     "cell_type": "markdown",
     "metadata": {},
     "source": [
      "<br><font size =3> <b> Matplotlib - bar,scatter and histogram plots </b></font><br>"
     ]
    },
    {
     "cell_type": "markdown",
     "metadata": {},
     "source": [
      "<br><b> Simple bar plot </b><br>"
     ]
    },
    {
     "cell_type": "markdown",
     "metadata": {},
     "source": [
      "http://matplotlib.org/api/axes_api.html#matplotlib.axes.Axes.bar\n",
      "<br>matplotlib.axes.<b>Axes.bar(left, height, width=0.8, bottom=None, **kwargs)</b><br>\n",
      "--- Make a bar plot.\n",
      "\n",
      "http://matplotlib.org/api/pyplot_api.html#matplotlib.pyplot.bar\n",
      "<br>matplotlib.<b>pyplot.bar</b>(left, height, width=0.8, bottom=None, hold=None, **kwargs)\n"
     ]
    },
    {
     "cell_type": "code",
     "collapsed": false,
     "input": [
      "import numpy as np\n",
      "import matplotlib.pyplot as plt\n",
      "\n",
      "fig = plt.figure()\n",
      "ax = fig.add_subplot(111)   # The Axes instance will be returned.\n",
      "\n",
      "## the data\n",
      "N = 5\n",
      "menMeans = [18, 35, 30, 35, 27]\n",
      "menStd =   [2, 3, 4, 1, 2]\n",
      "womenMeans = [25, 32, 34, 20, 25]\n",
      "womenStd =   [3, 5, 2, 3, 3]\n",
      "\n",
      "## necessary variables\n",
      "ind = np.arange(N)                # the x locations for the groups\n",
      "width = 0.35                      # the width of the bars\n",
      "\n",
      "## the bars\n",
      "rects1 = ax.bar(ind, menMeans, width,\n",
      "                color='black',\n",
      "                yerr=menStd,\n",
      "                error_kw=dict(elinewidth=2,ecolor='red'))\n",
      "\n",
      "rects2 = ax.bar(ind+width, womenMeans, width,\n",
      "                    color='red',\n",
      "                    yerr=womenStd,\n",
      "                    error_kw=dict(elinewidth=2,ecolor='black'))\n",
      "\n",
      "# axes and labels\n",
      "ax.set_xlim(-width,len(ind)+width)\n",
      "ax.set_ylim(0,45)\n",
      "\n",
      "ax.set_ylabel('Scores')\n",
      "ax.set_title('Scores by group and gender')\n",
      "\n",
      "xTickMarks = ['Group'+str(i) for i in range(1,6)]\n",
      "ax.set_xticks(ind+width)\n",
      "xtickNames = ax.set_xticklabels(xTickMarks)\n",
      "\n",
      "plt.setp(xtickNames, rotation=45, fontsize=10)    # Set a property on an artist object.\n",
      "\n",
      "## add a legend\n",
      "ax.legend( (rects1[0], rects2[0]), ('Men', 'Women') )\n",
      "\n",
      "plt.show()"
     ],
     "language": "python",
     "metadata": {},
     "outputs": [
      {
       "metadata": {},
       "output_type": "display_data",
       "png": "[encoded data removed]",
       "text": [
        "<matplotlib.figure.Figure at 0x6913c90>"
       ]
      }
     ],
     "prompt_number": 74
    },
    {
     "cell_type": "markdown",
     "metadata": {},
     "source": [
      "<br><b> Another bar plot </b><br>"
     ]
    },
    {
     "cell_type": "markdown",
     "metadata": {},
     "source": [
      "http://matplotlib.org/mpl_toolkits/mplot3d/tutorial.html#mpl_toolkits.mplot3d.Axes3D.bar"
     ]
    },
    {
     "cell_type": "code",
     "collapsed": false,
     "input": [
      "from mpl_toolkits.mplot3d import Axes3D\n",
      "import matplotlib.pyplot as plt\n",
      "import numpy as np\n",
      "\n",
      "fig = plt.figure()\n",
      "ax = fig.add_subplot(111,projection='3d')  # \ud55c\uc904, \ud55c\uce78, \uccab\ubc88\uc9f8,  3D\n",
      "\n",
      "for c, z in zip(['r', 'g', 'b', 'y'], [30, 20, 10, 0]):\n",
      "    xs = np.arange(20)\n",
      "    ys = np.random.rand(20) # 0 - 1 \uc0ac\uc774 \ub79c\ub364\uac12 20\uac1c \ucd94\ucd9c.\n",
      "\n",
      "    # You can provide either a single color or an array. To demonstrate this,\n",
      "    # the first bar of each set will be colored cyan.\n",
      "    cs = [c] * len(xs)\n",
      "    cs[0] = 'c'   # \uccab \uceec\ub7ec\ub9cc cyan \uc73c\ub85c\n",
      "    ax.bar(xs, ys, zs=z, zdir='y', color=cs, alpha=0.8)\n",
      "    # ax.bar(xs, ys, zs=z, zdir='z', color=cs, alpha=0.8)\n",
      "\n",
      "    \n",
      "ax.set_xlabel('X')\n",
      "\n",
      "ax.set_ylabel('Y') # ???\n",
      "ax.set_zlabel('Z')\n",
      "# ax.set_ylabel('Z')\n",
      "# ax.set_zlabel('Y')\n",
      "\n",
      "plt.show()"
     ],
     "language": "python",
     "metadata": {},
     "outputs": [
      {
       "metadata": {},
       "output_type": "display_data",
       "png": "[encoded data removed]",
       "text": [
        "<matplotlib.figure.Figure at 0xbe2a8b0>"
       ]
      }
     ],
     "prompt_number": 192
    },
    {
     "cell_type": "markdown",
     "metadata": {},
     "source": [
      "<br><b> Scatter plot </b><br>"
     ]
    },
    {
     "cell_type": "markdown",
     "metadata": {},
     "source": [
      "http://matplotlib.org/api/axes_api.html#matplotlib.axes.Axes.scatter <br>\n",
      "http://matplotlib.org/api/pyplot_api.html#matplotlib.pyplot.scatter <br>\n",
      "* pyplot.scatter  : \ub0b4\ubd80\uc801\uc73c\ub85c ax = gca() \uc0ac\uc6a9\ud558\uc5ec ax.scatter() \ub97c \ud638\ucd9c\ud55c\ub2e4."
     ]
    },
    {
     "cell_type": "code",
     "collapsed": false,
     "input": [
      "#!/usr/bin/env python\n",
      "import matplotlib.pyplot as plt\n",
      "import numpy as np\n",
      "\n",
      "fig = plt.figure()\n",
      "ax1 = fig.add_subplot(121)   # \ud55c\uc904, \ub450\uce78, \uccab\ubc88\uc9f8\n",
      "\n",
      "## the data\n",
      "N=1000\n",
      "x = np.random.randn(N)   # Return a sample (or samples) from the \u201cstandard normal\u201d distribution.\n",
      "y = np.random.randn(N)\n",
      "\n",
      "## left panel\n",
      "ax1.scatter(x,y,color='blue',s=5,edgecolor='none')\n",
      "# plt.scatter(x,y,color='blue',s=5,edgecolor='none')\n",
      "print 1./ax1.get_data_ratio()\n",
      "ax1.set_aspect(1./ax1.get_data_ratio()) # make axes square\n",
      "\n",
      "## right panel\n",
      "ax2 = fig.add_subplot(122)  # \ud55c\uc904, \ub450\uce78, \ub450\ubc88\uc9f8\n",
      "props = dict(alpha=0.5, edgecolors='none' )\n",
      "\n",
      "handles = []\n",
      "colors = ['blue', 'green', 'magenta', 'cyan']\n",
      "for color in colors:\n",
      "    x = np.random.randn(N)\n",
      "    y = np.random.randn(N)\n",
      "    s = np.random.randint(50,200)  # 50 <=  s  < 200  \ub9cc\uc871\ud558\ub294 random \uac12 \ud55c\uac1c \ucd94\ucd9c.\n",
      "    handles.append(ax2.scatter(x, y, c=color, s=s, **props))\n",
      "\n",
      "ax2.set_ylim([-5,11])\n",
      "ax2.set_xlim([-5,11])\n",
      "\n",
      "ax2.legend(handles, colors)\n",
      "\n",
      "ax2.grid(True)\n",
      "ax2.set_aspect(1./ax2.get_data_ratio())\n",
      "# ax2.set_aspect('auto')\n",
      "print ax2.get_data_ratio()\n",
      "# ax2.set_aspect('equal')\n",
      "\n",
      "plt.show()"
     ],
     "language": "python",
     "metadata": {},
     "outputs": [
      {
       "output_type": "stream",
       "stream": "stdout",
       "text": [
        "1.0\n",
        "1.0"
       ]
      },
      {
       "output_type": "stream",
       "stream": "stdout",
       "text": [
        "\n"
       ]
      },
      {
       "metadata": {},
       "output_type": "display_data",
       "png": "[encoded data removed]",
       "text": [
        "<matplotlib.figure.Figure at 0x67a07f0>"
       ]
      }
     ],
     "prompt_number": 14
    },
    {
     "cell_type": "markdown",
     "metadata": {},
     "source": [
      "<br><b> Histogram plot </b><br>"
     ]
    },
    {
     "cell_type": "markdown",
     "metadata": {},
     "source": [
      "http://matplotlib.org/api/axes_api.html#matplotlib.axes.Axes.hist <br>\n",
      "http://matplotlib.org/api/pyplot_api.html#matplotlib.pyplot.hist <br>\n",
      "* pyplot.hist() : \ub0b4\ubd80\uc801\uc73c\ub85c ax = gca() \uc0ac\uc6a9\ud558\uc5ec ax.hist() \ub97c \ud638\ucd9c\ud55c\ub2e4."
     ]
    },
    {
     "cell_type": "code",
     "collapsed": false,
     "input": [
      "import numpy as np\n",
      "import matplotlib.pyplot as plt\n",
      "\n",
      "\n",
      "fig = plt.figure()\n",
      "ax = fig.add_subplot(111)\n",
      "\n",
      "x = np.random.normal(0,1,1000)\n",
      "numBins = 50  # \ub9c9\ub300 \uac2f\uc218.\n",
      "\n",
      "ax.hist(x,numBins,color='green',alpha=0.8)\n",
      "# plt.hist(x,numBins,color='green',alpha=0.8)  \n",
      "# plt.hist() \ub3c4 \ub0b4\ubd80\uc801\uc73c\ub85c ax = gca() \uc0ac\uc6a9\ud558\uc5ec ax.hist() \ub97c \ud638\ucd9c\ud55c\ub2e4.\n",
      "\n",
      "plt.show()"
     ],
     "language": "python",
     "metadata": {},
     "outputs": [
      {
       "metadata": {},
       "output_type": "display_data",
       "png": "[encoded data removed]",
       "text": [
        "<matplotlib.figure.Figure at 0xbbaa710>"
       ]
      }
     ],
     "prompt_number": 187
    },
    {
     "cell_type": "heading",
     "level": 1,
     "metadata": {},
     "source": [
      "\uae30\ud0c0 \uc608\uc81c\ub4e4..."
     ]
    },
    {
     "cell_type": "heading",
     "level": 2,
     "metadata": {},
     "source": [
      "Animation"
     ]
    },
    {
     "cell_type": "markdown",
     "metadata": {},
     "source": [
      "http://matplotlib.org/1.3.1/examples/animation/basic_example.html"
     ]
    },
    {
     "cell_type": "code",
     "collapsed": false,
     "input": [
      "\"\"\"\n",
      "A simple example of an animated plot\n",
      "-- ipython notebook \uc5d0\uc11c\ub294 \uacb0\uacfc \uc81c\ub300\ub85c \uc548\ubcf4\uc784.\n",
      "\"\"\"\n",
      "import numpy as np\n",
      "import matplotlib.pyplot as plt\n",
      "import matplotlib.animation as animation\n",
      "\n",
      "fig, ax = plt.subplots()\n",
      "\n",
      "x = np.arange(0, 2*np.pi, 0.01)        # x-array\n",
      "line, = ax.plot(x, np.sin(x))\n",
      "\n",
      "def animate(i):\n",
      "    line.set_ydata(np.sin(x+i/10.0))  # update the data\n",
      "    return line,\n",
      "\n",
      "#Init only required for blitting to give a clean slate.\n",
      "def init():\n",
      "    line.set_ydata(np.ma.array(x, mask=True))\n",
      "    return line,\n",
      "\n",
      "ani = animation.FuncAnimation(fig, animate, np.arange(1, 200), init_func=init,\n",
      "    interval=25, blit=True)\n",
      "plt.show()"
     ],
     "language": "python",
     "metadata": {},
     "outputs": [
      {
       "metadata": {},
       "output_type": "display_data",
       "png": "[encoded data removed]",
       "text": [
        "<matplotlib.figure.Figure at 0x77e2930>"
       ]
      }
     ],
     "prompt_number": 77
    },
    {
     "cell_type": "heading",
     "level": 2,
     "metadata": {},
     "source": [
      "Event handling"
     ]
    },
    {
     "cell_type": "markdown",
     "metadata": {},
     "source": [
      "http://matplotlib.org/1.3.1/users/event_handling.html#draggable-rectangle-exercise"
     ]
    },
    {
     "cell_type": "code",
     "collapsed": false,
     "input": [
      "import numpy as np\n",
      "import matplotlib.pyplot as plt\n",
      "\n",
      "class DraggableRectangle:\n",
      "    def __init__(self, rect):\n",
      "        self.rect = rect\n",
      "        self.press = None\n",
      "\n",
      "    def connect(self):\n",
      "        'connect to all the events we need'\n",
      "        self.cidpress = self.rect.figure.canvas.mpl_connect(\n",
      "            'button_press_event', self.on_press)\n",
      "        self.cidrelease = self.rect.figure.canvas.mpl_connect(\n",
      "            'button_release_event', self.on_release)\n",
      "        self.cidmotion = self.rect.figure.canvas.mpl_connect(\n",
      "            'motion_notify_event', self.on_motion)\n",
      "\n",
      "    def on_press(self, event):\n",
      "        'on button press we will see if the mouse is over us and store some data'\n",
      "        if event.inaxes != self.rect.axes: return\n",
      "\n",
      "        contains, attrd = self.rect.contains(event)\n",
      "        if not contains: return\n",
      "        print 'event contains', self.rect.xy\n",
      "        x0, y0 = self.rect.xy\n",
      "        self.press = x0, y0, event.xdata, event.ydata\n",
      "\n",
      "    def on_motion(self, event):\n",
      "        'on motion we will move the rect if the mouse is over us'\n",
      "        if self.press is None: return\n",
      "        if event.inaxes != self.rect.axes: return\n",
      "        x0, y0, xpress, ypress = self.press\n",
      "        dx = event.xdata - xpress\n",
      "        dy = event.ydata - ypress\n",
      "        #print 'x0=%f, xpress=%f, event.xdata=%f, dx=%f, x0+dx=%f'%(x0, xpress, event.xdata, dx, x0+dx)\n",
      "        self.rect.set_x(x0+dx)\n",
      "        self.rect.set_y(y0+dy)\n",
      "\n",
      "        self.rect.figure.canvas.draw()\n",
      "\n",
      "\n",
      "    def on_release(self, event):\n",
      "        'on release we reset the press data'\n",
      "        self.press = None\n",
      "        self.rect.figure.canvas.draw()\n",
      "\n",
      "    def disconnect(self):\n",
      "        'disconnect all the stored connection ids'\n",
      "        self.rect.figure.canvas.mpl_disconnect(self.cidpress)\n",
      "        self.rect.figure.canvas.mpl_disconnect(self.cidrelease)\n",
      "        self.rect.figure.canvas.mpl_disconnect(self.cidmotion)\n",
      "\n",
      "fig = plt.figure()\n",
      "ax = fig.add_subplot(111)\n",
      "rects = ax.bar(range(10), 20*np.random.rand(10))\n",
      "drs = []\n",
      "for rect in rects:\n",
      "    dr = DraggableRectangle(rect)\n",
      "    dr.connect()\n",
      "    drs.append(dr)\n",
      "\n",
      "plt.show()"
     ],
     "language": "python",
     "metadata": {},
     "outputs": []
    },
    {
     "cell_type": "heading",
     "level": 2,
     "metadata": {},
     "source": [
      "GUI -- wxPython"
     ]
    },
    {
     "cell_type": "markdown",
     "metadata": {},
     "source": [
      "http://eli.thegreenplace.net/2008/08/01/matplotlib-with-wxpython-guis/"
     ]
    },
    {
     "cell_type": "code",
     "collapsed": false,
     "input": [
      "\"\"\"\n",
      "This demo demonstrates how to embed a matplotlib (mpl) plot \n",
      "into a wxPython GUI application, including:\n",
      "\n",
      "* Using the navigation toolbar\n",
      "* Adding data to the plot\n",
      "* Dynamically modifying the plot's properties\n",
      "* Processing mpl events\n",
      "* Saving the plot to a file from a menu\n",
      "\n",
      "The main goal is to serve as a basis for developing rich wx GUI\n",
      "applications featuring mpl plots (using the mpl OO API).\n",
      "\n",
      "Eli Bendersky (eliben@gmail.com)\n",
      "License: this code is in the public domain\n",
      "Last modified: 30.07.2008\n",
      "\"\"\"\n",
      "import os\n",
      "import pprint\n",
      "import random\n",
      "import wx\n",
      "\n",
      "# The recommended way to use wx with mpl is with the WXAgg\n",
      "# backend. \n",
      "#\n",
      "import matplotlib\n",
      "matplotlib.use('WXAgg')\n",
      "from matplotlib.figure import Figure\n",
      "from matplotlib.backends.backend_wxagg import \\\n",
      "    FigureCanvasWxAgg as FigCanvas, \\\n",
      "    NavigationToolbar2WxAgg as NavigationToolbar\n",
      "\n",
      "\n",
      "class BarsFrame(wx.Frame):\n",
      "    \"\"\" The main frame of the application\n",
      "    \"\"\"\n",
      "    title = 'Demo: wxPython with matplotlib'\n",
      "    \n",
      "    def __init__(self):\n",
      "        wx.Frame.__init__(self, None, -1, self.title)\n",
      "        \n",
      "        self.data = [5, 6, 9, 14]\n",
      "        \n",
      "        self.create_menu()\n",
      "        self.create_status_bar()\n",
      "        self.create_main_panel()\n",
      "        \n",
      "        self.textbox.SetValue(' '.join(map(str, self.data)))\n",
      "        self.draw_figure()\n",
      "\n",
      "    def create_menu(self):\n",
      "        self.menubar = wx.MenuBar()\n",
      "        \n",
      "        menu_file = wx.Menu()\n",
      "        m_expt = menu_file.Append(-1, \"&Save plot\\tCtrl-S\", \"Save plot to file\")\n",
      "        self.Bind(wx.EVT_MENU, self.on_save_plot, m_expt)\n",
      "        menu_file.AppendSeparator()\n",
      "        m_exit = menu_file.Append(-1, \"E&xit\\tCtrl-X\", \"Exit\")\n",
      "        self.Bind(wx.EVT_MENU, self.on_exit, m_exit)\n",
      "        \n",
      "        menu_help = wx.Menu()\n",
      "        m_about = menu_help.Append(-1, \"&About\\tF1\", \"About the demo\")\n",
      "        self.Bind(wx.EVT_MENU, self.on_about, m_about)\n",
      "        \n",
      "        self.menubar.Append(menu_file, \"&File\")\n",
      "        self.menubar.Append(menu_help, \"&Help\")\n",
      "        self.SetMenuBar(self.menubar)\n",
      "\n",
      "    def create_main_panel(self):\n",
      "        \"\"\" Creates the main panel with all the controls on it:\n",
      "             * mpl canvas \n",
      "             * mpl navigation toolbar\n",
      "             * Control panel for interaction\n",
      "        \"\"\"\n",
      "        self.panel = wx.Panel(self)\n",
      "        \n",
      "        # Create the mpl Figure and FigCanvas objects. \n",
      "        # 5x4 inches, 100 dots-per-inch\n",
      "        #\n",
      "        self.dpi = 100\n",
      "        self.fig = Figure((5.0, 4.0), dpi=self.dpi)\n",
      "        self.canvas = FigCanvas(self.panel, -1, self.fig)\n",
      "        \n",
      "        # Since we have only one plot, we can use add_axes \n",
      "        # instead of add_subplot, but then the subplot\n",
      "        # configuration tool in the navigation toolbar wouldn't\n",
      "        # work.\n",
      "        #\n",
      "        self.axes = self.fig.add_subplot(111)\n",
      "        \n",
      "        # Bind the 'pick' event for clicking on one of the bars\n",
      "        #\n",
      "        self.canvas.mpl_connect('pick_event', self.on_pick)\n",
      "        \n",
      "        self.textbox = wx.TextCtrl(\n",
      "            self.panel, \n",
      "            size=(200,-1),\n",
      "            style=wx.TE_PROCESS_ENTER)\n",
      "        self.Bind(wx.EVT_TEXT_ENTER, self.on_text_enter, self.textbox)\n",
      "        \n",
      "        self.drawbutton = wx.Button(self.panel, -1, \"Draw!\")\n",
      "        self.Bind(wx.EVT_BUTTON, self.on_draw_button, self.drawbutton)\n",
      "\n",
      "        self.cb_grid = wx.CheckBox(self.panel, -1, \n",
      "            \"Show Grid\",\n",
      "            style=wx.ALIGN_RIGHT)\n",
      "        self.Bind(wx.EVT_CHECKBOX, self.on_cb_grid, self.cb_grid)\n",
      "\n",
      "        self.slider_label = wx.StaticText(self.panel, -1, \n",
      "            \"Bar width (%): \")\n",
      "        self.slider_width = wx.Slider(self.panel, -1, \n",
      "            value=20, \n",
      "            minValue=1,\n",
      "            maxValue=100,\n",
      "            style=wx.SL_AUTOTICKS | wx.SL_LABELS)\n",
      "        self.slider_width.SetTickFreq(10, 1)\n",
      "        self.Bind(wx.EVT_COMMAND_SCROLL_THUMBTRACK, self.on_slider_width, self.slider_width)\n",
      "\n",
      "        # Create the navigation toolbar, tied to the canvas\n",
      "        #\n",
      "        self.toolbar = NavigationToolbar(self.canvas)\n",
      "        \n",
      "        #\n",
      "        # Layout with box sizers\n",
      "        #\n",
      "        \n",
      "        self.vbox = wx.BoxSizer(wx.VERTICAL)\n",
      "        self.vbox.Add(self.canvas, 1, wx.LEFT | wx.TOP | wx.GROW)\n",
      "        self.vbox.Add(self.toolbar, 0, wx.EXPAND)\n",
      "        self.vbox.AddSpacer(10)\n",
      "        \n",
      "        self.hbox = wx.BoxSizer(wx.HORIZONTAL)\n",
      "        flags = wx.ALIGN_LEFT | wx.ALL | wx.ALIGN_CENTER_VERTICAL\n",
      "        self.hbox.Add(self.textbox, 0, border=3, flag=flags)\n",
      "        self.hbox.Add(self.drawbutton, 0, border=3, flag=flags)\n",
      "        self.hbox.Add(self.cb_grid, 0, border=3, flag=flags)\n",
      "        self.hbox.AddSpacer(30)\n",
      "        self.hbox.Add(self.slider_label, 0, flag=flags)\n",
      "        self.hbox.Add(self.slider_width, 0, border=3, flag=flags)\n",
      "        \n",
      "        self.vbox.Add(self.hbox, 0, flag = wx.ALIGN_LEFT | wx.TOP)\n",
      "        \n",
      "        self.panel.SetSizer(self.vbox)\n",
      "        self.vbox.Fit(self)\n",
      "    \n",
      "    def create_status_bar(self):\n",
      "        self.statusbar = self.CreateStatusBar()\n",
      "\n",
      "    def draw_figure(self):\n",
      "        \"\"\" Redraws the figure\n",
      "        \"\"\"\n",
      "        str = self.textbox.GetValue()\n",
      "        self.data = map(int, str.split())\n",
      "        x = range(len(self.data))\n",
      "\n",
      "        # clear the axes and redraw the plot anew\n",
      "        #\n",
      "        self.axes.clear()        \n",
      "        self.axes.grid(self.cb_grid.IsChecked())\n",
      "        \n",
      "        self.axes.bar(\n",
      "            left=x, \n",
      "            height=self.data, \n",
      "            width=self.slider_width.GetValue() / 100.0, \n",
      "            align='center', \n",
      "            alpha=0.44,\n",
      "            picker=5)\n",
      "        \n",
      "        self.canvas.draw()\n",
      "    \n",
      "    def on_cb_grid(self, event):\n",
      "        self.draw_figure()\n",
      "    \n",
      "    def on_slider_width(self, event):\n",
      "        self.draw_figure()\n",
      "    \n",
      "    def on_draw_button(self, event):\n",
      "        self.draw_figure()\n",
      "    \n",
      "    def on_pick(self, event):\n",
      "        # The event received here is of the type\n",
      "        # matplotlib.backend_bases.PickEvent\n",
      "        #\n",
      "        # It carries lots of information, of which we're using\n",
      "        # only a small amount here.\n",
      "        # \n",
      "        box_points = event.artist.get_bbox().get_points()\n",
      "        msg = \"You've clicked on a bar with coords:\\n %s\" % box_points\n",
      "        \n",
      "        dlg = wx.MessageDialog(\n",
      "            self, \n",
      "            msg, \n",
      "            \"Click!\",\n",
      "            wx.OK | wx.ICON_INFORMATION)\n",
      "\n",
      "        dlg.ShowModal() \n",
      "        dlg.Destroy()        \n",
      "    \n",
      "    def on_text_enter(self, event):\n",
      "        self.draw_figure()\n",
      "\n",
      "    def on_save_plot(self, event):\n",
      "        file_choices = \"PNG (*.png)|*.png\"\n",
      "        \n",
      "        dlg = wx.FileDialog(\n",
      "            self, \n",
      "            message=\"Save plot as...\",\n",
      "            defaultDir=os.getcwd(),\n",
      "            defaultFile=\"plot.png\",\n",
      "            wildcard=file_choices,\n",
      "            style=wx.SAVE)\n",
      "        \n",
      "        if dlg.ShowModal() == wx.ID_OK:\n",
      "            path = dlg.GetPath()\n",
      "            self.canvas.print_figure(path, dpi=self.dpi)\n",
      "            self.flash_status_message(\"Saved to %s\" % path)\n",
      "        \n",
      "    def on_exit(self, event):\n",
      "        self.Destroy()\n",
      "        \n",
      "    def on_about(self, event):\n",
      "        msg = \"\"\" A demo using wxPython with matplotlib:\n",
      "        \n",
      "         * Use the matplotlib navigation bar\n",
      "         * Add values to the text box and press Enter (or click \"Draw!\")\n",
      "         * Show or hide the grid\n",
      "         * Drag the slider to modify the width of the bars\n",
      "         * Save the plot to a file using the File menu\n",
      "         * Click on a bar to receive an informative message\n",
      "        \"\"\"\n",
      "        dlg = wx.MessageDialog(self, msg, \"About\", wx.OK)\n",
      "        dlg.ShowModal()\n",
      "        dlg.Destroy()\n",
      "    \n",
      "    def flash_status_message(self, msg, flash_len_ms=1500):\n",
      "        self.statusbar.SetStatusText(msg)\n",
      "        self.timeroff = wx.Timer(self)\n",
      "        self.Bind(\n",
      "            wx.EVT_TIMER, \n",
      "            self.on_flash_status_off, \n",
      "            self.timeroff)\n",
      "        self.timeroff.Start(flash_len_ms, oneShot=True)\n",
      "    \n",
      "    def on_flash_status_off(self, event):\n",
      "        self.statusbar.SetStatusText('')\n",
      "\n",
      "\n",
      "if __name__ == '__main__':\n",
      "    app = wx.App()\n",
      "    app.frame = BarsFrame()\n",
      "    app.frame.Show()\n",
      "    app.MainLoop()\n"
     ],
     "language": "python",
     "metadata": {},
     "outputs": []
    }
   ],
   "metadata": {}
  }
 ]
}
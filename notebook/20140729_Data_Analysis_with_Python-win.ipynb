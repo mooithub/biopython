{
 "metadata": {
  "name": "",
  "signature": "sha256:9dd4eafd9e2cfcd156a0f2a8cccb08364e21d8ec97f4f4708dfb8532d3b210c0"
 },
 "nbformat": 3,
 "nbformat_minor": 0,
 "worksheets": [
  {
   "cells": [
    {
     "cell_type": "markdown",
     "metadata": {},
     "source": [
      "<a id=\"TOC\"></a>\n",
      "#<center>\ud30c\uc774\uc36c\uc744 \uc774\uc6a9\ud55c \ub370\uc774\ud130\ubd84\uc11d (Data analysis with Python)</center>\n",
      "<div align=\"right\">\uc774\uc131\ud638(Sung-Ho Lee)</div>\n",
      "---\n",
      "##<center>\ubaa9\ucc28 (Table of Contents)</center>\n",
      "\n",
      "> ####- <a href=\"#1\">1. \uac1c\uc694 (Introduction)</a>\n",
      "\n",
      ">   - <a href=\"#1-1\">1-1. \uc815\uaddc\ud45c\ud604\uc2dd (Regular Expression)</a>\n",
      ">   - <a href=\"#1-2\">1-2. Python \uc5d0\uc11c \uc815\uaddc \ud45c\ud604\uc2dd\uc758 \ud65c\uc6a9</a><br>\n",
      "\n",
      "> ####- <a href=\"#2\">2. \uace1\uc120 \ub9de\ucda4 (Curve fitting)</a>\n",
      "> ####- <a href=\"#3\">3. \uc2dc\ubbac\ub808\uc774\uc158 \uae30\ubc18 \ud1b5\uacc4 (Simulation-based statistics)</a>"
     ]
    },
    {
     "cell_type": "markdown",
     "metadata": {},
     "source": [
      "<a id=\"1\"></a>\n",
      "\n",
      "---\n",
      "\n",
      "##<center>1. \uac1c\uc694 (Introduction)</center>\n",
      "\n",
      "Python\uc740 \ubb38\uc790\uc5f4\uc744 \ub2e4\ub8e8\ub294\ub370 \ud544\uc694\ud55c built-in method\ub97c \uc81c\uacf5\ud560 \ubfd0\ub9cc \uc544\ub2c8\ub77c, \uc0ac\uc6a9\ubc29\ubc95\ub3c4 \ub9e4\uc6b0 \uc27d\uae30\ub54c\ubb38\uc5d0 \ubd84\uc11d\uc744 \uc704\ud574 \ud14d\uc2a4\ud2b8 \ub370\uc774\ud130\ub97c \uc870\uc791(munging)\ud558\uc5ec \uc804\ucc98\ub9ac \ud558\ub294\ub370 \ub9e4\uc6b0 \uc720\uc6a9\ud55c \uc5b8\uc5b4\ub85c \uad11\ubc94\uc704\ud558\uac8c \uc0ac\uc6a9\ub418\uace0 \uc788\uc2b5\ub2c8\ub2e4. \ud558\uc9c0\ub9cc, \uc880 \ub354 \ubcf5\uc7a1\ud55c \uad6c\uc870\uc758 \ud14d\uc2a4\ud2b8\ub85c \uad6c\uc131\ub41c \ub370\uc774\ud130\uc5d0\uc11c \ud328\ud134\uc744 \ucc3e\uac70\ub098 \uc870\uc791\ud558\uae30 \uc704\ud574\uc11c\ub294 \uc815\uaddc \ud45c\ud604\uc2dd(regular expression) \uc5d0 \ub300\ud55c \uc774\ud574\uc640 \uc870\uc791\ub2a5\ub825\uc774 \ud544\uc694\ud569\ub2c8\ub2e4.\n",
      "\n",
      "\ub530\ub77c\uc11c \uc624\ub298 \uc2a4\ud130\ub514 \uc2dc\uac04\uc5d0\ub294 \uc880\ub354 \ubcf5\uc7a1\ud55c \uad6c\uc870\uc758 \ud14d\uc2a4\ud2b8 \uc790\ub8cc\ub97c \ubd84\uc11d\uc5d0 \uc774\uc6a9\ud558\uac8c \uc704\ud574 \uc815\uaddc\ud45c\ud604\uc2dd\uc744 \ud65c\uc6a9\ud574 \ubb38\uc790\uc5f4\uc744 \ub2e4\ub8e8\ub294(String Manupulation) \ubc29\ubc95\uc744 \uac04\ub2e8\ud558\uac8c \uac80\ud1a0\ud574\ubcf4\uaca0\uc2b5\ub2c8\ub2e4.\n",
      "\n",
      "<div align=\"right\"><a href=\"#TOC\">Top</a></div>\n",
      "\n",
      "---"
     ]
    },
    {
     "cell_type": "markdown",
     "metadata": {},
     "source": [
      "<a id=\"1-1\"></a>\n",
      "###1-1. \uc815\uaddc \ud45c\ud604\uc2dd (Regular Expression)\n",
      "\n",
      "\uc815\uaddc \ud45c\ud604\uc2dd\uc774\ub780, \ud2b9\uc815 \ud14d\uc2a4\ud2b8\ub97c \ud45c\ud604\ud560 \uc218 \uc788\ub294 \ud328\ud134\uc785\ub2c8\ub2e4.\n",
      "\uc774\ub97c \ud1b5\ud574 \ub2e4\uc74c \ud45c\uc5d0\uc11c \ubcf4\uc5ec\uc8fc\ub294 \uac83\uacfc \uac19\uc740 \ud615\ud0dc\ub85c \ubb38\uc790\uc5f4\uc5d0 \ub300\ud55c \ud328\ud134\uc744 \uc815\uc758 \ud560 \uc218 \uc788\uc2b5\ub2c8\ub2e4.\n",
      "\n",
      "<center>**\uc758\ubbf8**</center>|**\uae30\ud638**\n",
      "-|:-:\n",
      "\"\uc77c\ub828\uc758 \uc22b\uc790\ub85c \uc774\ub8e8\uc5b4\uc9d0 (a series of digits)\"| \\d+\n",
      "\"\ud55c\uae00\uc790\uc758 \uc54c\ud30c\ubcb3 \uc18c\ubb38\uc790 \ub2e4\uc74c\uc5d0 \uba87\uac1c\uc758 \uc22b\uc790\ub85c \uc774\ub8e8\uc5b4\uc9d0 (a lower case letter followed by some digits)|[a-z]\\d+\n",
      "\"\ud55c \uc904 \ub0b4\uc758 \ubaa8\ub4e0 \uc885\ub958\uc758 \uae30\ud638(character) \ub2e4\uc74c\uc5d0 \uc22b\uc790 \ub610\ub294 \uc54c\ud30c\ubcb3\uc73c\ub85c \uc774\ub8e8\uc5b4\uc9c4 1\uac1c \uc774\uc0c1\uc758 \uae00\uc790\ub85c \uc774\ub8e8\uc5b4\uc9d0\"|.+\\w+\n",
      "\n",
      "#### \ub9c1\ud06c \ucc38\uc870\n",
      "- Python 2.7 regular expression cheetsheat : https://github.com/downloads/tartley/python-regex-cheatsheet/cheatsheet.pdf\n",
      "\n",
      "<div align=\"right\"><a href=\"#TOC\">Top</a></div>"
     ]
    },
    {
     "cell_type": "markdown",
     "metadata": {},
     "source": [
      "---\n",
      "<a id=\"1-2\"></a>\n",
      "### 1-2. Python \uc5d0\uc11c \uc815\uaddc \ud45c\ud604\uc2dd\uc758 \ud65c\uc6a9\n",
      "\n",
      "Python \uc5d0\uc11c \uc815\uaddc\ud45c\ud604\uc2dd\uc774 \ucc98\ub9ac\ub41c string\uc744 \uc0ac\uc6a9\ud558\uae30 \uc704\ud574\uc11c\ub294 'raw string'\uc744 \uc774\uc6a9\ud574\uc57c \ud569\ub2c8\ub2e4."
     ]
    },
    {
     "cell_type": "code",
     "collapsed": false,
     "input": [
      "raw_string = r'\\\\, \\d, \\w+, {}, []'\n",
      "print raw_string"
     ],
     "language": "python",
     "metadata": {},
     "outputs": [
      {
       "output_type": "stream",
       "stream": "stdout",
       "text": [
        "\\\\, \\d, \\w+, {}, []\n"
       ]
      }
     ],
     "prompt_number": 1
    },
    {
     "cell_type": "markdown",
     "metadata": {},
     "source": [
      "---\n",
      "##### \ud65c\uc6a9 \uc608\uc81c)\n",
      "\n",
      "\ub0a0\uc9dc\uc640 \uc2dc\uac04, \uc18c\uc218\uac12 \ubc0f \ubb38\uc790\uc5f4\ub85c \uad6c\uc131\ub41c \ub370\uc774\ud130\uac00 \uc788\uc2b5\ub2c8\ub2e4."
     ]
    },
    {
     "cell_type": "code",
     "collapsed": false,
     "input": [
      "test = open('examples\\Ch3observations.txt', 'r')\n",
      "print test.read()"
     ],
     "language": "python",
     "metadata": {},
     "outputs": [
      {
       "output_type": "stream",
       "stream": "stdout",
       "text": [
        "13 January, 1752 at 13:53\t-1.414\t 5.781\t Found in tide pools\n",
        "17 March, 1961 at 03:46\t 14\t 3.6\t Thirty specimens observed\n",
        "1 Oct., 2002 at 18:22\t 36.51\t -3.4221\t Genome sequenced to confirm\n",
        "20 July, 1863 at 12:02\t 1.74\t 133\t Article in Harper's\n"
       ]
      }
     ],
     "prompt_number": 2
    },
    {
     "cell_type": "markdown",
     "metadata": {},
     "source": [
      "\uc774 \ub370\uc774\ud130\ub97c \ub2e4\uc74c\uacfc \uac19\uc740 \ub370\uc774\ud130 \ucc98\ub9ac\ud558\uae30 \uc6a9\uc774\ud55c \ud1b5\uc77c\ub41c \ud615\ud0dc\ub85c \ubcc0\ud658\ud558\uace0\uc790 \ud569\ub2c8\ub2e4."
     ]
    },
    {
     "cell_type": "code",
     "collapsed": false,
     "input": [
      "import re   # Regular Expression \ubaa8\ub4c8 \ud638\ucd9c\n",
      "\n",
      "find = r'(\\d+)\\s+(\\w{3})[\\w\\,\\.]*\\s+(\\d+)\\sat\\s(\\d+):(\\d+)\\s+([-\\d\\.]+)\\s+([-\\d\\.]+).*'\n",
      "\"\"\"\n",
      "Raw string \uc73c\ub85c \uc77d\uc5b4\ub4dc\ub9b4 \ud14d\uc2a4\ud2b8 line \uc758 \ud328\ud134\uc744 regular expression \uc73c\ub85c find \uc5d0 \uc815\uc758\n",
      "text \ub85c \ubd80\ud130 \ubc1b\uc544\uc11c \uc774\uc6a9\ud560 \uac12\ub294 '()' \uc548\uc5d0 \ub123\ub294\ub2e4\n",
      "\"\"\"\n",
      "\n",
      "replace = r'\\3\\t\\2.\\t\\1\\t\\4\\t\\5\\t\\6\\t\\7'\n",
      "\"\"\"\n",
      "\uc77d\uc5b4\ub4dc\ub9b0 \ud14d\uc2a4\ud2b8 line \uc5d0\uc11c fine \uc5d0 '()' \ub41c \ubd80\ubd84\uc744 \uc0c8\ub85c\uc6b4 \ud615\uc2dd\uc73c\ub85c \uad6c\uc870\ub85c \uc7ac\ubc30\uce58 \ud560 \uc218 \uc788\ub294 regular expression\uc744\n",
      "raw string \uc744 \uc774\uc6a9\ud574 \uc815\uc758\ud55c\ub2e4.\n",
      "\n",
      "\\1, \\2, \\3 ... \\7 \uc740 find \uc5d0\uc11c \uc815\uc758\ub41c () \uc758 \uc21c\uc11c\ub97c \ub098\ud0c0\ub0b8\ub2e4.\n",
      "\"\"\"\n",
      "\n",
      "for line in open('examples\\Ch3observations.txt'):  # for \ubb38\uc744 \uc774\uc6a9\ud574 \ud14d\uc2a4\ud2b8\ubb38\uc11c\ub97c \ud55c\uc904\uc529 \uc77d\uc5b4\ub4dc\ub9b0\ub2e4.\n",
      "    newline = re.sub(find, replace, line) \n",
      "    # re.sub() \uba54\uc18c\ub4dc\ub97c \ud1b5\ud574 line \uc758 \ub0b4\uc6a9\uc744 find \uc758 \ud328\ud134\uc73c\ub85c \uc778\uc2dd\ud574\uc11c replace \ub0b4\uc5d0 \uc815\uc758\ub41c \uad6c\uc870\ub85c \ubcc0\ud658\uc2dc\ud0a8\ub2e4\n",
      "    print newline, # \uc7ac\ubc30\uce58\ub41c \ubb38\uc11c\ub97c \ucd9c\ub825"
     ],
     "language": "python",
     "metadata": {},
     "outputs": [
      {
       "output_type": "stream",
       "stream": "stdout",
       "text": [
        "1752\tJan.\t13\t13\t53\t-1.414\t5.781\n",
        "1961\tMar.\t17\t03\t46\t14\t3.6\n",
        "2002\tOct.\t1\t18\t22\t36.51\t-3.4221\n",
        "1863\tJul.\t20\t12\t02\t1.74\t133\n"
       ]
      }
     ],
     "prompt_number": 3
    },
    {
     "cell_type": "markdown",
     "metadata": {},
     "source": [
      "<div align=\"right\"><a href=\"#TOC\">Top</a></div>"
     ]
    },
    {
     "cell_type": "markdown",
     "metadata": {},
     "source": [
      "---\n",
      "\n",
      "<a id = \"2\"></a>\n",
      "## <center>2. \uace1\uc120 \ub9de\ucda4 (Curve Fitting)</center>\n",
      "\n",
      "Curve fitting \uc740 \uc0dd\ubb3c\ud559\uc790\ub4e4\uc774 \ub370\uc774\ud130\uc758 \ubd84\uc11d\uc744 \uc704\ud574 \uac00\uc7a5 \ub9ce\uc774 \uc4f0\ub294 \ubd84\uc11d\uae30\uc220 \uc911\uc5d0 \ud558\ub098\uc785\ub2c8\ub2e4. ELISA \ub370\uc774\ud130\ub97c \ubd84\uc11d\ud558\uae30 \uc704\ud574 4 parameter logistic (4PL) equation \uc744 \ud65c\uc6a9\ud574\uc57c \ud558\ub294 \uc0c1\ud669\uc744 \uc608\ub85c \ub4e4\uba74, 4PL model \uc758 \uc77c\ubc18\uc801\uc778 \uacf5\uc2dd\uc740 \ub2e4\uc74c\uacfc \uac19\uc2b5\ub2c8\ub2e4.\n",
      "\n",
      "$$f\\left( x\\right) = \\dfrac {A-D}{1+\\left(\\dfrac{x}{C}\\right) ^{B}}+D$$\n",
      "\n",
      "_<center>x = concentration, A = minimum symptote, B = steepness, C = inflection point, D = maximum asymptote</center>_\n",
      "\n",
      "\n",
      "<img src=\"Images\\4pl.png\" />"
     ]
    },
    {
     "cell_type": "markdown",
     "metadata": {},
     "source": [
      "## About ELISA\n",
      "*<div align=right>from Wikipedia, the free encyclopedia</div>*\n",
      "\n",
      "The **enzyme-linked immunosorbent assat (ELISA)** is a test that uses antibodies and color change to identify a substance.\n",
      "\n",
      "The ELISA has been used as a diagnostic tool in medicine and plant pathology, as well as a quality-control check in various industries.\n",
      "\n",
      "<img src = 'Images\\ELISA-sandwich.png' />\n",
      "<img src = 'Images\\ELISA2.png' />\n",
      "<img src = 'Images\\ELISA1.jpg' width = 50% />"
     ]
    },
    {
     "cell_type": "code",
     "collapsed": false,
     "input": [
      "import numpy as np\n",
      "import numpy.random as npr\n",
      "import matplotlib.pyplot as plt\n",
      "from scipy.optimize import leastsq"
     ],
     "language": "python",
     "metadata": {},
     "outputs": [],
     "prompt_number": 4
    },
    {
     "cell_type": "code",
     "collapsed": false,
     "input": [
      "def logistic4(x, A, B, C, D):\n",
      "    \"\"\"\n",
      "    4PL logistic equation\n",
      "    \"\"\"\n",
      "    return ((A-D) / (1.0 + ((x/C)**B))) + D"
     ],
     "language": "python",
     "metadata": {},
     "outputs": [],
     "prompt_number": 5
    },
    {
     "cell_type": "code",
     "collapsed": false,
     "input": [
      "def residuals(p, y, x):\n",
      "    \"\"\"\n",
      "    Deviations of data from fitted 4PL curve\n",
      "    \"\"\"\n",
      "    A, B, C, D = p\n",
      "    err = y - logistic4(x, A, B, C, D)\n",
      "    return err"
     ],
     "language": "python",
     "metadata": {},
     "outputs": [],
     "prompt_number": 6
    },
    {
     "cell_type": "code",
     "collapsed": false,
     "input": [
      "def peval(x, p):\n",
      "    \"\"\"\n",
      "    Evaluated value at x with current parameters.\n",
      "    \"\"\"\n",
      "    A, B, C, D = p\n",
      "    return logistic4(x, A, B, C, D)"
     ],
     "language": "python",
     "metadata": {},
     "outputs": [],
     "prompt_number": 7
    },
    {
     "cell_type": "code",
     "collapsed": false,
     "input": [
      "# Make up some data for fitting and add noise\n",
      "# In practive, y_meas would be read in from a file\n",
      "\n",
      "x = np.linspace(0, 20, 20)\n",
      "A, B, C, D = 0.5, 2.5, 8, 7.3\n",
      "y_true = logistic4(x, A, B, C, D)\n",
      "y_meas = y_true + 0.2 * npr.randn(len(x))"
     ],
     "language": "python",
     "metadata": {},
     "outputs": [],
     "prompt_number": 8
    },
    {
     "cell_type": "code",
     "collapsed": false,
     "input": [
      "# Initial guess for parameters\n",
      "\n",
      "p0 = [0, 1, 1, 1]"
     ],
     "language": "python",
     "metadata": {},
     "outputs": [],
     "prompt_number": 9
    },
    {
     "cell_type": "code",
     "collapsed": false,
     "input": [
      "# Fit equation using least squares optimization\n",
      "\n",
      "plsq = leastsq(residuals, p0, args=(y_meas, x))"
     ],
     "language": "python",
     "metadata": {},
     "outputs": [
      {
       "output_type": "stream",
       "stream": "stderr",
       "text": [
        "-c:5: RuntimeWarning: divide by zero encountered in power\n"
       ]
      }
     ],
     "prompt_number": 10
    },
    {
     "cell_type": "code",
     "collapsed": false,
     "input": [
      "plsq"
     ],
     "language": "python",
     "metadata": {},
     "outputs": [
      {
       "metadata": {},
       "output_type": "pyout",
       "prompt_number": 11,
       "text": [
        "(array([ 0.69457896,  2.52766819,  8.30416425,  7.33807365]), 1)"
       ]
      }
     ],
     "prompt_number": 11
    },
    {
     "cell_type": "markdown",
     "metadata": {},
     "source": [
      "> #### scipy.optimize.leastsq( func, x0, args=(), Dfun=None, full_output=0, col_deriv=0, ftol=1.49012e-08, xtol=1.49012e-08, gtol=0.0, maxfev=0, epsfcn=None, ractor=100, diag=None)\n",
      "> - Minimize sum of squares of a set of equations\n",
      "> - Parameters:\n",
      ">     - func : callable, should take at least one (possibly length N vector) argyment and return M floating point numbers.\n",
      ">     - x0 : ndarray, the starting estimate for the minimization.\n",
      ">     - args : tuple, Any extra argument to func are placed in ths tuple."
     ]
    },
    {
     "cell_type": "code",
     "collapsed": false,
     "input": [
      "# Plot results\n",
      "\n",
      "plt.figure(figsize = (8,6), dpi = 50)\n",
      "plt.plot(x, peval(x,plsq[0]), x, y_meas, 'o', x, y_true)\n",
      "\n",
      "plt.title('Least-squares 4PL fit to noisy data')\n",
      "\n",
      "plt.legend(['Fit', 'Noisy', 'True'], loc= 'upper left')\n",
      "\n",
      "for i, (param, actual, est) in enumerate(zip('ABCD', [A, B, C, D], plsq[0])):\n",
      "    \n",
      "    plt.text(10, 3-i*0.5, '%s = %.2f, est(%s) = %.2f' % (param, actual, param, est))\n",
      "\n",
      "#plt.savefig(\u2019logistic.png\u2019)"
     ],
     "language": "python",
     "metadata": {},
     "outputs": [
      {
       "metadata": {},
       "output_type": "display_data",
       "png": "[encoded data removed]",
       "text": [
        "<matplotlib.figure.Figure at 0x1056b5e10>"
       ]
      }
     ],
     "prompt_number": 12
    },
    {
     "cell_type": "markdown",
     "metadata": {},
     "source": [
      "\n",
      "<div align=\"right\"><a href=\"#TOC\">Top</a></div>\n",
      "\n",
      "---"
     ]
    },
    {
     "cell_type": "markdown",
     "metadata": {},
     "source": [
      "<a id = \"3\"></a>\n",
      "## <center>3. \uc2dc\ubbac\ub808\uc774\uc158 \uae30\ubc18 \ud1b5\uacc4 (Simulation-based statistics)</center>"
     ]
    },
    {
     "cell_type": "markdown",
     "metadata": {},
     "source": [
      "\ucef4\ud4e8\ud130\uc758 \uc131\ub2a5 \ud5a5\uc0c1\uacfc \ud568\uaed8, \uc804\ud1b5\uc801\uc778 \ubaa8\uc218\ud1b5\uacc4\ud559\uc801 \ubc29\ubc95(parameteric statistial methos)\uc744 \ub300\uc2e0\ud558\uac70\ub098 \ub3c4\uc6c0\uc744 \uc904 \uc218 \uc788\ub294, \ub2e4\uc591\ud55c \uc2dc\ubbac\ub808\uc774\uc158 \uae30\ubc95\uc774 \uac00\ub2a5\ud558\uac8c \ub418\uc5c8\uc2b5\ub2c8\ub2e4. \uc2dc\ubbac\ub808\uc774\uc158\uc744 \uc774\uc6a9\ud55c \ud1b5\uacc4\uc801 \uae30\ubc95\uc740 \uadc0\ubb34\uac00\uc124\uc758 \uc601\ubd84\ud3ec(null distribution)\ub97c \ucd94\uc815 \ud560 \ub54c \uc0ac\uc6a9\ud560 \ud45c\ubcf8\uc758 \uc7ac\ud45c\uc9d1(resampling)\uc774 \ud544\uc694\ud558\uba70, \uc8fc\ub85c \ubd80\ud2b8\uc2a4\ud2b8\ub7a9\ubc95(bootstrap)\uc774\ub098 \uc21c\uc5f4 \uc7ac\ud45c\uc9d1(permutation resampling) \ubc95 \ub4f1\uc774 \uc0ac\uc6a9\ub429\ub2c8\ub2e4.\n",
      "\n",
      "\uc2dc\ubbac\ub808\uc774\uc158\uc744 \uc774\uc6a9\ud558\uae30 \uc804\uc5d0, \uc784\uc758\uc218\ub97c \ucd94\ucd9c\ud558\ub294 \ubc29\ubc95\uc5d0 \ub300\ud574\uc11c \uc54c\uc544\ubd05\uc2dc\ub2e4. numpy \uc5d0\uc11c \uc81c\uacf5\ud574\uc8fc\ub294 random \ubaa8\ub4c8\uc740 (numpy.random) \ud45c\uc900\ud655\ub960\ubd84\ud3ec(common probability distributions) \ub0b4\uc5d0 \uc874\uc7ac\ud558\ub294 \ub2e4\uc591\ud55c \uc784\uc758\uc758 \ud45c\ubcf8\uc744 \uc0dd\uc131\ud574\uc90d\ub2c8\ub2e4. \uc774\ub7ec\ud55c \ud2b9\uc815\ud55c \ubc29\ubc95\uc73c\ub85c \ud45c\ubcf8\uc744 \uc120\ud0dd\ud558\uc600\uc744 \ub54c, \uc784\uc758\ub85c \uc0dd\uc131\ub41c \ud45c\ubcf8\uc744 \uc774\uc6a9\ud55c \ud1b5\uacc4\ub294 \uae30\uc874 \ud45c\ubcf8\uc758 \uc2e0\ub8b0\uc131\uc744 \uac80\uc99d\ud558\ub294\ub370 \uc720\uc6a9\ud569\ub2c8\ub2e4. \ub2e4\uc74c\uc740 \uc784\uc758\uc758 \uc22b\uc790\ub97c \uc0dd\uc131\ud558\ub294 \uc608\uc81c\uc785\ub2c8\ub2e4. "
     ]
    },
    {
     "cell_type": "code",
     "collapsed": false,
     "input": [
      "import numpy.random as npr"
     ],
     "language": "python",
     "metadata": {},
     "outputs": [],
     "prompt_number": 13
    },
    {
     "cell_type": "markdown",
     "metadata": {},
     "source": [
      "- Numpy \uc758 random \ubaa8\ub4c8\uc744 \uc774\uc6a9\ud569\ub2c8\ub2e4."
     ]
    },
    {
     "cell_type": "code",
     "collapsed": false,
     "input": [
      "npr.random(5)"
     ],
     "language": "python",
     "metadata": {},
     "outputs": [
      {
       "metadata": {},
       "output_type": "pyout",
       "prompt_number": 14,
       "text": [
        "array([ 0.74576981,  0.49573676,  0.55658135,  0.68640045,  0.71705204])"
       ]
      }
     ],
     "prompt_number": 14
    },
    {
     "cell_type": "markdown",
     "metadata": {},
     "source": [
      "---\n",
      "> numpy.random.random([size]):\n",
      "> - Return random floats in the half-open interval [0.0, 1.0).\n",
      "> - parameter\n",
      ">     - size : int or tuple of ints\n",
      "\n",
      "<img src='Images/logic.png' />\n",
      "\n",
      "---"
     ]
    },
    {
     "cell_type": "code",
     "collapsed": false,
     "input": [
      "npr.random((3, 4))"
     ],
     "language": "python",
     "metadata": {},
     "outputs": [
      {
       "metadata": {},
       "output_type": "pyout",
       "prompt_number": 15,
       "text": [
        "array([[ 0.40632659,  0.06039274,  0.25238688,  0.58441436],\n",
        "       [ 0.10744068,  0.534531  ,  0.1813716 ,  0.58866935],\n",
        "       [ 0.33951101,  0.8071037 ,  0.74985969,  0.92429278]])"
       ]
      }
     ],
     "prompt_number": 15
    },
    {
     "cell_type": "code",
     "collapsed": false,
     "input": [
      "npr.normal(5, 1, 4)"
     ],
     "language": "python",
     "metadata": {},
     "outputs": [
      {
       "metadata": {},
       "output_type": "pyout",
       "prompt_number": 16,
       "text": [
        "array([ 4.58669279,  4.43946249,  5.71839128,  3.51558787])"
       ]
      }
     ],
     "prompt_number": 16
    },
    {
     "cell_type": "markdown",
     "metadata": {},
     "source": [
      "> numpy.random.normal(loc = 0.0, scale = 1.0, size = None)\n",
      "> - Draw random smaple from normal (Gaussian) distribution.\n",
      "> - Parameters:\n",
      ">     - loc : float, mean (\"center\") of the distribution\n",
      ">     - scale : float, standard deviation (spread or \"width\") of the distribution.\n",
      ">     - size : tuple of ints, output shape. If the given shape is, e.g., (m, n, k), them m \\* n \\* k sample are drawn\n",
      "\n",
      "- Random \ubaa8\ub4c8\uc758 normal method \ub294 2\uac1c \ub610\ub294 3\uac1c\uc758 \uc778\uc790\ub97c \ubc1b\uc2b5\ub2c8\ub2e4.\n",
      "\n",
      "---\n",
      "\n",
      "###The probability density for the Gaussian distribution is<br><br>\n",
      "$$p\\left(x\\right)=\\dfrac{1}{\\sqrt{2\\pi\\sigma^{2}}}e^{-\\dfrac{\\left(x-\\mu\\right)^{2}}{2\\sigma^{2}}}$$ <br>\n",
      "<center>where \u00b5 is the mean and \u03c3 the standard deviation</center>\n",
      "<br><br>\n",
      "<img src = 'Images\\Gaussian.png' />\n",
      "\n",
      "---"
     ]
    },
    {
     "cell_type": "markdown",
     "metadata": {},
     "source": [
      "#### normal method\ub97c \uc774\uc6a9\ud574 \uc815\uaddc\ubd84\ud3ec\ub3c4\ub97c \uadf8\ub9ac\ub294 \uc608\uc81c\n",
      "\n",
      "normal method \ub294 \uc815\uaddc\ubd84\ud3ec\uc778 \uac00\uc6b0\uc2dc\uc548 \ubd84\ud3ec"
     ]
    },
    {
     "cell_type": "code",
     "collapsed": false,
     "input": [
      "mu, sigma = 0, 0.1 # \ud3c9\uade0\uacfc \ud45c\uc900\ud3b8\ucc28 \uc9c0\uc815\n",
      "\n",
      "s = npr.normal(mu, sigma, 10000)"
     ],
     "language": "python",
     "metadata": {},
     "outputs": [],
     "prompt_number": 17
    },
    {
     "cell_type": "code",
     "collapsed": false,
     "input": [
      "abs(mu - np.mean(s)) < 0.01 # \ub300\uc785\ud55c \ud3c9\uade0\uac12\uacfc \uc0dd\uc131\ub41c \uac12 \uac04\uc758 \ucc28\uc774\uac00 \uc8fc\uc5b4\uc9c4 \ud45c\uc900\ud3b8\ucc28\uc758 \uc81c\uacf1\uc778 \ubd84\uc0b0 \ubc94\uc704\ub0b4\uc5d0 \uc18d\ud558\ub294\uc9c0 \ud655\uc778"
     ],
     "language": "python",
     "metadata": {},
     "outputs": [
      {
       "metadata": {},
       "output_type": "pyout",
       "prompt_number": 18,
       "text": [
        "True"
       ]
      }
     ],
     "prompt_number": 18
    },
    {
     "cell_type": "code",
     "collapsed": false,
     "input": [
      "import matplotlib.pyplot as plt\n",
      "\n",
      "count, bins, ignored = plt.hist(s, 30, normed = True)\n",
      "\n",
      "plt.plot(bins, 1/(sigma * np.sqrt(2 * np.pi)) * np.exp(-(bins-mu)**2/(2*sigma**2)), linewidth = 2, color = 'r')"
     ],
     "language": "python",
     "metadata": {},
     "outputs": [
      {
       "metadata": {},
       "output_type": "pyout",
       "prompt_number": 19,
       "text": [
        "[<matplotlib.lines.Line2D at 0x1069540d0>]"
       ]
      },
      {
       "metadata": {},
       "output_type": "display_data",
       "png": "[encoded data removed]",
       "text": [
        "<matplotlib.figure.Figure at 0x1069546d0>"
       ]
      }
     ],
     "prompt_number": 19
    },
    {
     "cell_type": "code",
     "collapsed": false,
     "input": [
      "npr.randint(1, 7, 10)"
     ],
     "language": "python",
     "metadata": {},
     "outputs": [
      {
       "metadata": {},
       "output_type": "pyout",
       "prompt_number": 20,
       "text": [
        "array([5, 6, 6, 4, 1, 1, 4, 2, 6, 6])"
       ]
      }
     ],
     "prompt_number": 20
    },
    {
     "cell_type": "code",
     "collapsed": false,
     "input": [
      "npr.uniform(1, 7, 10)"
     ],
     "language": "python",
     "metadata": {},
     "outputs": [
      {
       "metadata": {},
       "output_type": "pyout",
       "prompt_number": 21,
       "text": [
        "array([ 6.74233642,  2.6954278 ,  1.3407337 ,  6.69499448,  2.95177679,\n",
        "        3.79438459,  3.54138848,  2.21210697,  6.01997046,  1.13099531])"
       ]
      }
     ],
     "prompt_number": 21
    },
    {
     "cell_type": "code",
     "collapsed": false,
     "input": [
      "npr.binomial(n=10, p=0.2, size=(4,4))"
     ],
     "language": "python",
     "metadata": {},
     "outputs": [
      {
       "metadata": {},
       "output_type": "pyout",
       "prompt_number": 22,
       "text": [
        "array([[0, 3, 3, 2],\n",
        "       [2, 2, 1, 1],\n",
        "       [1, 2, 3, 0],\n",
        "       [2, 3, 1, 1]])"
       ]
      }
     ],
     "prompt_number": 22
    },
    {
     "cell_type": "code",
     "collapsed": false,
     "input": [
      "x = [1,2,3,4,5,6]"
     ],
     "language": "python",
     "metadata": {},
     "outputs": [],
     "prompt_number": 23
    },
    {
     "cell_type": "code",
     "collapsed": false,
     "input": [
      "npr.shuffle(x)"
     ],
     "language": "python",
     "metadata": {},
     "outputs": [],
     "prompt_number": 24
    },
    {
     "cell_type": "code",
     "collapsed": false,
     "input": [
      "x"
     ],
     "language": "python",
     "metadata": {},
     "outputs": [
      {
       "metadata": {},
       "output_type": "pyout",
       "prompt_number": 25,
       "text": [
        "[6, 4, 3, 5, 2, 1]"
       ]
      }
     ],
     "prompt_number": 25
    },
    {
     "cell_type": "code",
     "collapsed": false,
     "input": [
      "npr.permutation(10)"
     ],
     "language": "python",
     "metadata": {},
     "outputs": [
      {
       "metadata": {},
       "output_type": "pyout",
       "prompt_number": 26,
       "text": [
        "array([3, 2, 1, 9, 5, 7, 8, 4, 0, 6])"
       ]
      }
     ],
     "prompt_number": 26
    },
    {
     "cell_type": "markdown",
     "metadata": {},
     "source": [
      "---\n",
      "\uc704\uc758 \ub09c\uc218\ubc1c\uc0dd\uae30\ub97c \uc774\uc6a9\ud558\ub294 \uac83 \ubfd0 \uc544\ub2c8\ub77c, numpy \uc758 array \uc790\ub8cc\ud615\uc774 \uc81c\uacf5\ud558\ub294 indexing \ubc29\ubc95\uc744 \uc774\uc6a9\ud558\uba74 \uc544\ub798\uc640 \uac19\uc774 \uae30\uc874\uc5d0 \uc874\uc7ac\ud558\ub294 \ub370\uc774\ud130\uc5d0\uc11c \uc6d0\ud558\ub294 \uc0d8\ud50c \ucd94\ucd9c\uc744 \ub354\uc6b1 \ud6a8\uc728\uc801\uc73c\ub85c \ud560 \uc218 \uc788\uc2b5\ub2c8\ub2e4. \n",
      "\n",
      "### Index arrays\n",
      "\n",
      "Numpy array \ub294 \ub2e4\ub978 \ub370\uc774\ud130\uac12\uc744 \uac16\ub294 array \ub97c \uc774\uc6a9\ud574  indexing \ud560 \uc218 \uc788\ub3c4\ub85d \uc124\uacc4\ub418\uc5b4\uc788\uc2b5\ub2c8\ub2e4. (array \uac00 \uc544\ub2cc list, tuple \ud615\ud0dc\uc758 sequence \ub3c4 \ud65c\uc6a9 \uac00\ub2a5) \uc774 \ubc29\ubc95\uc740 string \ub610\ub294 list \uc5d0\uc11c \uc0ac\uc6a9\ud558\ub358 \ub300\uad04\ud638'[]' \ub0b4\uc5d0 index \ub97c \ub123\ub294 \ubc29\ubc95\uacfc \uac19\uc544 \uc9c1\uad00\uc801\uc774\uba70, \ub300\uad04\ud638 \ub0b4\uc5d0 array \ub610\ub294 \uc774\uc5d0 \ud560\ub2f9\ub41c \ubcc0\uc218\ub97c \uc785\ub825\ud558\uba74 \ub429\ub2c8\ub2e4.\n",
      "\n",
      "Indexing \uc744 \uc704\ud55c array \ub0b4\uc5d0 \uc785\ub825\ub41c \uac12\ub294 \ubc18\ub4dc\uc2dc \uc815\uc218\ud615(integer type) \uc774\uc5b4\uc57c \ud569\ub2c8\ub2e4.\n",
      "\n",
      "---"
     ]
    },
    {
     "cell_type": "code",
     "collapsed": false,
     "input": [
      "import numpy as np\n",
      "import numpy.random as npr\n",
      "\n",
      "data = np.array(['tom', 'jerry', 'mickey', 'minnie', 'pocahontas'])\n",
      "idx = npr.randint(0, len(data), (4,len(data)))"
     ],
     "language": "python",
     "metadata": {},
     "outputs": [],
     "prompt_number": 27
    },
    {
     "cell_type": "code",
     "collapsed": false,
     "input": [
      "idx"
     ],
     "language": "python",
     "metadata": {},
     "outputs": [
      {
       "metadata": {},
       "output_type": "pyout",
       "prompt_number": 28,
       "text": [
        "array([[4, 3, 3, 2, 3],\n",
        "       [1, 3, 0, 3, 2],\n",
        "       [4, 0, 2, 3, 2],\n",
        "       [4, 1, 1, 2, 4]])"
       ]
      }
     ],
     "prompt_number": 28
    },
    {
     "cell_type": "code",
     "collapsed": false,
     "input": [
      "sample_with_replacement = data[idx]"
     ],
     "language": "python",
     "metadata": {},
     "outputs": [],
     "prompt_number": 29
    },
    {
     "cell_type": "code",
     "collapsed": false,
     "input": [
      "sample_with_replacement"
     ],
     "language": "python",
     "metadata": {},
     "outputs": [
      {
       "metadata": {},
       "output_type": "pyout",
       "prompt_number": 30,
       "text": [
        "array([['pocahontas', 'minnie', 'minnie', 'mickey', 'minnie'],\n",
        "       ['jerry', 'minnie', 'tom', 'minnie', 'mickey'],\n",
        "       ['pocahontas', 'tom', 'mickey', 'minnie', 'mickey'],\n",
        "       ['pocahontas', 'jerry', 'jerry', 'mickey', 'pocahontas']], \n",
        "      dtype='|S10')"
       ]
      }
     ],
     "prompt_number": 30
    },
    {
     "cell_type": "code",
     "collapsed": false,
     "input": [
      "text = data[[1,2,3,3,2]]"
     ],
     "language": "python",
     "metadata": {},
     "outputs": [],
     "prompt_number": 31
    },
    {
     "cell_type": "code",
     "collapsed": false,
     "input": [
      "text"
     ],
     "language": "python",
     "metadata": {},
     "outputs": [
      {
       "metadata": {},
       "output_type": "pyout",
       "prompt_number": 32,
       "text": [
        "array(['jerry', 'mickey', 'minnie', 'minnie', 'mickey'], \n",
        "      dtype='|S10')"
       ]
      }
     ],
     "prompt_number": 32
    },
    {
     "cell_type": "markdown",
     "metadata": {},
     "source": [
      "---\n",
      "\n",
      "- \ub9cc\uc57d 1.7.0 \uc774\uc0c1 \ub418\ub294 \ubc84\uc83c\uc758 Numpy \uac00 \uc124\uce58\ub418\uc5b4 \uc788\ub2e4\uba74, 'choice' \ub77c\uace0 \ud558\ub294 \ub9e4\uc6b0 \uac04\ud3b8\ud55c \uc0d8\ud50c\ucd94\ucd9c \ud568\uc218\ub97c \uc0ac\uc6a9\ud560 \uc218 \uc788\uc2b5\ub2c8\ub2e4.\n",
      "\n",
      "---"
     ]
    },
    {
     "cell_type": "code",
     "collapsed": false,
     "input": [
      "import numpy.random as npr\n",
      "\n",
      "data = ['tom', 'jerry', 'mickey', 'minnie', 'pocahontas']\n",
      "# only availlable if you install numpy 1.7.0 from the git repository\n",
      "npr.choice(data, size=(4, len(data)), replace=True)"
     ],
     "language": "python",
     "metadata": {},
     "outputs": [
      {
       "metadata": {},
       "output_type": "pyout",
       "prompt_number": 33,
       "text": [
        "array([['minnie', 'tom', 'jerry', 'jerry', 'minnie'],\n",
        "       ['pocahontas', 'pocahontas', 'mickey', 'tom', 'jerry'],\n",
        "       ['pocahontas', 'jerry', 'minnie', 'pocahontas', 'tom'],\n",
        "       ['tom', 'tom', 'mickey', 'tom', 'pocahontas']], \n",
        "      dtype='|S10')"
       ]
      }
     ],
     "prompt_number": 33
    },
    {
     "cell_type": "markdown",
     "metadata": {},
     "source": [
      "\uc0d8\ud50c \ucd94\ucd9c\uc5d0 \ub300\ud55c \uc18c\uac1c\ub294 \ub9c8\uce58\uace0 \uc2dc\ubbac\ub808\uc774\uc158 \ubd84\uc11d\uc758 \uc608\uc2dc\ub97c \uc18c\uac1c\ud558\uaca0\uc2b5\ub2c8\ub2e4.\n",
      "\n",
      "\ub9cc\uc57d \uc6b0\ub9ac\uac00 \uac16\uace0 \uc788\ub294 \uc0d8\ud50c \ub370\uc774\ud130\uc5d0\uc11c 95% \uc758 \uc2e0\ub8b0\uad6c\uac04\uc744 \uac16\ub294 \ud3c9\uade0\uac12\uc744 \ud655\uc778\ud558\uace0 \uc2f6\ub2e4\uba74 **\ubd80\ud2b8\uc2a4\ud2b8\ub7a9(bootstrap) \ubc29\ubc95**\uc744 \uc774\uc6a9\ud574 \uc27d\uac8c \uc218\ud589\ud560 \uc218 \uc788\uc2b5\ub2c8\ub2e4. \uae30\uc874\uc5d0 \uac00\uc9c0\uace0 \uc788\ub358 \ub370\uc774\ud130\ub97c \uc774\uc6a9\ud574 \ucd5c\ub300\ud55c \ub9ce\uc740 \uc0d8\ud50c\ub9c1\uc744 \ud558\uace0, \uac01 \uc0d8\ud50c\ub4e4\uc758 \ud3c9\uade0\uac12\uc744 \uad6c\ud574\uc11c \uc21c\uc11c\ub300\ub85c ranking \ud558\uc5ec, \uadf8 \uc911 2.5 ~ 97.5 % \ub0b4\uc5d0 \ud3ec\ud568\ub418\ub294 \uac12\uc744 \uc5bb\uc73c\uba74 \uc2e0\ub8b0\ub3c4 95% \uc758 \ub370\uc774\ud130\ub97c \uc5bb\uc744 \uc218 \uc788\uc2b5\ub2c8\ub2e4. \uacc4\uc0b0\uc801\uc73c\ub85c \uc815\uaddc\uc131 \uac80\uc815(nomality assumption)\uc744 \ud1b5\ud574 95%\uc758 \uc2e0\ub8b0\uad6c\uac04\uc744 \uc5bb\ub294 \ubc29\ubc95\uacfc\ub294 \ub2e4\ub974\uac8c \ubd80\ud2b8\uc2a4\ud2b8\ub7a9 \ubc29\ubc95\uc744 \uc774\uc6a9\ud558\uba74 \ub370\uc774\ud130\uac00 \uc815\uaddc\ubd84\ud3ec\uc5d0\uc11c \uc870\uae08 \ubc97\uc5b4\ub09c\ub2e4\uace0 \ud560 \uc9c0\ub77c\ub3c4 \ud655\uc2e4\ud55c \uacb0\uacfc\ub97c \uc5bb\uc744 \uc218 \uc788\uc2b5\ub2c8\ub2e4.\n",
      "\n",
      "<img src='Images\\01fig04.jpg' width = 60%/>"
     ]
    },
    {
     "cell_type": "code",
     "collapsed": false,
     "input": [
      "import numpy as np\n",
      "import numpy.random as npr\n",
      "import pylab"
     ],
     "language": "python",
     "metadata": {},
     "outputs": [],
     "prompt_number": 34
    },
    {
     "cell_type": "code",
     "collapsed": false,
     "input": [
      "def bootstrap(data, num_samples, statistic, alpha):\n",
      "    \"\"\"\n",
      "    Returns bootsrap estiate of 100.0 * (1-alpha) CI for statistic.\n",
      "    \"\"\"\n",
      "    n = len(data)\n",
      "    \n",
      "    idx = npr.randint(0, n, (num_samples, n)) # 0~n\uae4c\uc9c0\uc758 \uc815\uc218\ubc94\uc704 \uc911\uc5d0\uc11c, (num_samples\uac1c\uc758 \uc5f4\uacfc n\uac1c\uc758 \ud589\uc744 \uac16\ub294) \ud589\ub82c \uc0dd\uc131\n",
      "    samples = x[idx] # x \ub77c\ub294 \uc0d8\ud50c\uc5d0\uc11c idx \ud589\ub82c\uc744 \uc774\uc6a9\ud574 \ubd80\ud2b8\uc2a4\ud2b8\ub7a9\uc744 \uc774\uc6a9\ud55c \ub9ac\uc0d8\ud50c\ub9c1 \uc218\ud589 \n",
      "    stat = np.sort(statistic(samples, 1)) # statistic \uc774\ub77c\ub294 \ubcc0\uc218\uc5d0 \ud560\ub2f9\ub41c function \uc744 \uc774\uc6a9\ud574  \uac12\uc744 \uc5bb\uace0 sorting. #\ub4a4\uc758 1\uc740 axis \uc5d0 \ub300\ud55c parameter\n",
      "    \n",
      "    return (stat[int((alpha / 2.0 ) * num_samples)], stat[int((1-alpha /2.0 ) * num_samples)])"
     ],
     "language": "python",
     "metadata": {},
     "outputs": [],
     "prompt_number": 35
    },
    {
     "cell_type": "code",
     "collapsed": false,
     "input": [
      "if __name__ == '__main__':\n",
      "    # data of interest is bimodal and obviously not normal ' \uc815\uaddc\ubd84\ud3ec\uc5d0 \uc18d\ud558\uc9c0 \uc54a\ub294 \ub450\uc885\ub958\uc758 \ubd84\ud3ec\ub97c \uac16\ub294 \ub370\uc774\ud130\ub97c \uc0dd\uc131'\n",
      "    x = np.concatenate([npr.normal(3,1,100), npr.normal(6,2,200)])"
     ],
     "language": "python",
     "metadata": {},
     "outputs": [],
     "prompt_number": 36
    },
    {
     "cell_type": "code",
     "collapsed": false,
     "input": [
      "    # find mean 95% CI and 100,000 bootstrap sample\n",
      "    low, high = bootstrap(x, 100000, np.mean, 0.05)\n",
      "    print low, high"
     ],
     "language": "python",
     "metadata": {},
     "outputs": [
      {
       "output_type": "stream",
       "stream": "stdout",
       "text": [
        "4.67370909293 5.17341364616\n"
       ]
      }
     ],
     "prompt_number": 37
    },
    {
     "cell_type": "code",
     "collapsed": false,
     "input": [
      "    # make plots\n",
      "    pylab.figure(figsize = (8,4)) # 8 x 4 \ud06c\uae30\uc758 figure \uc0dd\uc131\n",
      "    \n",
      "    pylab.subplot(121) # \uc88c\uce21 plot \uc9c0\uc815\n",
      "    pylab.hist(x, 50, histtype='step') # x \uac12\uc744 50\ub4f1\ubd84\ud574\uc11c step \ud0c0\uc785\uc758 \ud788\uc2a4\ud1a0\uadf8\ub7a8\uc73c\ub85c \ucd9c\ub825\n",
      "    pylab.title('Histogram of data')\n",
      "    \n",
      "    pylab.subplot(122)\n",
      "    pylab.plot([-0.03, 0.03], [np.mean(x), np.mean(x)], 'r', linewidth = 2)\n",
      "    pylab.scatter(0.1*(npr.random(len(x))-0.5), x)\n",
      "    pylab.plot([0.19, 0.21], [low, low], 'r', linewidth = 2)\n",
      "    pylab.plot([0.19, 0.21], [high, high], 'r', linewidth = 2)\n",
      "    pylab.plot([0.2, 0.2], [low, high], 'r', linewidth = 2)\n",
      "    pylab.xlim([-0.2, 0.3])\n",
      "    pylab.title('Bootstrap 95% CI for mean')\n",
      "    pylab.savefig('examples/bootsrap.png')"
     ],
     "language": "python",
     "metadata": {},
     "outputs": [
      {
       "metadata": {},
       "output_type": "display_data",
       "png": "[encoded data removed]",
       "text": [
        "<matplotlib.figure.Figure at 0x106a746d0>"
       ]
      }
     ],
     "prompt_number": 38
    },
    {
     "cell_type": "markdown",
     "metadata": {},
     "source": [
      "\uc5ec\uae30\uc11c \uc6b0\ub9ac\uac00 \uc608\uc2dc\ub97c \ubcf4\uc778 \ubd80\ud2b8\uc2a4\ud2b8\ub7a9 \ud568\uc218\ub294 \ub2e4\ub978 \ud568\uc218\ub97c \uc778\uc218\ub85c \uac00\uc9c8 \uc218 \uc788\ub294 \uace0\ucc28 \ud568\uc218(higher order function) \uc774\uae30 \ub54c\ubb38\uc5d0 \ud3c9\uade0 \uac12 \ubfd0 \uc544\ub2c8\ub77c \ub2e4\ub978 \ud1b5\uacc4 \ud568\uc218\ub97c \uc0ac\uc6a9\ud574\ub3c4 \ubb34\ubc29\ud558\ub2e4. \uc608\ub97c \ub4e4\uc5b4 \ud45c\uc900\ud3b8\uc790\uc758 95%\uc758 \uc2e0\ub8b0\uad6c\uac04\uc744 \uc5bb\uae30 \uc704\ud574\uc11c\ub294 \ub2e4\uc74c\uacfc \uac19\uc774 np.mean \ub85c \uc784\ub825\ud588\ub358 \uc778\uc218\ub97c np.std\ub85c \uad50\uccb4\ud558\uba74 \ub41c\ub2e4.\n",
      "\n",
      "> \\# find standard deviation 95% CI bootstrap samples<br>\n",
      "> low, high =  bootstrap(x, 100000, np.std, 0.05)\n",
      "\n",
      "\uc774 \ud568\uc218\ub97c \uc774\uc6a9\ud574 \uc704\uc640 \uac19\uc774 300 \uac1c\uc758 \ub370\uc774\ud130 \uc0d8\ud50c\ub85c\ubd80\ud130 10\ub9cc\uac1c\uc758 \ubd80\ud2b8\uc2a4\ud2b8\ub7a9 \uc0d8\ud50c\ub9c1\uc744 \uc2e4\uc2dc\ud588\uc744 \ub54c, 2.4GHz Core 2 CPU \uc758 \uc131\ub2a5\uc744 \uac16\ub294 \ub178\ud2b8\ubd81\uc5d0\uc11c \uc57d 2\ucd08\uc758 \uc2dc\uac04\uc774 \uac78\ub9b0\ub2e4. "
     ]
    },
    {
     "cell_type": "markdown",
     "metadata": {},
     "source": [
      "\uc218\uc5f4(permutation)\uc744 \uc774\uc6a9\ud55c \uc7ac\ud45c\uc9d1(resampling)\ubc29\ubc95\ub3c4 \uc2dc\ubbac\ub808\uc774\uc158 \uae30\ubc18\uc758 \ud1b5\uacc4\ub97c \uad6c\ud560 \ub54c \uc790\uc8fc \uc0ac\uc6a9\ub418\uba70, \ub354\ubd88\uc5b4 label permutation \uc0c1\uc5d0\uc11c \ubd88\ubcc0\ud558\ub294 \uad70\uc5d0 \ub300\ud574\uc11c \uadc0\ubb34\uac00\uc124\uc744 \uc124\uc815\ud574, \ub450 \uad70(group) \uac04\uc5d0 \ucc28\uc774\uc5d0 \ub300\ud55c \uc720\uc758\ud655\ub960, p-value \uac12\uc744 \uce21\uc815\ud558\ub294 \ub370\uc5d0\ub3c4 \uc774\uc6a9\ub41c\ub2e4.\n",
      "\n",
      "\uc608\ub97c \ub4e4\uc5b4, \ud658\uc790-\ub300\uc870\uad70 \uc5f0\uad6c(case-control study)\uc5d0\uc11c \ube44\uad50 \ud658\uc790\uad70\uc758 \ud3c9\uade0\uc774 \ube44\uad50\uad70\uc758 \ud3c9\uade0\uacfc \ucc28\uc774\uac00 \uc788\uc744 \uac83\uc774\ub77c\ub294 \uac00\uc124\uc5d0 \ub300\ud55c p-value \ub97c \ucc3e\uace0\uc790 \ud560 \ub54c \uc0ac\uc6a9\ub420 \uc218 \uc788\ub2e4. \uc774 \uacbd\uc6b0 t-test \ub294 \uc815\uaddc\ubd84\ud3ec\uace1\uc120\uc744 \uadf8\ub9ac\uc9c0 \uc54a\uae30 \ub54c\ubb38\uc5d0 \uc0ac\uc6a9\ud560 \uc218 \uc5c6\ub2e4."
     ]
    },
    {
     "cell_type": "code",
     "collapsed": false,
     "input": [
      "import numpy as np\n",
      "import numpy.random as npr\n",
      "import pylab\n",
      "\n",
      "def permutation_resampling(case, control, num_samples, statistic):\n",
      "    \"\"\"\n",
      "    Returns p-value that statistic for case is different from statistic for control.\n",
      "    \"\"\"\n",
      "    \n",
      "    observed_diff = abs(statistic(case) - statistic(control)) # \ub450 \uad70\uac04\uc758 \ud1b5\uacc4\uac12\uc758 \ucc28\uc774\ub97c \uad6c\ud568\n",
      "    num_case = len(case) # \ud658\uc790\uad70\uc758 \uc218\ub97c \uc5bb\uc74c\n",
      "    \n",
      "    combined = np.concatenate([case, control]) # \ud658\uc790\uad70\uacfc \ube44\uad50\uad70\uc744 \ud569\uccd0\uc11c \uc0c8\ub85c\uc6b4 \uc218\uc5f4\uc744 \ub9cc\ub4ec\n",
      "    diffs = []\n",
      "    \n",
      "    for i in range(num_samples):\n",
      "        xs = npr.permutation(combined) # \uc804\uccb4 \uc218\uc5f4\uc744 \uc11e\uc5b4\uc11c \uc0c8\ub85c\uc6b4 \ub9ac\uc2a4\ud2b8\ub97c \ubf51\uc74c\n",
      "        diff = np.mean(xs[:num_case]) - np.mean(xs[num_case:]) # \uc804\uccb4 \uc218\uc5f4 \uc911\uc5d0\uc11c \ud658\uc790\uad70\uc758 \uc22b\uc790\ub9cc\ud07c\uc758 \uc0d8\ud50c \ud45c\uc9d1\ud574 \ubd84\uc0b0 \ud3c9\uade0\uac12\uc744 \uc5bb\ub294\ub2e4.\n",
      "        diffs.append(diff)\n",
      "    \n",
      "    pval = (np.sum(diffs > observed_diff) + np.sum(diffs < -observed_diff))/float(num_samples) # p-value \uac12 \uce21\uc815\n",
      "    \n",
      "    return pval, observed_diff, diffs"
     ],
     "language": "python",
     "metadata": {},
     "outputs": [],
     "prompt_number": 39
    },
    {
     "cell_type": "code",
     "collapsed": false,
     "input": [
      "if __name__ == '__main__':\n",
      "    # make up some data\n",
      "    case = [94, 38, 23, 197, 99, 16, 141]\n",
      "    control = [52, 10, 40, 104, 51, 27, 146, 30, 46]\n",
      "    \n",
      "    # find p-value by permutation resampling\n",
      "    pval, observed_diff, diffs = permutation_resampling(case, control, 10000, np.mean)\n",
      "    \n",
      "    # make plots\n",
      "    pylab.title('Empirical null distribution for differences in mean')\n",
      "    pylab.hist(diffs, bins=100, histtype='step', normed=True)\n",
      "    pylab.axvline(observed_diff, c='red', label='diff')\n",
      "    pylab.axvline(-observed_diff, c='green', label='-diff')\n",
      "    pylab.text(60, 0.01, 'p = %.3f' % pval, fontsize = 14)\n",
      "    pylab.legend()\n",
      "    #pylab.savefig('examples/permutation.png')\n",
      "    "
     ],
     "language": "python",
     "metadata": {},
     "outputs": [
      {
       "metadata": {},
       "output_type": "display_data",
       "png": "[encoded data removed]",
       "text": [
        "<matplotlib.figure.Figure at 0x106993110>"
       ]
      }
     ],
     "prompt_number": 40
    }
   ],
   "metadata": {}
  }
 ]
}
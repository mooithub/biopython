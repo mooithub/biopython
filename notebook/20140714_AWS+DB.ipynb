{
 "metadata": {
  "name": ""
 },
 "nbformat": 3,
 "nbformat_minor": 0,
 "worksheets": [
  {
   "cells": [
    {
     "cell_type": "markdown",
     "metadata": {},
     "source": [
      "#pre-4.15 \uc544\ub9c8\uc874 EC2 \uc11c\ubc84 \uac1c\uc124\ud558\uae30\n",
      "###FAQ\n",
      "\n",
      "- \uc65c \ub9ac\ub205\uc2a4 \uc11c\ubc84\ub97c \uac1c\uc124\ud574\uc57c \ud558\ub294\uac00?\n",
      "    - \uc2a4\ud130\ub514 \ud658\uacbd\uc744 \uc720\uc9c0\ud558\uae30 \uc704\ud574 \ub178\ud2b8\ubd81\uc744 \ub4e4\uace0 \ub2e4\ub2c8\ub294 \ubd88\ud3b8\uc744 \uc904\uc778\ub2e4.\n",
      "    - python \uad00\ub828 \uac1c\ubc1c\ud658\uacbd\uc758 \uad6c\ucd95\uc774 \uc27d\ub2e4.\n",
      "    - OS\uac00 \ub2e4\uc591\ud558\uc5ec \ubc1c\uc0dd\ud558\ub294 \uc18c\ud504\ud2b8\uc6e8\uc5b4 \uc124\uce58 \ubb38\uc81c\ub97c \uc77c\uc6d0\ud654 \ud55c\ub2e4.\n",
      "\n",
      "\n",
      "- \uc65c \uc544\ub9c8\uc874\uc744 \uc774\uc6a9\ud574\uc57c \ud558\ub294\uac00? [>>>](http://aws.amazon.com/ko/ec2/)\n",
      "    - \uc800\ubcc0\uc774 \ub113\uace0 \uc548\uc815\uc801\uc774\ub2e4.\n",
      "    - \uc800\ub834\ud558\ub2e4.(\uccab \uc77c\ub144\ub3d9\uc548. \uc774\ud6c4\ub85c\ub294 \uc5f0\uac04 \uc57d 10\ub9cc\uc6d0/\uae30\ubcf8\uc0ac\uc591\uc758 \ube44\uc6a9\uc774 \ubc1c\uc0dd)\n",
      "    - \uad6d\ub0b4\uc5d0 \ub370\uc774\ud130 \uc13c\ud130\uac00 \uc5f4\ub9b4 \uac00\ub2a5\uc131\uc774 \uc788\ub2e4.(\uc18d\ub3c4 \ubb38\uc81c\uac00 \ud574\uacb0\ub420 \uc804\ub9dd)\n",
      "    - \uc2e4\uc81c \uc11c\ubc84\uc640\ub294 \ub2e4\ub974\uac8c \uacf5\uac04\uc744 \ucc28\uc9c0\ud558\uc9c0 \uc54a\ub294\ub2e4.\n",
      "    - \uc544\ub9c8\uc874\uc5d0\uc11c \uc81c\uacf5\ud558\ub294 \ub2e4\uc591\ud55c \uac8c\ub188 \ub370\uc774\ud130\ub97c \uc27d\uac8c \ucde8\ub4dd\ud560 \uc218 \uc788\ub2e4. \n",
      "        - ex: \uc77c\ub8e8\ubbf8\ub098 CEO, Jay Flatley\uc758 \uac8c\ub188 \ub370\uc774\ud130\ub97c \ucde8\ub4dd\ud558\ub294 \ubc29\ubc95 [>>>](http://hongiiv.tistory.com/658)\n",
      "        \n",
      "###\uc21c\uc11c\n",
      "    \n",
      "- AWS \uac00\uc785\ud558\uae30(\uacc4\uc815 \uc0dd\uc131\uacfc \uce74\ub4dc \uc815\ubcf4 \uc785\ub825) [>>>](http://aws.amazon.com/ko/free)\n",
      "- \uc9c0\uc5ed \uc124\uc815 (\ub3c4\ucfc4 \ucd94\ucc9c)\n",
      "- AWS \uc6f9\ucf58\uc194\uc5d0\uc11c EC2 \uc120\ud0dd => EC2 Dashboard => Launch Instance\n",
      "- AMI\uc758 \uc120\ud0dd(\uc6b0\ubd84\ud22c14.4 \ucd94\ucc9c), \uc2a4\ud1a0\ub9ac\uc9c0 \ud06c\uae30(16GB \ucd94\ucc9c), \ub124\ud2b8\uc6cc\ud06c \uc124\uc815(ssh port, Elastic IP)\n",
      "- pem key \ud30c\uc77c \ub2e4\uc6b4\ub85c\ub4dc\n",
      "- \uac01 OS\uc5d0\uc11c \uc811\uc18d\ud558\uae30 [Official](http://docs.aws.amazon.com/AWSEC2/latest/UserGuide/AccessingInstances.html)\n",
      "     - \uc708\ub3c4\uc6b0\uc988 \uc0ac\uc6a9\uc790: [putty \ub2e4\uc6b4\ubc1b\uae30](http://the.earth.li/~sgtatham/putty/latest/x86/putty.exe), [\uc811\uc18d\ubc29\ubc95](https://www.decloud.co.kr/index.php/customer-support/documentation/item/aws-ssh-putty.html)\n",
      "     - \ub9e5 \uc0ac\uc6a9\uc790: [\uc811\uc18d\ubc29\ubc95](http://lab4109.blogspot.kr/2013/10/aws-ec2-osx.html)\n",
      "     \n",
      "            "
     ]
    },
    {
     "cell_type": "markdown",
     "metadata": {},
     "source": [
      "#4.15 Data management and relational databases\n",
      "###4.15.0\n",
      "     \n",
      "\n",
      "- DB\ub780 \ubb34\uc5c7\uc778\uac00? [>>>](http://ko.wikipedia.org/wiki/%EB%8D%B0%EC%9D%B4%ED%84%B0%EB%B2%A0%EC%9D%B4%EC%8A%A4)\n",
      "    - \uc5ec\ub7ec \uc0ac\ub78c\ub4e4\uc774 \uacf5\uc720\ud558\uace0 \uc0ac\uc6a9\ud560 \ubaa9\uc801\uc73c\ub85c \ud1b5\ud569 \uad00\ub9ac\ub418\ub294 \uc815\ubcf4\uc758 \uc9d1\ud569\uc774\ub2e4. \ub17c\ub9ac\uc801\uc73c\ub85c \uc5f0\uad00\ub41c \ud558\ub098 \uc774\uc0c1\uc758 \uc790\ub8cc\uc758 \ubaa8\uc74c\uc73c\ub85c \uadf8 \ub0b4\uc6a9\uc744 \uace0\ub3c4\ub85c \uad6c\uc870\ud654\ud568\uc73c\ub85c\uc368 \uac80\uc0c9\uacfc \uac31\uc2e0\uc758 \ud6a8\uc728\ud654\ub97c \uaf80\ud55c \uac83\uc774\ub2e4. \uc989, \uba87 \uac1c\uc758 \uc790\ub8cc \ud30c\uc77c\uc744 \uc870\uc9c1\uc801\uc73c\ub85c \ud1b5\ud569\ud558\uc5ec \uc790\ub8cc \ud56d\ubaa9\uc758 \uc911\ubcf5\uc744 \uc5c6\uc560\uace0 \uc790\ub8cc\ub97c \uad6c\uc870\ud654\ud558\uc5ec \uae30\uc5b5\uc2dc\ucf1c \ub193\uc740 \uc790\ub8cc\uc758 \uc9d1\ud569\uccb4\ub77c\uace0 \ud560 \uc218 \uc788\ub2e4.\n",
      "    \n",
      "    \n",
      "- \uc65c db\ub97c \uc4f0\ub294\uac00? (\ud30c\uc77c\uacfc DB\uc758 \ube44\uad50) [>>>](http://www.sqler.com/bSQL2000Lec/127341)\n",
      "    - \ud30c\uc77c(File)\n",
      "        - \ubb3c\ub9ac\uc801 \ube44\ud2b8\ub4e4\uc758 \uc5f0\uc18d (\uc0ac\uc6a9\uc790 \uce21\uba74)\n",
      "        - \uc11c\ub85c \ub2e4\ub978 \uc5b8\uc5b4\uc5d0\uc11c \uac01\uac01\uc758 \ud30c\uc77c \uc5f0\uc0b0\uc790\ub97c \uc774\uc6a9\ud558\uc5ec \uc870\uc791 \uac00\ub2a5\n",
      "        - in C, fread, fwrite, etc\n",
      "        - in python, f = open(), f.write(), etc\n",
      "    - \ub370\uc774\ud130\ubca0\uc774\uc2a4\n",
      "        - \ub17c\ub9ac\uc801 \uad6c\uc870\uc758 \ub370\uc774\ud130\uc758 \uc9d1\ud569 (\uc0ac\uc6a9\uc790 \uce21\uba74)\n",
      "        - \ud45c\uc900 \uc5b8\uc5b4\ub97c \uc774\uc6a9\ud558\uc5ec \ub370\uc774\ud130 \uc870\uc791 \uac00\ub2a5\n",
      "        - use SQL\n",
      "        \n",
      "        \n",
      "- \uae30\ucd08 \uc6a9\uc5b4 \uc124\uba85\n",
      "    - \ub370\uc774\ud130\ubca0\uc774\uc2a4: \uc815\ub9ac\ub41c \ub370\uc774\ud130\ub97c \uc800\uc7a5\ud558\uae30 \uc704\ud55c \uacf5\uac04\n",
      "    - \ud14c\uc774\ube14: \uad6c\uc870\ud654\ub41c \ud2b9\uc815\ud55c \ud0c0\uc785\uc758 \ud14c\uc774\ud130 \ubaa9\ub85d\n",
      "    - \uc2a4\ud0a4\ub9c8: \ub370\uc774\ud130\ubca0\uc774\uc2a4\uc640 \ud14c\uc774\ube14 \uad6c\uc870, \uc18d\uc131\uc5d0 \ub300\ud55c \uc815\ubcf4\n",
      "    - \uceec\ub7fc: \ud14c\uc774\ube14\uc5d0 \uc788\ub294 \ud558\ub098\uc758 \ud544\ub4dc. \ubaa8\ub4e0 \ud14c\uc774\ube14\uc740 \ud55c \uac1c \uc774\uc0c1\uc758 \uce7c\ub7fc\uc73c\ub85c \uad6c\uc131\ub418\uc5b4 \uc788\ub2e4.\n",
      "    - \ub370\uc774\ud130 \ud0c0\uc785: \n",
      "        - \ud5c8\uc6a9\ub418\ub294 \ub370\uc774\ud130\uc758 \uc720\ud615. \n",
      "        - \ubaa8\ub4e0 \ud14c\uc774\ube14 \uceec\ub7fc\uc740 \ub370\uc774\ud130\ud0c0\uc785\uc744 \uac00\uc9c0\uace0 \uc788\uace0,\uceec\ub7fc\uc5d0\ub294 \uc815\ud574\uc9c4 \ub370\uc774\ud130 \ud0c0\uc785\ub9cc \ud5c8\uc6a9\ub41c\ub2e4.(\uc815\ud574\uc9c0\uc9c0 \uc54a\uc740 \ub370\uc774\ud130 \ud0c0\uc785\uc740 \uc81c\ud55c\ub41c\ub2e4.)\n",
      "    - \ud589: \ud14c\uc774\ube14\uc5d0 \uc788\ub294 \ub808\ucf54\ub4dc\n",
      "    - \uc8fc \ud0a4: \ud14c\uc774\ube14\uc5d0 \uc788\ub294 \uac01 \ud589\uc744 \uad6c\ubcc4\ud558\ub294 \uceec\ub7fc(\ub610\ub294 \uceec\ub7fc \uc9d1\ud569)\n",
      "    - sql: Structured Query Languag, \uc5d0\uc2a4\ud050\uc5d8 \ub610\ub294 \uc2dc\ud004\ub85c \uc77d\uc74c\n",
      "    \n",
      "\n",
      "- \uc65c mysql, oracle\uc774 \uc544\ub2cc sqlite\uc778\uac00? [>>>](https://code.google.com/p/gonando-project/wiki/SQLite3_performance)\n",
      "\n",
      "    - \uc7a5\uc810\n",
      "        - \ubaa8\ub4e0 \ub370\uc774\ud0c0\uac00 \ud654\uc77c 1 \uac1c\uc5d0 \uc800\uc7a5\ub41c\ub2e4.\n",
      "        - \uba40\ud2f0\uc4f0\ub808\ub4dc\ub97c \uc9c0\uc6d0\ud558\uae30 \uc704\ud55c \ub3d9\uae30\ud654 \uc635\uc158\uc744 \ub044\uba74 \uac70\uc758 mysql \uc218\uc900\uc758 \uc18d\ub3c4\ub97c \uc790\ub791\ud55c\ub2e4.\n",
      "        - \ud2b8\ub79c\uc81d\uc158\uc744 \uc9c0\uc6d0\ud55c\ub2e4. \uc989, \ud2b8\ub79c\uc81d\uc158\uc744 \uc2dc\ub3d9\ud558\uace0 \uace0\uce60\uac70 \uace0\uce58\ub2e4\uac00 \uc544\ub2c8\ub2e4 \uc2f6\uc73c\uba74 rollback(\ub418\ub3cc\ub9ac\uae30)\ud558\uba74 \ub428.\n",
      "        - \ub0b4\ubd80\uc801\uc73c\ub85c \ub370\uc774\ud0c0 \ud0c0\uc785\uc774 \uc5c6\ub2e4. \uc774\uac83\uc740 \ubb3c\ub860 \uc6d0\uce59\uc801\uc778 DB\uc758 \ud2b9\uc131\uc5d0\ub294 \uc5b4\uae0b\ub098\uc9c0\ub9cc \uc5ed\uc73c\ub85c \uc0c1\ub2f9\ud55c \uc735\ud1b5\uc131\uc744 \ubc1c\ud718\ud560 \uc218 \uc788\ub2e4.\n",
      "        - SQL92 \ud45c\uc900\uc744 mysql \uc218\uc900\uc73c\ub85c \uc9c0\uc6d0\ud55c\ub2e4. (\ud480\uc9c0\uc6d0\uc740 \uc544\ub2c8\ub2e4)\n",
      "        - \ud30c\uc77c\ubcf5\uc0ac\ub85c \ubc31\uc5c5\uc774 \ub05d\ub09c\ub2e4\n",
      "\n",
      "    - \ub2e8\uc810\n",
      "        - \uc6d0\uaca9 \uc0ac\uc6a9\uc774 \ubd88\uac00\ub2a5\ud558\ub2e4. \n",
      "        - DB \uc5d4\uc9c4\uc790\uccb4\uac00 \ud638\uc2a4\ud2b8 \ud504\ub85c\uadf8\ub7a8\uc5d0 \uc784\ubca0\ub529\ub418\ub294 \uc2a4\ud0c0\uc77c\uc774\ubbc0\ub85c \ud638\uc2a4\ud2b8 \ud504\ub85c\uadf8\ub7a8\uc774 DB \ucc98\ub9ac\uc5d0 \ub300\ud55c \ubaa8\ub4e0 \ubd80\ud558\ub97c \uc548\uc744 \uc218 \uc788\ub2e4.\n",
      "        - \uc4f0\ub808\ub4dc \uc138\uc774\ud504\ub85c \ucef4\ud30c\uc77c \ub418\uc9c0 \uc54a\uc73c\uba74 \ub3d9\uc2dc\uc5d0 \ub9ce\uc740 \ud504\ub85c\uc138\uc2a4\uac00 \uc811\uadfc\ud560 \ub54c \ubb38\uc81c\uac00 \uc0dd\uae38\uc218 \uc788\ub2e4. \uc4f0\ub808\ub4dc \uc138\uc774\ud504\ub85c \ucef4\ud30c\uc77c \ub418\uc5b4\ub3c4 \ub9ce\uc740 \uc4f0\ub808\ub4dc\uac00 \uc811\uadfc\ud560 \ub54c \uc5d0\ub7ec\uac00 \uc0dd\uae30\ub294 \uac83\uc744 \ubaa9\uaca9\ud588\ub2e4.\n",
      "        - \uce74\ud0c8\ub85c\uadf8\uac00 \ub0b4\ubd80\uc801\uc73c\ub85c \ucc98\ub9ac\ub418\uc9c0 \uc54a\uc544 \ub370\uc774\ud130\uc758 \uc591\ub4f1\uc744 \uc54c\uae30 \ud798\ub4e4\ub2e4\n",
      "        - \ucc98\ub9ac\ud55c \ub370\uc774\ud130 \uc591 \ub4f1\uc744 \uc54c \uc218 \uc5c6\ub2e4\n",
      "            \n",
      "            \n",
      "- sqlite3, python-sqlite\uc758 \uc124\uce58\uc640 \uae30\ubcf8 SQL \uc0ac\uc6a9\ud558\uae30 (\uc6b0\ubd84\ud22c \ub9ac\ub205\uc2a4)\n",
      "\n",
      "\n",
      ">$ sudo apt-get install sqlite3 python-sqlite <br>\n",
      "\n",
      ">$ sqlite test.db <br>\n",
      "\n",
      ">sqlite> .help <br>\n",
      "   "
     ]
    },
    {
     "cell_type": "markdown",
     "metadata": {},
     "source": [
      "###4.15.1 The (very) Basics of SQL (from p.85 of 89)\n",
      "\n",
      "- \uc5ec\uae30 \ub450\uac1c\uc758 \ud14c\uc774\ube14\uc774 \uc788\ub2e4. (\ud558\ub098\ub294 \uc5f0\uad6c\uc6d0 \ubaa9\ub85d, \ub2e4\ub978 \ud558\ub098\ub294 \uc2e4\ud5d8 \ubaa9\ub85d\uc744 \uc704\ud55c \uac83\uc73c\ub85c \ubcf4\uc778\ub2e4.)\n",
      "\n",
      "    create table people (\n",
      "        id integer primary key,\n",
      "        name varchar,\n",
      "        position varchar,\n",
      "        phone varchar,\n",
      "        office varchar    );\n",
      "\n",
      "    create table experiment (\n",
      "        id integer primary key,\n",
      "        name varchar,\n",
      "        researcher integer,\n",
      "        description text,\n",
      "        foreign key(researcher) references people(id)    );\n",
      "\n",
      "\ub2e4\uc2dc \ud45c\ub85c \uad6c\uc131\ud558\uba74,\n",
      "\n",
      "\ud14c\uc774\ube14|1|2|3|4|5\n",
      "---- | ---- | ---- \n",
      "people|id |name|position|phone|office\n",
      "experiment|id |name|researcher|description|foreign key (ref. people id)\n",
      "    "
     ]
    },
    {
     "cell_type": "markdown",
     "metadata": {},
     "source": [
      "- DB \uc548\uc5d0\uc11c \ud14c\uc774\ube14\uacfc \uceec\ub7fc \ub9cc\ub4e4\uae30\n",
      "\n",
      ">sqlite> create table people ( <br>\n",
      ">...> id integer primary key, <br>\n",
      ">...> name varchar, <br>\n",
      ">...> position varchar, <br>\n",
      ">...> phone varchar, <br>\n",
      ">...> office varchar <br>\n",
      ">...> );\n",
      "\n",
      "> create table experiment ( <br>\n",
      ">...> id integer primary key, <br>\n",
      ">...> name varchar, <br>\n",
      ">...> researcher integer, <br>\n",
      ">...> description text, <br>\n",
      ">...> foreign key(researcher) references people(id) <br>\n",
      ">...> );\n",
      "\n",
      ">sqlite> .table <br>\n",
      ">sqlite> pragma table_info(people);<br>\n",
      ">sqlite> pragma table_info(experiment);\n",
      "\n",
      "\n",
      "\n",
      "- \ud14c\uc774\ube14\uc5d0 \uc6d0\ud558\ub294 \ud589\uacfc \ub370\uc774\ud130 \ub123\uae30\n",
      "\n",
      ">sqlite> insert into people values ( Null, \u2019Seongjun\u2019, \u2019tester\u2019, \u2019555-5555\u2019, \u2019Ansan\u2019);<br>\n",
      ">sqlite> insert into people values ( Null, 'Alice', 'Research Director', '555-123-0001', '4b');<br>\n",
      ">sqlite> insert into people values ( Null, 'Bob', 'Research assistant', '555-123-0002', '17');<br>\n",
      ">sqlite> insert into people values ( Null, 'Charles', 'Research assistant', '555-123-0001', '24');<br>\n",
      ">sqlite> insert into people values ( Null, 'David', 'Research assistant', '555-123-0001', '8');<br>\n",
      "<p>\n",
      "\n",
      ">sqlite> .header on <br>\n",
      ">sqlite> .mode column <br>\n",
      ">sqlite> select * from people; <br>\n",
      "\n",
      "\n",
      "\n",
      "- \uae30\uc874 \ud589\uc5d0 \ub36e\uc5b4\uc4f0\uae30\n",
      "\n",
      ">sqlite> update people set name=\u2019Eddie\u2019 where id=4;<br>\n",
      ">sqlite> select * from people; <br>\n",
      "\n",
      "- \ud589\uacfc \ud589 \uc0ac\uc774\uc5d0 \ud589 \ucd94\uac00\ub294 \ucd94\ucc9c\ub418\uc9c0 \uc54a\uc73c\uba70, \uceec\ub7fc \ucd94\uac00\ub294 \ub2e4\uc74c\uacfc \uac19\ub2e4. [>>>](http://stackoverflow.com/questions/4253804/insert-new-column-into-table-in-sqlite) "
     ]
    },
    {
     "cell_type": "markdown",
     "metadata": {},
     "source": [
      "###4.15.2 Python and DBI\n",
      "\n",
      "- reference: [>>> doc.python.org](https://docs.python.org/2/library/sqlite3.html)\n",
      "\n",
      "\n",
      "- \uc8fc\uad50\uc7ac\uc5d0\uc11c\uc758 sqlite\uac00 \uc0ac\uc6a9\ub418\ub294 \ubc94\uc704\ub294 \ud06c\uac8c \ub2e4\uc74c \uc138\uac00\uc9c0\ub85c \ub098\ub25c\ub2e4.\n",
      "    1. Create a connection object\n",
      "    2. Execute a SQL statement\n",
      "    3. Iterate over results"
     ]
    },
    {
     "cell_type": "code",
     "collapsed": false,
     "input": [
      "import sqlite3\n",
      "\n",
      "# con = sqlite3.connect(\u2019pcfb.sqlite\u2019)\n",
      "con = sqlite3.connect('/home/akudoku/Desktop/test.db')\n",
      "r = con.execute('select * from people')\n",
      "for i in r:\n",
      "    print i\n",
      "con.close()"
     ],
     "language": "python",
     "metadata": {},
     "outputs": [
      {
       "output_type": "stream",
       "stream": "stdout",
       "text": [
        "(1, u'seongjun')\n"
       ]
      }
     ],
     "prompt_number": 6
    },
    {
     "cell_type": "markdown",
     "metadata": {},
     "source": [
      "####execute\ub97c \uc774\uc6a9\ud55c insert\uc758 \uc218\ud589\n",
      "\n",
      "- \ub370\uc774\ud130\ub97c \ub4f1\ub85d\ud574\uc57c \ud560 \ud544\uc694\uac00 \uc788\ub294 \uc0c1\ud669\uc5d0\uc11c\ub294 cursor, commit\uc744 \uc774\uc6a9\ud55c\ub2e4.   \n",
      "    - \ucee4\ub125\ud2b8\ub3c4 execute \uba54\uc18c\ub4dc\uac00 \uc788\ub294\ub370 \uc65c cursor\uc758 execute \uba54\uc18c\ub4dc\ub97c \uc368\uc57c \ud558\ub098? [>>>](http://stackoverflow.com/questions/6318126/why-do-you-need-to-create-a-cursor-when-querying-a-sqlite-database)\n",
      "    - \ucee4\uc11c\ub294 \ud14c\uc774\ube14 \ub0b4\uc5d0\uc11c\uc758 \uc774\ub3d9\uacfc \uac80\uc0c9, \ud589 \ucd94\uac00/\uc81c\uac70\uac00 \uac00\ub2a5\ud558\uba70, \ucee4\ub125\ud2b8\ub294 \ube44\uacf5\uc2dd\uc801\uc778 execute \uba54\uc18c\ub4dc \uad6c\ud604\uc774\ubbc0\ub85c \uc0ac\uc6a9\uc774 \uad8c\uc7a5\ub418\uc9c0 \uc54a\ub294\ub2e4."
     ]
    },
    {
     "cell_type": "code",
     "collapsed": false,
     "input": [
      "import sqlite3\n",
      "\n",
      "# conn = sqlite3.connect('example.db')\n",
      "conn = sqlite3.connect('/home/akudoku/Desktop/test.db')\n",
      "c = conn.cursor()\n",
      "\n",
      "# Create table\n",
      "c.execute('''CREATE TABLE stocks\n",
      "             (date text, trans text, symbol text, qty real, price real)''')\n",
      "\n",
      "# Insert a row of data\n",
      "c.execute(\"INSERT INTO stocks VALUES ('2006-01-05','BUY','RHAT',100,35.14)\")\n",
      "\n",
      "# Save (commit) the changes\n",
      "conn.commit()\n",
      "\n",
      "# We can also close the connection if we are done with it.\n",
      "# Just be sure any changes have been committed or they will be lost.\n",
      "conn.close()"
     ],
     "language": "python",
     "metadata": {},
     "outputs": [],
     "prompt_number": 10
    },
    {
     "cell_type": "markdown",
     "metadata": {},
     "source": [
      "####\ubcf4\uc548\uc744 \uc704\ud55c sql \ucffc\ub9ac\uc640 \ud30c\uc774\uc36c \ucf54\ub4dc\uc758 \ubd84\ub9ac\n",
      "\n",
      "- sql injection attack\uc5d0\uc11c \ucffc\ub9ac \ub0b4\uc6a9\uc744 \uc228\uae30\uae30 \uc704\ud55c \uc704\ud55c \ucf54\ub529 \ubc29\ubc95 [sql injection?](http://ko.wikipedia.org/wiki/SQL_%EC%82%BD%EC%9E%85)\n",
      "    - execute \uba54\uc18c\ub4dc\uc5d0 \ucffc\ub9ac\ub97c \uc9c1\uc811 \ub123\ub294 \uac83\uc740, \ubcf4\uc548\uc5d0 \ucde8\uc57d\uc131, \ucf54\ub529\uc5d0 \ube44\ud6a8\uc728\uc131\uc744 \ucd08\ub798\ud558\ubbc0\ub85c \uad8c\uc7a5\ub418\uc9c0 \uc54a\ub294\ub2e4. \uc678\ubd80\uc5d0 \uacf5\uac1c \ub418\uc9c0 \uc54a\ub294\ub2e4\uba74 \ud06c\uac8c \uc2e0\uacbd \uc4f8 \ubd80\ubd84\uc740 \uc544\ub2c8\uc9c0\ub9cc... \n",
      "    - execute \ub0b4\uc758 \ucffc\ub9ac\uc5d0 ?\ub97c \ub123\uace0, \ubcc0\uc218\ub97c \ub300\uc785\ud558\uc5ec \ub3d9\uc801\uc73c\ub85c(?) \ucffc\ub9ac\uac00 \uc644\uc131\ub418\ub3c4\ub85d \ud560 \uac83."
     ]
    },
    {
     "cell_type": "code",
     "collapsed": false,
     "input": [
      "import sqlite3\n",
      "\n",
      "# conn = sqlite3.connect('example.db')\n",
      "conn = sqlite3.connect('/home/akudoku/Desktop/test.db')\n",
      "c = conn.cursor()\n",
      "\n",
      "# Never do this -- insecure!\n",
      "# symbol = 'RHAT'\n",
      "# c.execute(\"SELECT * FROM stocks WHERE symbol = '%s'\" % symbol)\n",
      "\n",
      "# Do this instead\n",
      "t = ('RHAT',)\n",
      "c.execute('SELECT * FROM stocks WHERE symbol=?', t)\n",
      "print c.fetchone()\n",
      "\n",
      "# Larger example that inserts many records at a time\n",
      "purchases = [('2006-03-28', 'BUY', 'IBM', 1000, 45.00),\n",
      "             ('2006-04-05', 'BUY', 'MSFT', 1000, 72.00),\n",
      "             ('2006-04-06', 'SELL', 'IBM', 500, 53.00),\n",
      "            ]\n",
      "c.executemany('INSERT INTO stocks VALUES (?,?,?,?,?)', purchases)\n",
      "conn.commit()\n",
      "conn.close()"
     ],
     "language": "python",
     "metadata": {},
     "outputs": [
      {
       "output_type": "stream",
       "stream": "stdout",
       "text": [
        "(u'2006-01-05', u'BUY', u'RHAT', 100.0, 35.14)\n"
       ]
      }
     ],
     "prompt_number": 1
    },
    {
     "cell_type": "markdown",
     "metadata": {},
     "source": [
      "####\uc2e4\uc2b5!!\n",
      "\n",
      "- \ud30c\uc774\uc36c \ucf54\ub4dc\ub97c \uc774\uc6a9\ud574 \ud2b9\uc815 \ud589\uc744 \uc218\uc815\ud558\ub294 \ucf54\ub4dc\ub97c \uc791\uc131\ud55c\ub2e4."
     ]
    },
    {
     "cell_type": "markdown",
     "metadata": {},
     "source": [
      "###4.15.3 extra info.\n",
      "\n",
      "####jason parsing with python\n",
      "\n",
      "- reference [docs.python.org](https://docs.python.org/2/library/json.html)\n",
      "- wikipedia [\uc815\uc758](http://ko.wikipedia.org/wiki/JSON): \ub370\uc774\ud130\ub97c \ub370\uc774\ud130 \ud0c0\uc785\uacfc \ud568\uaed8 \uc804\ub2ec\ud558\uc5ec, \uc5b8\uc5b4\ub85c \ubd80\ud130 \ub3c5\ub9bd\uc801\uc778 \uac83\uc774 \uc7a5\uc810.\n",
      "- json\uc744 \uc65c \uc368\uc57c \ud558\ub294\uac00? [>>>](http://stackoverflow.com/questions/4350753/advantages-of-using-application-json-over-text-plain)\n",
      "    - \ud2b9\uc815\ud55c \uad6c\uc870\uac00 \uc788\ub294 \ub370\uc774\ud130\ub97c \ub2e4\ub8f0 \ub54c, \uc27d\uac8c \uc811\uadfc\ud560 \uc218 \uc788\ub2e4.\n",
      "    - \uc608\ub97c \ub4e4\uc5b4, python\uc5d0\uc11c\ub294 pickle\uc744 \ud1b5\ud574 dict\ub97c \uc27d\uac8c \uc800\uc7a5\ud558\uace0 \ubcf5\uad6c\ud560 \uc218 \uc788\uc9c0\ub9cc, \ub2e4\ub978 \uc5b8\uc5b4\ub85c \uc804\ub2ec\ud560 \ub54c\ub294 \uc0c1\ud638\uc6b4\uc601\uc131([interoperability](http://stackoverflow.com/questions/2259270/pickle-or-json))\uc744 \uc704\ud574 json \ub610\ub294 xml\ub85c \ub370\uc774\ud130\ub97c \uc800\uc7a5\ud560 \ud544\uc694\uac00 \uc788\ub2e4.\n",
      "    - python, java, javascript \ub4f1 \ud558\ub098\uc758 \ub3c4\uba54\uc778\uc5d0\uc11c \uc5ec\ub7ec \uc5b8\uc5b4\ub97c \uc0ac\uc6a9\ud558\ub294 \uacbd\uc6b0, \uc989 bio informatics\uc5d0\uc11c \uc720\uc6a9\ud55c \ubc29\uc2dd\uc774\ub77c\uace0 \ud560 \uc218 \uc788\ub2e4.\n",
      "- python\uc5d0\uc11c\ub294 json\uc744 \uae30\ubcf8 \ub7f0\ud0c0\uc784 \ub77c\uc774\ube0c\ub7ec\ub9ac\ub85c \uc81c\uacf5\ud558\ubbc0\ub85c \uc124\uce58\uac00 \ud544\uc694\ud558\uae30 \uc54a\ub2e4."
     ]
    },
    {
     "cell_type": "code",
     "collapsed": false,
     "input": [
      "import json                       \n",
      "\n",
      "data = {1:'a',2:'b'} \n",
      "data2 = json.dumps(data)\n",
      "data3 = json.loads(data2)\n",
      "\n",
      "print 'data:', type(data), '\\t', data\n",
      "print 'data2:', type(data2), '\\t', data2\n",
      "print 'data3:', type(data3), '\\t', data3"
     ],
     "language": "python",
     "metadata": {},
     "outputs": [
      {
       "output_type": "stream",
       "stream": "stdout",
       "text": [
        "data: <type 'dict'> \t{1: 'a', 2: 'b'}\n",
        "data2: <type 'str'> \t{\"1\": \"a\", \"2\": \"b\"}\n",
        "data3: <type 'dict'> \t{u'1': u'a', u'2': u'b'}\n"
       ]
      }
     ],
     "prompt_number": 6
    },
    {
     "cell_type": "markdown",
     "metadata": {},
     "source": [
      "####maria-db and python\n",
      "\n",
      "- reference [dev.mysql.com](http://dev.mysql.com/doc/connector-python/en/connector-python-examples.html) \n",
      "- installation [>>>](http://codeinthehole.com/writing/how-to-set-up-mysql-for-python-on-ubuntu/)\n",
      "- tutorial [\uc9c0\ud6c8\ud604\uc11c](http://mcchae.egloos.com/11020293) \n",
      "\n",
      "\n",
      "\n",
      ">$ apt-get install python-pip \n",
      "\n",
      ">$ pip install -U pip\n",
      ">$ apt-get install python-dev libmysqlclient-dev\n",
      ">$ pip install MySQL-python\n"
     ]
    },
    {
     "cell_type": "code",
     "collapsed": false,
     "input": [],
     "language": "python",
     "metadata": {},
     "outputs": []
    }
   ],
   "metadata": {}
  }
 ]
}
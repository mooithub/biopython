{
 "metadata": {
  "name": "",
  "signature": "sha256:48763cae0ddcd7a7b820d3382d20014e953e836f4cd08c060504998978894d71"
 },
 "nbformat": 3,
 "nbformat_minor": 0,
 "worksheets": [
  {
   "cells": [
    {
     "cell_type": "heading",
     "level": 2,
     "metadata": {},
     "source": [
      "4.9 Python Basics I"
     ]
    },
    {
     "cell_type": "heading",
     "level": 3,
     "metadata": {},
     "source": [
      "4.9.1 Why Program?"
     ]
    },
    {
     "cell_type": "raw",
     "metadata": {},
     "source": [
      "Biology is increasingly data-rich. And the amount of data is growing exponentially, as I am sure you are all only too well aware. Wouldn\u2019t it be really nice if you had some unpaid slaves that would help you sort through your data, check for problems, find the most interesting bits, and generate pretty pictures for you to include in your next manuscript? Well, you are in luck, for the computer is a slave factory, and the slaves are called programs. And today, I have some slaves to give away ..."
     ]
    },
    {
     "cell_type": "heading",
     "level": 3,
     "metadata": {},
     "source": [
      "4.9.2 What can my slave do?"
     ]
    },
    {
     "cell_type": "raw",
     "metadata": {},
     "source": [
      "\ub2e4\uc74c 3\uac00\uc9c0\ub97c \uc911\uc810\uc73c\ub85c \ub2e4\ub8e8\uace0\uc790 \ud568\n",
      "1. Data munging\n",
      ": taking that error-riddled, color-coded, highly redundant Excel spreadsheet that biologists love to create, and cleaning, parsing and proofing it so that it is suitable for analysis\n",
      ": create persistent data stores that allow you to slice and dice well-structured data (Data management and relational databasesI)\n",
      "2. Data analysis\n",
      ": how to do statistics (Data analysis with Python)\n",
      "3. Data visualization\n",
      ": exploratory data analysis (NumPy and Matplotlib)\n",
      ": communicating results (Vector graphics with Inkscape)"
     ]
    },
    {
     "cell_type": "heading",
     "level": 3,
     "metadata": {},
     "source": [
      "4.9.3 \ud504\ub85c\uadf8\ub798\uba38\ucc98\ub7fc \uc0dd\uac01\ud558\uae30"
     ]
    },
    {
     "cell_type": "raw",
     "metadata": {},
     "source": [
      "\ud504\ub85c\uadf8\ub7a8\uc5d0\uc11c \ub2e4\uc12f\uac00\uc9c0 \uae30\ubcf8 \uc5f0\uc0b0\n",
      "1. Get input data\n",
      "2. Store data in variables\n",
      "3. Do some calculation or check logic\n",
      "4. Repeat\n",
      "5. Generate some output"
     ]
    },
    {
     "cell_type": "code",
     "collapsed": false,
     "input": [
      "# Example of palindrome\n",
      "# get input and store in variable word\n",
      "word = raw_input(\"Enter a word: \")\n",
      "# check if word is the same when reversed\n",
      "if word == word[::-1]:\n",
      "    print \"%s is a palindrome!\" % word\n",
      "else:\n",
      "    print \"%s is a regular old word\" % word"
     ],
     "language": "python",
     "metadata": {},
     "outputs": [
      {
       "name": "stdout",
       "output_type": "stream",
       "stream": "stdout",
       "text": [
        "Enter a word: abcdefgfedcba\n"
       ]
      },
      {
       "output_type": "stream",
       "stream": "stdout",
       "text": [
        "abcdefgfedcba is a palindrome!\n"
       ]
      }
     ],
     "prompt_number": 1
    },
    {
     "cell_type": "code",
     "collapsed": false,
     "input": [
      "\"\"\"Count the number of vowels in a name.\"\"\"\n",
      "# input data and store in variable name\n",
      "name = raw_input(\"What\u2019s your name? \")\n",
      "# store count of vowels in variable num_vowels\n",
      "num_vowels = 0\n",
      "# repeat updating of vowel count\n",
      "for vowel in 'aeiou':\n",
      "    # simple calculation (count occurences of vowel in string)\n",
      "    num_vowels += name.count(vowel) # output result\n",
      "    print \"Hello %s, there are %d vowels in your name.\" % (name, num_vowels)"
     ],
     "language": "python",
     "metadata": {},
     "outputs": [
      {
       "name": "stdout",
       "output_type": "stream",
       "stream": "stdout",
       "text": [
        "What\u2019s your name? Ka-Kyung Kim\n"
       ]
      },
      {
       "output_type": "stream",
       "stream": "stdout",
       "text": [
        "Hello Ka-Kyung Kim, there are 1 vowels in your name.\n",
        "Hello Ka-Kyung Kim, there are 1 vowels in your name.\n",
        "Hello Ka-Kyung Kim, there are 2 vowels in your name.\n",
        "Hello Ka-Kyung Kim, there are 2 vowels in your name.\n",
        "Hello Ka-Kyung Kim, there are 3 vowels in your name.\n"
       ]
      }
     ],
     "prompt_number": 2
    },
    {
     "cell_type": "raw",
     "metadata": {},
     "source": [
      "\uc704\uc5d0\uc11c \uc18c\uac1c\ud55c 5\uac1c\uc758 \uc5f0\uc0b0\uc740 \ucef4\ud4e8\ud130\uac00 \ubaa8\ub450 \ud560 \uc218 \uc788\ub294 \uac83\uc774\uae30 \ub54c\ubb38\uc5d0, \ud06c\uace0 \ubcf5\uc7a1\ud55c \ud504\ub85c\uc81d\ud2b8\uc870\ucc28\ub3c4 \uc774\ub7ec\ud55c \uc5f0\uc0b0\uc744 \ud569\uce58\uace0 match\ud558\uae30 \uc704\ud574 \uc791\uc740 \uc791\uc5c5\uc73c\ub85c boil down \ub418\uc5b4\uc57c\ud55c\ub2e4. \uc774 5\uac1c \uc5f0\uc0b0\uc744 \uc548\ub2e4\uba74 \ud504\ub85c\uadf8\ub7a8 \ud558\ub294 \ubc95\uc744 \uc544\ub294 \uac83\uc774\uace0, \ub098\uba38\uc9c0\ub294 \uc138\ubd80 \uc0ac\ud56d\uc77c \ubfd0\uc774\ub2e4."
     ]
    },
    {
     "cell_type": "heading",
     "level": 3,
     "metadata": {},
     "source": [
      "4.9.4 Python \uc18c\uac1c"
     ]
    },
    {
     "cell_type": "raw",
     "metadata": {},
     "source": [
      "Python\uc740 \ubc30\uc6b0\uae30 \uac04\ub2e8\ud55c \ud504\ub85c\uadf8\ub798\ubc0d \uc5b8\uc5b4\uc774\uba70 \uc5b4\ub5a0\ud55c \uc758\uc0dd\ubb3c\ud559 \ub370\uc774\ud130 \ucc98\ub9ac\uc758 \uc694\uad6c\ub97c \uc704\ud574 \uad11\ubc94\uc704\ud55c \ub77c\uc774\ube0c\ub7ec\ub9ac\ub97c \uc81c\uacf5\ud558\uc5ec \uc0dd\ubb3c\ud559\uc790\uac00 \ucc98\uc74c \ubc30\uc6b0\uae30 \uc704\ud574 \uc774\uc0c1\uc801\uc774\ub2e4. Python\uc744 \ub2e4\ub8e8\ub294\ub370 \uce5c\uc219\uc9c0\uba74, \uac00\uc7a5 \uc720\uc6a9\ud55c \ub450\ubc88\uc9f8 \uc5b8\uc5b4\ub294 \ud1b5\uacc4 \ubd84\uc11d\uc5d0 \ud2b9\ud654\ub41c \uc624\ud508 \uc18c\uc2a4 \uc5b8\uc5b4\uc778 R\uc774\ub2e4. \n",
      "Python\uc740 \ud504\ub85c\uadf8\ub798\ubc0d \ubb38\uc7a5\uc774 \ub05d\ub098\uc790\ub9c8\uc790 instruction\uc774 \uc2e4\ud589\ub418\ub294 \uc778\ud130\ud504\ub9ac\ud130 \uc5b8\uc5b4\uc774\ub2e4. Python \uc778\ud130\ud504\ub9ac\ud130\uac00 \uc2e4\ud589\ub418\ub294 \uac83\uc744 \ubcf4\uae30 \uc704\ud574\uc11c IPython interpreter\uc744 \uc0ac\uc6a9\ud55c\ub2e4. \ud130\ubbf8\ub110 \uc708\ub3c4\uc6b0\ub97c \uc5f4\uc5b4\uc11c ipython\ub9cc \ud0c0\uc774\ud551 \ud558\uba74 \ub2e4\uc74c\uacfc \uac19\uc740 \uba54\uc2dc\uc9c0\ub97c \ubcfc \uc218 \uc788\ub2e4.\n",
      "eris:pcfb cliburn$ ipython\n",
      "Enthought Python Distribution -- http://www.enthought.com\n",
      "Python 2.6.6 |EPD 6.3-2 (32-bit)| (r266:84292, Sep 23 2010, 11:52:53)\n",
      "Type \"copyright\", \"credits\" or \"license\" for more information.\n",
      "IPython 0.10.1 -- An enhanced Interactive Python.\n",
      "? -> Introduction and overview of IPython\u2019s features.\n",
      "%quickref -> Quick reference.\n",
      "help -> Python\u2019s own help system.\n",
      "object? -> Details about \u2019object\u2019. ?object also works, ?? prints more.\n",
      "\n",
      "\n",
      "There is also a vanilla python interpreter, but ipython provides so many nice features such as Unix shell integration, tab completion, history etc that I hardly ever use the python interpreter. Try typing ? in ipython to see what it offers. To exit the information screen, type q to quit. There are several ways to get more information about a Python language feature - for example, what does the python range function do? Type help(range) or help range or range? or ?range.\n",
      "\n",
      "(\uc790\uc138\ud55c \ub0b4\uc6a9\uc740 IPython \uc2a4\ud130\ub514 \ub0b4\uc6a9\uc744 \ucc38\uc870\ud558\uc138\uc694^^)"
     ]
    },
    {
     "cell_type": "heading",
     "level": 3,
     "metadata": {},
     "source": [
      "4.9.5 \uacc4\uc0b0\uae30\ub85c\uc11c\uc758 Python\n"
     ]
    },
    {
     "cell_type": "code",
     "collapsed": false,
     "input": [
      "1+2*3**2"
     ],
     "language": "python",
     "metadata": {},
     "outputs": [
      {
       "metadata": {},
       "output_type": "pyout",
       "prompt_number": 3,
       "text": [
        "19"
       ]
      }
     ],
     "prompt_number": 3
    },
    {
     "cell_type": "code",
     "collapsed": false,
     "input": [
      "3/2 #output\uc774 int \ud615\uc2dd"
     ],
     "language": "python",
     "metadata": {},
     "outputs": [
      {
       "metadata": {},
       "output_type": "pyout",
       "prompt_number": 4,
       "text": [
        "1"
       ]
      }
     ],
     "prompt_number": 4
    },
    {
     "cell_type": "code",
     "collapsed": false,
     "input": [
      "3/2.0 #output\uc774 float \ud615\uc2dd"
     ],
     "language": "python",
     "metadata": {},
     "outputs": [
      {
       "metadata": {},
       "output_type": "pyout",
       "prompt_number": 5,
       "text": [
        "1.5"
       ]
      }
     ],
     "prompt_number": 5
    },
    {
     "cell_type": "code",
     "collapsed": false,
     "input": [
      "13 % 4"
     ],
     "language": "python",
     "metadata": {},
     "outputs": [
      {
       "metadata": {},
       "output_type": "pyout",
       "prompt_number": 6,
       "text": [
        "1"
       ]
      }
     ],
     "prompt_number": 6
    },
    {
     "cell_type": "code",
     "collapsed": false,
     "input": [
      "import math"
     ],
     "language": "python",
     "metadata": {},
     "outputs": [],
     "prompt_number": 7
    },
    {
     "cell_type": "code",
     "collapsed": false,
     "input": [
      "math.pi"
     ],
     "language": "python",
     "metadata": {},
     "outputs": [
      {
       "metadata": {},
       "output_type": "pyout",
       "prompt_number": 8,
       "text": [
        "3.141592653589793"
       ]
      }
     ],
     "prompt_number": 8
    },
    {
     "cell_type": "code",
     "collapsed": false,
     "input": [
      "math.e"
     ],
     "language": "python",
     "metadata": {},
     "outputs": [
      {
       "metadata": {},
       "output_type": "pyout",
       "prompt_number": 9,
       "text": [
        "2.718281828459045"
       ]
      }
     ],
     "prompt_number": 9
    },
    {
     "cell_type": "code",
     "collapsed": false,
     "input": [
      "math.pi/4"
     ],
     "language": "python",
     "metadata": {},
     "outputs": [
      {
       "metadata": {},
       "output_type": "pyout",
       "prompt_number": 10,
       "text": [
        "0.7853981633974483"
       ]
      }
     ],
     "prompt_number": 10
    },
    {
     "cell_type": "code",
     "collapsed": false,
     "input": [
      "math.sin(math.pi/4)"
     ],
     "language": "python",
     "metadata": {},
     "outputs": [
      {
       "metadata": {},
       "output_type": "pyout",
       "prompt_number": 11,
       "text": [
        "0.7071067811865475"
       ]
      }
     ],
     "prompt_number": 11
    },
    {
     "cell_type": "code",
     "collapsed": false,
     "input": [
      "math.asin(math.sin(math.pi/4))"
     ],
     "language": "python",
     "metadata": {},
     "outputs": [
      {
       "metadata": {},
       "output_type": "pyout",
       "prompt_number": 12,
       "text": [
        "0.7853981633974482"
       ]
      }
     ],
     "prompt_number": 12
    },
    {
     "cell_type": "code",
     "collapsed": false,
     "input": [
      "math.sqrt(16)"
     ],
     "language": "python",
     "metadata": {},
     "outputs": [
      {
       "metadata": {},
       "output_type": "pyout",
       "prompt_number": 13,
       "text": [
        "4.0"
       ]
      }
     ],
     "prompt_number": 13
    },
    {
     "cell_type": "code",
     "collapsed": false,
     "input": [
      "16**0.5"
     ],
     "language": "python",
     "metadata": {},
     "outputs": [
      {
       "metadata": {},
       "output_type": "pyout",
       "prompt_number": 14,
       "text": [
        "4.0"
       ]
      }
     ],
     "prompt_number": 14
    },
    {
     "cell_type": "heading",
     "level": 3,
     "metadata": {},
     "source": [
      "4.9.6 Types"
     ]
    },
    {
     "cell_type": "raw",
     "metadata": {},
     "source": [
      "1. Integers are natural numbers, ..., -3, -2, -1, 0, 1, 2, 3 ...\n",
      "2. Floats are \u201cdecimal\u201d numbers e.g. 0.01, 1e-6, math.pi etc\n",
      "3. Bools are the values True and False\n",
      "4. Strings are anything within single quotes, double quotes, or \u201ctriple\u201d quotes such as \u2019hello\u2019, \"hello\", \u201d\u2019hello\u201d\u2019 and \"\"\"hello\"\"\"."
     ]
    },
    {
     "cell_type": "code",
     "collapsed": false,
     "input": [
      "s = \"My first string\""
     ],
     "language": "python",
     "metadata": {},
     "outputs": [],
     "prompt_number": 15
    },
    {
     "cell_type": "code",
     "collapsed": false,
     "input": [
      "s[0]"
     ],
     "language": "python",
     "metadata": {},
     "outputs": [
      {
       "metadata": {},
       "output_type": "pyout",
       "prompt_number": 16,
       "text": [
        "'M'"
       ]
      }
     ],
     "prompt_number": 16
    },
    {
     "cell_type": "code",
     "collapsed": false,
     "input": [
      "s[1]"
     ],
     "language": "python",
     "metadata": {},
     "outputs": [
      {
       "metadata": {},
       "output_type": "pyout",
       "prompt_number": 17,
       "text": [
        "'y'"
       ]
      }
     ],
     "prompt_number": 17
    },
    {
     "cell_type": "code",
     "collapsed": false,
     "input": [
      "s[-1]"
     ],
     "language": "python",
     "metadata": {},
     "outputs": [
      {
       "metadata": {},
       "output_type": "pyout",
       "prompt_number": 18,
       "text": [
        "'g'"
       ]
      }
     ],
     "prompt_number": 18
    },
    {
     "cell_type": "code",
     "collapsed": false,
     "input": [
      "s[0:2] #\uccab\ubc88\uc9f8 \uc778\ub371\uc2a4(0)\ubd80\ud130 2\ubbf8\ub9cc\uae4c\uc9c0 \ubc30\uc5f4, \uc989 M,y,\uacf5\ubc31"
     ],
     "language": "python",
     "metadata": {},
     "outputs": [
      {
       "metadata": {},
       "output_type": "pyout",
       "prompt_number": 19,
       "text": [
        "'My'"
       ]
      }
     ],
     "prompt_number": 19
    },
    {
     "cell_type": "code",
     "collapsed": false,
     "input": [
      "s[3:8] #\uc138\ubc88\uc9f8\ubd80\ud130 7\ubc88\uc9f8\uae4c\uc9c0 \uc778\ub371\uc2a4\ub97c \uac00\uc9c4 \ubc30\uc5f4"
     ],
     "language": "python",
     "metadata": {},
     "outputs": [
      {
       "metadata": {},
       "output_type": "pyout",
       "prompt_number": 20,
       "text": [
        "'first'"
       ]
      }
     ],
     "prompt_number": 20
    },
    {
     "cell_type": "code",
     "collapsed": false,
     "input": [
      "s[3:8:2] #\uc138\ubc88\uc9f8\ubd80\ud130 7\ubc88\uc9f8\uae4c\uc9c0 2\uac1c \uac04\uaca9\uc73c\ub85c \uc778\ub371\uc2a4\ub97c \uac00\uc9c4 \ubc30\uc5f4"
     ],
     "language": "python",
     "metadata": {},
     "outputs": [
      {
       "metadata": {},
       "output_type": "pyout",
       "prompt_number": 21,
       "text": [
        "'frt'"
       ]
      }
     ],
     "prompt_number": 21
    },
    {
     "cell_type": "code",
     "collapsed": false,
     "input": [
      "s[::-1] #inverse"
     ],
     "language": "python",
     "metadata": {},
     "outputs": [
      {
       "metadata": {},
       "output_type": "pyout",
       "prompt_number": 22,
       "text": [
        "'gnirts tsrif yM'"
       ]
      }
     ],
     "prompt_number": 22
    },
    {
     "cell_type": "code",
     "collapsed": false,
     "input": [
      "alist = [1,2,3.14,'foo','bar',['a','b',True]] #\ub9ac\uc2a4\ud2b8 \uc548\uc5d0 \ub9ac\uc2a4\ud2b8\ub97c \ud3ec\ud568\ud560 \uc218 \uc788\uc74c"
     ],
     "language": "python",
     "metadata": {},
     "outputs": [],
     "prompt_number": 23
    },
    {
     "cell_type": "code",
     "collapsed": false,
     "input": [
      "alist[5] #\ub9ac\uc2a4\ud2b8\uc758 5+1\ubc88\uc9f8 \ud56d\ubaa9"
     ],
     "language": "python",
     "metadata": {},
     "outputs": [
      {
       "metadata": {},
       "output_type": "pyout",
       "prompt_number": 24,
       "text": [
        "['a', 'b', True]"
       ]
      }
     ],
     "prompt_number": 24
    },
    {
     "cell_type": "code",
     "collapsed": false,
     "input": [
      "alist[5][2] #\ub9ac\uc2a4\ud2b8\uc758 6\ubc88\uc9f8 \ud56d\ubaa9\uc758 3\ubc88\uc9f8 \ud56d\ubaa9"
     ],
     "language": "python",
     "metadata": {},
     "outputs": [
      {
       "metadata": {},
       "output_type": "pyout",
       "prompt_number": 25,
       "text": [
        "True"
       ]
      }
     ],
     "prompt_number": 25
    },
    {
     "cell_type": "code",
     "collapsed": false,
     "input": [
      "alist[1] = 99 #\ub9ac\uc2a4\ud2b8\uc758 2\ubc88\uc9f8 \ud56d\ubaa9\uc5d0 99\ub97c \ub300\uc785\ud55c\ub2e4"
     ],
     "language": "python",
     "metadata": {},
     "outputs": [],
     "prompt_number": 26
    },
    {
     "cell_type": "code",
     "collapsed": false,
     "input": [
      "alist"
     ],
     "language": "python",
     "metadata": {},
     "outputs": [
      {
       "metadata": {},
       "output_type": "pyout",
       "prompt_number": 27,
       "text": [
        "[1, 99, 3.14, 'foo', 'bar', ['a', 'b', True]]"
       ]
      }
     ],
     "prompt_number": 27
    },
    {
     "cell_type": "code",
     "collapsed": false,
     "input": [
      "atuple = (1,2,3.14,'foo','bar',['a','b',True])\n",
      "#\ub9ac\uc2a4\ud2b8\ub294 boolean(True, False) \uac12\uc744 \uac00\uc9c8 \uc218 \uc788\uc74c"
     ],
     "language": "python",
     "metadata": {},
     "outputs": [],
     "prompt_number": 28
    },
    {
     "cell_type": "code",
     "collapsed": false,
     "input": [
      "atuple[5]"
     ],
     "language": "python",
     "metadata": {},
     "outputs": [
      {
       "metadata": {},
       "output_type": "pyout",
       "prompt_number": 29,
       "text": [
        "['a', 'b', True]"
       ]
      }
     ],
     "prompt_number": 29
    },
    {
     "cell_type": "code",
     "collapsed": false,
     "input": [
      "atuple[5][2]"
     ],
     "language": "python",
     "metadata": {},
     "outputs": [
      {
       "metadata": {},
       "output_type": "pyout",
       "prompt_number": 30,
       "text": [
        "True"
       ]
      }
     ],
     "prompt_number": 30
    },
    {
     "cell_type": "code",
     "collapsed": false,
     "input": [
      "atuple[1] = 99 #tuple\uc5d0\ub294 \uac12\uc744 \ub300\uc785\ud560 \uc218 \uc5c6\uc74c"
     ],
     "language": "python",
     "metadata": {},
     "outputs": [
      {
       "ename": "TypeError",
       "evalue": "'tuple' object does not support item assignment",
       "output_type": "pyerr",
       "traceback": [
        "\u001b[0;31m---------------------------------------------------------------------------\u001b[0m\n\u001b[0;31mTypeError\u001b[0m                                 Traceback (most recent call last)",
        "\u001b[0;32m<ipython-input-32-5eaf3b318aff>\u001b[0m in \u001b[0;36m<module>\u001b[0;34m()\u001b[0m\n\u001b[0;32m----> 1\u001b[0;31m \u001b[0matuple\u001b[0m\u001b[0;34m[\u001b[0m\u001b[0;36m1\u001b[0m\u001b[0;34m]\u001b[0m \u001b[0;34m=\u001b[0m \u001b[0;36m99\u001b[0m \u001b[0;31m#tuple\uc5d0\ub294 \uac12\uc744 \ub300\uc785\ud560 \uc218 \uc5c6\uc74c\u001b[0m\u001b[0;34m\u001b[0m\u001b[0m\n\u001b[0m",
        "\u001b[0;31mTypeError\u001b[0m: 'tuple' object does not support item assignment"
       ]
      }
     ],
     "prompt_number": 32
    },
    {
     "cell_type": "code",
     "collapsed": false,
     "input": [
      "astring = \"hi there\""
     ],
     "language": "python",
     "metadata": {},
     "outputs": [],
     "prompt_number": 33
    },
    {
     "cell_type": "code",
     "collapsed": false,
     "input": [
      "astring[2] = 'x' #string\uc5d0\ub294 \uac12\uc744 \ub300\uc785\ud560 \uc218 \uc5c6\uc74c"
     ],
     "language": "python",
     "metadata": {},
     "outputs": [
      {
       "ename": "TypeError",
       "evalue": "'str' object does not support item assignment",
       "output_type": "pyerr",
       "traceback": [
        "\u001b[0;31m---------------------------------------------------------------------------\u001b[0m\n\u001b[0;31mTypeError\u001b[0m                                 Traceback (most recent call last)",
        "\u001b[0;32m<ipython-input-34-660cf75ca9a9>\u001b[0m in \u001b[0;36m<module>\u001b[0;34m()\u001b[0m\n\u001b[0;32m----> 1\u001b[0;31m \u001b[0mastring\u001b[0m\u001b[0;34m[\u001b[0m\u001b[0;36m2\u001b[0m\u001b[0;34m]\u001b[0m \u001b[0;34m=\u001b[0m \u001b[0;34m'x'\u001b[0m \u001b[0;31m#string\uc5d0\ub294 \uac12\uc744 \ub300\uc785\ud560 \uc218 \uc5c6\uc74c\u001b[0m\u001b[0;34m\u001b[0m\u001b[0m\n\u001b[0m",
        "\u001b[0;31mTypeError\u001b[0m: 'str' object does not support item assignment"
       ]
      }
     ],
     "prompt_number": 34
    },
    {
     "cell_type": "raw",
     "metadata": {},
     "source": [
      "Here the difference between mutable and immutable is clearly shown. We can grow lists in several ways - using an insert, and append and list concatenation. We can remove items from a list by using pop, del or assigning a slice to the empty list."
     ]
    },
    {
     "cell_type": "code",
     "collapsed": false,
     "input": [
      "blist = []"
     ],
     "language": "python",
     "metadata": {},
     "outputs": [],
     "prompt_number": 35
    },
    {
     "cell_type": "code",
     "collapsed": false,
     "input": [
      "blist.append(1) #\ube48 \ub9ac\uc2a4\ud2b8\uc5d0 1\uc744 append \ud55c\ub2e4"
     ],
     "language": "python",
     "metadata": {},
     "outputs": [],
     "prompt_number": 36
    },
    {
     "cell_type": "code",
     "collapsed": false,
     "input": [
      "blist.append(99) #\ub9ac\uc2a4\ud2b8\uc5d0 99\ub97c append \ud55c\ub2e4"
     ],
     "language": "python",
     "metadata": {},
     "outputs": [],
     "prompt_number": 37
    },
    {
     "cell_type": "code",
     "collapsed": false,
     "input": [
      "blist = blist + [3,4,5] #\ub9ac\uc2a4\ud2b8\uc5d0 3\uac1c\uc758 \ud56d\ubaa9\uc744 \uac00\uc9c4 list\ub97c append \ud55c\ub2e4\n",
      "\n",
      "blist"
     ],
     "language": "python",
     "metadata": {},
     "outputs": [
      {
       "metadata": {},
       "output_type": "pyout",
       "prompt_number": 38,
       "text": [
        "[1, 99, 3, 4, 5]"
       ]
      }
     ],
     "prompt_number": 38
    },
    {
     "cell_type": "code",
     "collapsed": false,
     "input": [
      "blist[2:2] = ['a','b','c'] #\ub9ac\uc2a4\ud2b8\uc758 3\ubc88\uc9f8\ubd80\ud130 3\ubc88\uc9f8\uae4c\uc9c0 ['a','b','c'] \ub9ac\uc2a4\ud2b8\ub97c \ub123\ub294\ub2e4\n",
      "\n",
      "blist"
     ],
     "language": "python",
     "metadata": {},
     "outputs": [
      {
       "metadata": {},
       "output_type": "pyout",
       "prompt_number": 39,
       "text": [
        "[1, 99, 'a', 'b', 'c', 3, 4, 5]"
       ]
      }
     ],
     "prompt_number": 39
    },
    {
     "cell_type": "code",
     "collapsed": false,
     "input": [
      "blist[2:4] = [] #\ub9ac\uc2a4\ud2b8\uc758 3\ubc88\uc9f8\ubd80\ud130 4\ubc88\uc9f8\uae4c\uc9c0 [] (\uacf5\ubc31) \ub9ac\uc2a4\ud2b8\ub97c \ub123\ub294\ub2e4\n",
      "\n",
      "blist"
     ],
     "language": "python",
     "metadata": {},
     "outputs": [
      {
       "metadata": {},
       "output_type": "pyout",
       "prompt_number": 40,
       "text": [
        "[1, 99, 'c', 3, 4, 5]"
       ]
      }
     ],
     "prompt_number": 40
    },
    {
     "cell_type": "code",
     "collapsed": false,
     "input": [
      "blist.pop() #\ub9ac\uc2a4\ud2b8\uc758 \ub9c8\uc9c0\ub9c9 \ud56d\ubaa9\uc744 \ubf51\uc544 \ub0b8\ub2e4\n",
      "\n",
      "blist"
     ],
     "language": "python",
     "metadata": {},
     "outputs": [
      {
       "metadata": {},
       "output_type": "pyout",
       "prompt_number": 41,
       "text": [
        "[1, 99, 'c', 3, 4]"
       ]
      }
     ],
     "prompt_number": 41
    },
    {
     "cell_type": "code",
     "collapsed": false,
     "input": [
      "del blist[3] #4\ubc88\uc9f8 \ud56d\ubaa9\uc744 \uc0ad\uc81c\n",
      "\n",
      "blist"
     ],
     "language": "python",
     "metadata": {},
     "outputs": [
      {
       "metadata": {},
       "output_type": "pyout",
       "prompt_number": 42,
       "text": [
        "[1, 99, 'c', 4]"
       ]
      }
     ],
     "prompt_number": 42
    },
    {
     "cell_type": "raw",
     "metadata": {},
     "source": [
      "dictionary \ub294 immutable type(number, string, tuple))\uc778 key\uc640 \uc5b4\ub5a4 type\ub3c4 \ubb34\ubc29\ud55c value \uc30d\uc73c\ub85c \uad6c\uc131\ub428. dictionary\ub294 {, } \uae30\ud638\ub97c \uc0ac\uc6a9\ud574 \uad6c\ubd84\ud558\uba70, associated key\ub97c \uc0ac\uc6a9\ud568\uc73c\ub85c\uc368 value\ub97c \uc5bb\uc5b4\ub0c4. \ub2e4\uc74c email \uc8fc\uc18c\uc758 dictionary\ub97c \ub9cc\ub4dc\ub294 \uc608\ub97c \ubcf4\uc790."
     ]
    },
    {
     "cell_type": "code",
     "collapsed": false,
     "input": [
      "emails = {}"
     ],
     "language": "python",
     "metadata": {},
     "outputs": [],
     "prompt_number": 43
    },
    {
     "cell_type": "code",
     "collapsed": false,
     "input": [
      "emails['kkkim'] = 'kkkim@gmail.com'"
     ],
     "language": "python",
     "metadata": {},
     "outputs": [],
     "prompt_number": 44
    },
    {
     "cell_type": "code",
     "collapsed": false,
     "input": [
      "emails['irobii'] = 'irobii@naver.com'"
     ],
     "language": "python",
     "metadata": {},
     "outputs": [],
     "prompt_number": 45
    },
    {
     "cell_type": "code",
     "collapsed": false,
     "input": [
      "emails['kkkim']"
     ],
     "language": "python",
     "metadata": {},
     "outputs": [
      {
       "metadata": {},
       "output_type": "pyout",
       "prompt_number": 46,
       "text": [
        "'kkkim@gmail.com'"
       ]
      }
     ],
     "prompt_number": 46
    },
    {
     "cell_type": "code",
     "collapsed": false,
     "input": [
      "emails['irobii']"
     ],
     "language": "python",
     "metadata": {},
     "outputs": [
      {
       "metadata": {},
       "output_type": "pyout",
       "prompt_number": 47,
       "text": [
        "'irobii@naver.com'"
       ]
      }
     ],
     "prompt_number": 47
    },
    {
     "cell_type": "code",
     "collapsed": false,
     "input": [
      "emails.keys()"
     ],
     "language": "python",
     "metadata": {},
     "outputs": [
      {
       "metadata": {},
       "output_type": "pyout",
       "prompt_number": 48,
       "text": [
        "['kkkim', 'irobii']"
       ]
      }
     ],
     "prompt_number": 48
    },
    {
     "cell_type": "code",
     "collapsed": false,
     "input": [
      "emails.values()"
     ],
     "language": "python",
     "metadata": {},
     "outputs": [
      {
       "metadata": {},
       "output_type": "pyout",
       "prompt_number": 49,
       "text": [
        "['kkkim@gmail.com', 'irobii@naver.com']"
       ]
      }
     ],
     "prompt_number": 49
    },
    {
     "cell_type": "code",
     "collapsed": false,
     "input": [
      "emails"
     ],
     "language": "python",
     "metadata": {},
     "outputs": [
      {
       "metadata": {},
       "output_type": "pyout",
       "prompt_number": 50,
       "text": [
        "{'irobii': 'irobii@naver.com', 'kkkim': 'kkkim@gmail.com'}"
       ]
      }
     ],
     "prompt_number": 50
    },
    {
     "cell_type": "raw",
     "metadata": {},
     "source": [
      "dictionary\ub97c \uc778\ub371\uc2f1\uc744 \uc704\ud55c \uc5f0\uc18d\ub41c \uc815\uc218\ub97c \uc81c\ud55c\ud558\uc9c0 \uc54a\ub294 \ub9ac\uc2a4\ud2b8\ub85c \uac04\uc8fc. {}\ub85c dictionary\ub97c \uc0dd\uc131\ud558\uace0, [key] \ub77c\ub294 \ud615\uc2dd\uc73c\ub85c \uc6d0\uc18c\ub97c \ud560\ub2f9\ud55c\ub2e4. key\uac00 dictionary\uc5d0 \ubc1c\uacac\ub418\uc9c0 \uc54a\uc73c\uba74, python\uc740 KeyError \uc608\uc678\ub97c \ubc1c\uc0dd\ud558\uba70 abort \ub420 \uac83\uc784. \uc774\ub97c \ud53c\ud558\uae30 \uc704\ud574\uc11c \uc2e4\ud589 \uc804\uc5d0 key\ub97c \ud655\uc778\ud558\uc5ec\uc57c \ud558\uba70, try-except \uba85\ub839\uc5b4\ub97c \ud1b5\ud574 KeyErrors\ub97c \ubb34\uc2dc\ud558\ub3c4\ub85d \ud574\uc57c \ud568. \ub2e4\uc74c \uc608\ub97c \uc0b4\ud3b4\ubcf4\uc790."
     ]
    },
    {
     "cell_type": "code",
     "collapsed": false,
     "input": [
      "zip(['a','b','c','d'], [1,2,3,4])"
     ],
     "language": "python",
     "metadata": {},
     "outputs": [
      {
       "metadata": {},
       "output_type": "pyout",
       "prompt_number": 51,
       "text": [
        "[('a', 1), ('b', 2), ('c', 3), ('d', 4)]"
       ]
      }
     ],
     "prompt_number": 51
    },
    {
     "cell_type": "code",
     "collapsed": false,
     "input": [
      "zip(['a','b','c','d'], [1,2,3,4],[5,6,7,8])"
     ],
     "language": "python",
     "metadata": {},
     "outputs": [
      {
       "metadata": {},
       "output_type": "pyout",
       "prompt_number": 52,
       "text": [
        "[('a', 1, 5), ('b', 2, 6), ('c', 3, 7), ('d', 4, 8)]"
       ]
      }
     ],
     "prompt_number": 52
    },
    {
     "cell_type": "code",
     "collapsed": false,
     "input": [
      "adict = dict(zip(['a','b','c','d'], [1,2,3,4]))\n",
      "\n",
      "adict"
     ],
     "language": "python",
     "metadata": {},
     "outputs": [
      {
       "metadata": {},
       "output_type": "pyout",
       "prompt_number": 53,
       "text": [
        "{'a': 1, 'b': 2, 'c': 3, 'd': 4}"
       ]
      }
     ],
     "prompt_number": 53
    },
    {
     "cell_type": "code",
     "collapsed": false,
     "input": [
      "adict['b']"
     ],
     "language": "python",
     "metadata": {},
     "outputs": [
      {
       "metadata": {},
       "output_type": "pyout",
       "prompt_number": 54,
       "text": [
        "2"
       ]
      }
     ],
     "prompt_number": 54
    },
    {
     "cell_type": "code",
     "collapsed": false,
     "input": [
      "adict.get('e', 0)"
     ],
     "language": "python",
     "metadata": {},
     "outputs": [
      {
       "metadata": {},
       "output_type": "pyout",
       "prompt_number": 55,
       "text": [
        "0"
       ]
      }
     ],
     "prompt_number": 55
    },
    {
     "cell_type": "code",
     "collapsed": false,
     "input": [
      "adict"
     ],
     "language": "python",
     "metadata": {},
     "outputs": [
      {
       "metadata": {},
       "output_type": "pyout",
       "prompt_number": 56,
       "text": [
        "{'a': 1, 'b': 2, 'c': 3, 'd': 4}"
       ]
      }
     ],
     "prompt_number": 56
    },
    {
     "cell_type": "code",
     "collapsed": false,
     "input": [
      "adict.setdefault('e', 0)"
     ],
     "language": "python",
     "metadata": {},
     "outputs": [
      {
       "metadata": {},
       "output_type": "pyout",
       "prompt_number": 57,
       "text": [
        "0"
       ]
      }
     ],
     "prompt_number": 57
    },
    {
     "cell_type": "code",
     "collapsed": false,
     "input": [
      "adict"
     ],
     "language": "python",
     "metadata": {},
     "outputs": [
      {
       "metadata": {},
       "output_type": "pyout",
       "prompt_number": 58,
       "text": [
        "{'a': 1, 'b': 2, 'c': 3, 'd': 4, 'e': 0}"
       ]
      }
     ],
     "prompt_number": 58
    },
    {
     "cell_type": "raw",
     "metadata": {},
     "source": [
      "Dictionary\ub294 (key, value) pairs (\ub610\ub294 2-tuples)\uc758 list\ub85c\ubd80\ud130 \uc0dd\uc131\ub420 \uc218 \uc788\ub2e4. zip \ud568\uc218\ub294 tuple\uc744 \ub9cc\ub4e4\uae30 \uc704\ud574 list 1\uc73c\ub85c\ubd80\ud130 \uccab\ubc88\uc9f8 \uc6d0\uc18c\ub97c \ucde8\ud558\uace0 list 2\ub85c\ubd80\ud130 \uccab\ubc88\uc9f8 \uc6d0\uc18c\ub97c \ucde8\ud55c\ub2e4. \uadf8\ub7f0 \ub2e4\uc74c \ub450\ubc88\uc9f8 \uc774\ud6c4 \uc6d0\uc18c\ubd80\ud130 \ub450 list \uc911 \ud558\ub098\uac00 \uc5c6\uc744 \ub54c\uae4c\uc9c0 \uac19\uc740 \uc791\uc5c5\uc744 \ud55c\ub2e4. key\uc640 value\uc758 \ub9ac\uc2a4\ud2b8\uc5d0 matcing\ud558\ub294 \ub450\uac1c\uc758 \uc30d\uc758 list\ub97c \uc0dd\uc131\ud558\ub294\ub370 \uc4f0\uc778\ub2e4. get method\ub294 \uccab\ubc88\uc9f8 \uc778\uc790\uac00 dictionary\uc5d0\uc11c \ubc1c\uacac\ub418\uc9c0 \uc54a\ub294 key\uac00 \uc8fc\uc5b4\uc84c\uc744 \ub54c default \uc778\uc790(\ub450\ubc88\uc9f8)\ub97c \ubc18\ud658\ud55c\ub2e4. set default method\ub294 \uac19\uc740 \uc791\uc5c5\uc744 \ud558\uc9c0\ub9cc, \ubc1c\uacac\ub418\uc9c0 \uc54a\uc73c\uba74 \ucd94\uac00\uc801\uc73c\ub85c \uc0c8\ub85c\uc6b4 key / default \uac12\uc744 dictionary\uc5d0 \uc0bd\uc785\ud55c\ub2e4. \uc6b0\ub9ac\uac00 missing key\ub97c \ubb34\uc2dc\ud558\uace0 \uc720\ud6a8\ud55c key \uac12\ub9cc \uc5bb\ub294\ub2e4\uba74, try-except statement\uc5d0\uc11c dictionary \uc811\uadfc\uc744 wrap\ud560 \uc218 \uc788\uc74c."
     ]
    },
    {
     "cell_type": "code",
     "collapsed": false,
     "input": [
      "for ch in \"ajfljldjajfeljad\":\n",
      "    try:\n",
      "        print adict[ch]        \n",
      "    except KeyError:\n",
      "        pass\n"
     ],
     "language": "python",
     "metadata": {},
     "outputs": [
      {
       "output_type": "stream",
       "stream": "stdout",
       "text": [
        "1\n",
        "4\n",
        "1\n",
        "0\n",
        "1\n",
        "4\n"
       ]
      }
     ],
     "prompt_number": 59
    },
    {
     "cell_type": "raw",
     "metadata": {},
     "source": [
      "pass \ud0a4\uc6cc\ub4dc\ub294 \u201cdo nothing\u201d\uc744 \uc758\ubbf8\ud55c\ub2e4. try-except \ubb38\uc7a5 \uc5c6\uc774 \ud504\ub85c\uadf8\ub7a8\uc740 KeyError\uc640 \ud568\uaed8 crash\ub420 \uac83\uc774\uba70, \ucc98\uc74c\uc5d0\ub294 dictionary key\uc778 a, b, c, d, e\ub294 \ubcf4\uc774\uc9c0 \uc54a\uc744 \uac83\uc774\ub2e4.   Without the try-except statement, the program would crash with a KeyError\u2018 the first time \u2018\u2018ch was not found in the dictionary keys a, b, c, d, e.\n",
      "Python\uc740 object-oriented language(\uac1d\uccb4\uc9c0\ud5a5 \uc5b8\uc5b4)\uc774\uae30 \ub54c\ubb38\uc5d0 list.append(1)\uc758 \uc608\ucc98\ub7fc \uc774\ub984 \uc0ac\uc774\uc5d0 \ub9c8\uce68\ud45c\uac00 \uc788\ub2e4. ipython\uc5d0\uc11c .(\ub9c8\uce68\ud45c) \ub2e4\uc74c tab \ud0a4\ub97c \ub204\ub974\uba74 \uc5b4\ub5a4 \ud0c0\uc785\uc774 \uac00\ub2a5\ud55c\uc9c0 \ud655\uc778\ud560 \uc218 \uc788\ub2e4."
     ]
    },
    {
     "cell_type": "code",
     "collapsed": false,
     "input": [
      "blist"
     ],
     "language": "python",
     "metadata": {},
     "outputs": [
      {
       "metadata": {},
       "output_type": "pyout",
       "prompt_number": 60,
       "text": [
        "[1, 99, 'c', 4]"
       ]
      }
     ],
     "prompt_number": 60
    },
    {
     "cell_type": "code",
     "collapsed": false,
     "input": [
      "dir(blist)"
     ],
     "language": "python",
     "metadata": {},
     "outputs": [
      {
       "metadata": {},
       "output_type": "pyout",
       "prompt_number": 61,
       "text": [
        "['__add__',\n",
        " '__class__',\n",
        " '__contains__',\n",
        " '__delattr__',\n",
        " '__delitem__',\n",
        " '__delslice__',\n",
        " '__doc__',\n",
        " '__eq__',\n",
        " '__format__',\n",
        " '__ge__',\n",
        " '__getattribute__',\n",
        " '__getitem__',\n",
        " '__getslice__',\n",
        " '__gt__',\n",
        " '__hash__',\n",
        " '__iadd__',\n",
        " '__imul__',\n",
        " '__init__',\n",
        " '__iter__',\n",
        " '__le__',\n",
        " '__len__',\n",
        " '__lt__',\n",
        " '__mul__',\n",
        " '__ne__',\n",
        " '__new__',\n",
        " '__reduce__',\n",
        " '__reduce_ex__',\n",
        " '__repr__',\n",
        " '__reversed__',\n",
        " '__rmul__',\n",
        " '__setattr__',\n",
        " '__setitem__',\n",
        " '__setslice__',\n",
        " '__sizeof__',\n",
        " '__str__',\n",
        " '__subclasshook__',\n",
        " 'append',\n",
        " 'count',\n",
        " 'extend',\n",
        " 'index',\n",
        " 'insert',\n",
        " 'pop',\n",
        " 'remove',\n",
        " 'reverse',\n",
        " 'sort']"
       ]
      }
     ],
     "prompt_number": 61
    },
    {
     "cell_type": "code",
     "collapsed": false,
     "input": [
      "[b for b in dir(blist) if not b.startswith('_')]\n",
      "#dir(blist)\uc758 \uac01 \uc6d0\uc18c\uc5d0 \ub300\ud574 '_'\ub85c \uc2dc\uc791\ud558\uc9c0 \uc54a\uc73c\uba74"
     ],
     "language": "python",
     "metadata": {},
     "outputs": [
      {
       "metadata": {},
       "output_type": "pyout",
       "prompt_number": 62,
       "text": [
        "['append',\n",
        " 'count',\n",
        " 'extend',\n",
        " 'index',\n",
        " 'insert',\n",
        " 'pop',\n",
        " 'remove',\n",
        " 'reverse',\n",
        " 'sort']"
       ]
      }
     ],
     "prompt_number": 62
    },
    {
     "cell_type": "raw",
     "metadata": {},
     "source": [
      "[b for b in dir(blist) if not b.startswith('_')] \ucf54\ub4dc\ub294 __xxx__\uc640 \uac19\uc740 method\ub97c \ud544\ud130\ub9c1\ud55c \ub9ac\uc2a4\ud2b8 \ud074\ub798\uc2a4\uc758 \ubaa8\ub4e0 normal method\ub97c \ubcf4\uc5ec\uc8fc\uae30 \uc704\ud55c list comprehension\uc774\ub2e4.  The methods with __ \ub85c \uc2dc\uc791\ud558\uace0 \ub05d\ub098\ub294(prefixes and suffixes) method\ub294 \ud2b9\uc218\ud55c \ub0b4\ubd80 method\uc774\ub2e4. \uc5ec\uae30\uc11c\ub294 \ub2e4\ub8e8\uc9c0 \uc54a\uc744 \uac83\uc784. extend\uc640 index \ub4f1\uc744 \ucc3e\uae30 \uc704\ud574\uc11c\ub294 help \uba85\ub839\uc5b4\ub97c \uc0ac\uc6a9\ud560 \uc218 \uc788\ub2e4. \ub2e4\uc74c\uc5d0 \ubcf4\uc5ec\uc9c0\ub294 count, reverse, sort method \uc608\ub294 \uaf64 \uc27d\ub2e4."
     ]
    },
    {
     "cell_type": "code",
     "collapsed": false,
     "input": [
      "numlist = [3,1,4,1,5,1,6,9]"
     ],
     "language": "python",
     "metadata": {},
     "outputs": [],
     "prompt_number": 63
    },
    {
     "cell_type": "code",
     "collapsed": false,
     "input": [
      "numlist.sort()\n",
      "\n",
      "numlist"
     ],
     "language": "python",
     "metadata": {},
     "outputs": [
      {
       "metadata": {},
       "output_type": "pyout",
       "prompt_number": 64,
       "text": [
        "[1, 1, 1, 3, 4, 5, 6, 9]"
       ]
      }
     ],
     "prompt_number": 64
    },
    {
     "cell_type": "code",
     "collapsed": false,
     "input": [
      "numlist.reverse()\n",
      "\n",
      "numlist"
     ],
     "language": "python",
     "metadata": {},
     "outputs": [
      {
       "metadata": {},
       "output_type": "pyout",
       "prompt_number": 65,
       "text": [
        "[9, 6, 5, 4, 3, 1, 1, 1]"
       ]
      }
     ],
     "prompt_number": 65
    },
    {
     "cell_type": "code",
     "collapsed": false,
     "input": [
      "quote = \"My philosophy, like color television, is all there in black and white\"\n",
      "\n",
      "dir(quote)"
     ],
     "language": "python",
     "metadata": {},
     "outputs": [
      {
       "metadata": {},
       "output_type": "pyout",
       "prompt_number": 66,
       "text": [
        "['__add__',\n",
        " '__class__',\n",
        " '__contains__',\n",
        " '__delattr__',\n",
        " '__doc__',\n",
        " '__eq__',\n",
        " '__format__',\n",
        " '__ge__',\n",
        " '__getattribute__',\n",
        " '__getitem__',\n",
        " '__getnewargs__',\n",
        " '__getslice__',\n",
        " '__gt__',\n",
        " '__hash__',\n",
        " '__init__',\n",
        " '__le__',\n",
        " '__len__',\n",
        " '__lt__',\n",
        " '__mod__',\n",
        " '__mul__',\n",
        " '__ne__',\n",
        " '__new__',\n",
        " '__reduce__',\n",
        " '__reduce_ex__',\n",
        " '__repr__',\n",
        " '__rmod__',\n",
        " '__rmul__',\n",
        " '__setattr__',\n",
        " '__sizeof__',\n",
        " '__str__',\n",
        " '__subclasshook__',\n",
        " '_formatter_field_name_split',\n",
        " '_formatter_parser',\n",
        " 'capitalize',\n",
        " 'center',\n",
        " 'count',\n",
        " 'decode',\n",
        " 'encode',\n",
        " 'endswith',\n",
        " 'expandtabs',\n",
        " 'find',\n",
        " 'format',\n",
        " 'index',\n",
        " 'isalnum',\n",
        " 'isalpha',\n",
        " 'isdigit',\n",
        " 'islower',\n",
        " 'isspace',\n",
        " 'istitle',\n",
        " 'isupper',\n",
        " 'join',\n",
        " 'ljust',\n",
        " 'lower',\n",
        " 'lstrip',\n",
        " 'partition',\n",
        " 'replace',\n",
        " 'rfind',\n",
        " 'rindex',\n",
        " 'rjust',\n",
        " 'rpartition',\n",
        " 'rsplit',\n",
        " 'rstrip',\n",
        " 'split',\n",
        " 'splitlines',\n",
        " 'startswith',\n",
        " 'strip',\n",
        " 'swapcase',\n",
        " 'title',\n",
        " 'translate',\n",
        " 'upper',\n",
        " 'zfill']"
       ]
      }
     ],
     "prompt_number": 66
    },
    {
     "cell_type": "code",
     "collapsed": false,
     "input": [
      "[m for m in dir(quote) if not m.startswith('_')]"
     ],
     "language": "python",
     "metadata": {},
     "outputs": [
      {
       "metadata": {},
       "output_type": "pyout",
       "prompt_number": 67,
       "text": [
        "['capitalize',\n",
        " 'center',\n",
        " 'count',\n",
        " 'decode',\n",
        " 'encode',\n",
        " 'endswith',\n",
        " 'expandtabs',\n",
        " 'find',\n",
        " 'format',\n",
        " 'index',\n",
        " 'isalnum',\n",
        " 'isalpha',\n",
        " 'isdigit',\n",
        " 'islower',\n",
        " 'isspace',\n",
        " 'istitle',\n",
        " 'isupper',\n",
        " 'join',\n",
        " 'ljust',\n",
        " 'lower',\n",
        " 'lstrip',\n",
        " 'partition',\n",
        " 'replace',\n",
        " 'rfind',\n",
        " 'rindex',\n",
        " 'rjust',\n",
        " 'rpartition',\n",
        " 'rsplit',\n",
        " 'rstrip',\n",
        " 'split',\n",
        " 'splitlines',\n",
        " 'startswith',\n",
        " 'strip',\n",
        " 'swapcase',\n",
        " 'title',\n",
        " 'translate',\n",
        " 'upper',\n",
        " 'zfill']"
       ]
      }
     ],
     "prompt_number": 67
    },
    {
     "cell_type": "code",
     "collapsed": false,
     "input": [
      "quote.lower() #\uc18c\ubb38\uc790\ub85c \ubcc0\uacbd"
     ],
     "language": "python",
     "metadata": {},
     "outputs": [
      {
       "metadata": {},
       "output_type": "pyout",
       "prompt_number": 68,
       "text": [
        "'my philosophy, like color television, is all there in black and white'"
       ]
      }
     ],
     "prompt_number": 68
    },
    {
     "cell_type": "code",
     "collapsed": false,
     "input": [
      "quote.upper() #\ub300\ubb38\uc790\ub85c \ubcc0\uacbd"
     ],
     "language": "python",
     "metadata": {},
     "outputs": [
      {
       "metadata": {},
       "output_type": "pyout",
       "prompt_number": 69,
       "text": [
        "'MY PHILOSOPHY, LIKE COLOR TELEVISION, IS ALL THERE IN BLACK AND WHITE'"
       ]
      }
     ],
     "prompt_number": 69
    },
    {
     "cell_type": "code",
     "collapsed": false,
     "input": [
      "quote.split() #\uad6c\ubd84\uc790(\uae30\ubcf8\uc740 \uacf5\ubc31)\ub85c \uad6c\ubd84\ud574 split"
     ],
     "language": "python",
     "metadata": {},
     "outputs": [
      {
       "metadata": {},
       "output_type": "pyout",
       "prompt_number": 70,
       "text": [
        "['My',\n",
        " 'philosophy,',\n",
        " 'like',\n",
        " 'color',\n",
        " 'television,',\n",
        " 'is',\n",
        " 'all',\n",
        " 'there',\n",
        " 'in',\n",
        " 'black',\n",
        " 'and',\n",
        " 'white']"
       ]
      }
     ],
     "prompt_number": 70
    },
    {
     "cell_type": "code",
     "collapsed": false,
     "input": [
      "quote = ''.join(quote) #string join\n",
      "\n",
      "quote"
     ],
     "language": "python",
     "metadata": {},
     "outputs": [
      {
       "metadata": {},
       "output_type": "pyout",
       "prompt_number": 71,
       "text": [
        "'My philosophy, like color television, is all there in black and white'"
       ]
      }
     ],
     "prompt_number": 71
    },
    {
     "cell_type": "code",
     "collapsed": false,
     "input": [
      "quote.split(',') #,\ub85c split"
     ],
     "language": "python",
     "metadata": {},
     "outputs": [
      {
       "metadata": {},
       "output_type": "pyout",
       "prompt_number": 72,
       "text": [
        "['My philosophy', ' like color television', ' is all there in black and white']"
       ]
      }
     ],
     "prompt_number": 72
    },
    {
     "cell_type": "heading",
     "level": 3,
     "metadata": {},
     "source": [
      "4.9.7 \uc5f0\uc0b0\uc790"
     ]
    },
    {
     "cell_type": "raw",
     "metadata": {},
     "source": [
      "\uc55e\uc5d0\uc11c \ub367\uc148\uacfc \uacf1\uc148\uc744 \uc704\ud574 +\uc640 *\uc640 \uac19\uc740 \uc5f0\uc0b0\uc790\ub97c \uc0b4\ud3b4\ubcf4\uc558\ub2e4. \uc22b\uc790 \uc5f0\uc0b0\ubfd0 \uc544\ub2c8\ub77c Boolean \uc5f0\uc0b0\uc790, and, or, not \uc5f0\uc0b0\uc790,  <, <=, >, >=, ==, !=\uc640 \uac19\uc740 \ube44\uad50 \uc5f0\uc0b0\uc790, is\uc640 is not, bitwise \uc5f0\uc0b0\uc790\uc640 \uac19\uc740 \uc5f0\uc0b0\uc790\uac00 \uc788\ub2e4."
     ]
    },
    {
     "cell_type": "code",
     "collapsed": false,
     "input": [
      "True and False"
     ],
     "language": "python",
     "metadata": {},
     "outputs": [
      {
       "metadata": {},
       "output_type": "pyout",
       "prompt_number": 73,
       "text": [
        "False"
       ]
      }
     ],
     "prompt_number": 73
    },
    {
     "cell_type": "code",
     "collapsed": false,
     "input": [
      "True or False"
     ],
     "language": "python",
     "metadata": {},
     "outputs": [
      {
       "metadata": {},
       "output_type": "pyout",
       "prompt_number": 74,
       "text": [
        "True"
       ]
      }
     ],
     "prompt_number": 74
    },
    {
     "cell_type": "code",
     "collapsed": false,
     "input": [
      "not True"
     ],
     "language": "python",
     "metadata": {},
     "outputs": [
      {
       "metadata": {},
       "output_type": "pyout",
       "prompt_number": 75,
       "text": [
        "False"
       ]
      }
     ],
     "prompt_number": 75
    },
    {
     "cell_type": "code",
     "collapsed": false,
     "input": [
      "3 == 3"
     ],
     "language": "python",
     "metadata": {},
     "outputs": [
      {
       "metadata": {},
       "output_type": "pyout",
       "prompt_number": 76,
       "text": [
        "True"
       ]
      }
     ],
     "prompt_number": 76
    },
    {
     "cell_type": "code",
     "collapsed": false,
     "input": [
      "3 == 4"
     ],
     "language": "python",
     "metadata": {},
     "outputs": [
      {
       "metadata": {},
       "output_type": "pyout",
       "prompt_number": 77,
       "text": [
        "False"
       ]
      }
     ],
     "prompt_number": 77
    },
    {
     "cell_type": "code",
     "collapsed": false,
     "input": [
      "3 != 4"
     ],
     "language": "python",
     "metadata": {},
     "outputs": [
      {
       "metadata": {},
       "output_type": "pyout",
       "prompt_number": 78,
       "text": [
        "True"
       ]
      }
     ],
     "prompt_number": 78
    },
    {
     "cell_type": "code",
     "collapsed": false,
     "input": [
      "3 > 4"
     ],
     "language": "python",
     "metadata": {},
     "outputs": [
      {
       "metadata": {},
       "output_type": "pyout",
       "prompt_number": 79,
       "text": [
        "False"
       ]
      }
     ],
     "prompt_number": 79
    },
    {
     "cell_type": "code",
     "collapsed": false,
     "input": [
      "3 < 4"
     ],
     "language": "python",
     "metadata": {},
     "outputs": [
      {
       "metadata": {},
       "output_type": "pyout",
       "prompt_number": 80,
       "text": [
        "True"
       ]
      }
     ],
     "prompt_number": 80
    },
    {
     "cell_type": "code",
     "collapsed": false,
     "input": [
      "None is None"
     ],
     "language": "python",
     "metadata": {},
     "outputs": [
      {
       "metadata": {},
       "output_type": "pyout",
       "prompt_number": 81,
       "text": [
        "True"
       ]
      }
     ],
     "prompt_number": 81
    },
    {
     "cell_type": "code",
     "collapsed": false,
     "input": [
      "0 is None"
     ],
     "language": "python",
     "metadata": {},
     "outputs": [
      {
       "metadata": {},
       "output_type": "pyout",
       "prompt_number": 82,
       "text": [
        "False"
       ]
      }
     ],
     "prompt_number": 82
    },
    {
     "cell_type": "code",
     "collapsed": false,
     "input": [
      "0 is not None"
     ],
     "language": "python",
     "metadata": {},
     "outputs": [
      {
       "metadata": {},
       "output_type": "pyout",
       "prompt_number": 83,
       "text": [
        "True"
       ]
      }
     ],
     "prompt_number": 83
    },
    {
     "cell_type": "heading",
     "level": 3,
     "metadata": {},
     "source": [
      "4.9.8 Control flow and loops"
     ]
    },
    {
     "cell_type": "raw",
     "metadata": {},
     "source": [
      "We now begin to get to the heart of programming - asking the computer to do mind-numbingly boring work many, many times. The way to perform repetitions is by looping, but before we go there, we will first learn about how to control the program flow with the if-else family of statements. Luckily, the if-else statement family does exactly what you\u2019d expect it to do:"
     ]
    },
    {
     "cell_type": "code",
     "collapsed": false,
     "input": [
      "if 'math' > 'football':\n",
      "    print 'Nerds rule'\n",
      "else:\n",
      "    print 'Jocks rule'\n"
     ],
     "language": "python",
     "metadata": {},
     "outputs": [
      {
       "output_type": "stream",
       "stream": "stdout",
       "text": [
        "Nerds rule\n"
       ]
      }
     ],
     "prompt_number": 84
    },
    {
     "cell_type": "code",
     "collapsed": false,
     "input": [
      "grade = None\n",
      "\n",
      "score = 86"
     ],
     "language": "python",
     "metadata": {},
     "outputs": [],
     "prompt_number": 85
    },
    {
     "cell_type": "code",
     "collapsed": false,
     "input": [
      "if (score > 93):\n",
      "    grade = 'A'\n",
      "elif (score > 85):\n",
      "    grade = 'B'\n",
      "elif (score > 70):\n",
      "    grade = 'C'\n",
      "else:\n",
      "    grade = 'D'\n",
      "                            "
     ],
     "language": "python",
     "metadata": {},
     "outputs": [],
     "prompt_number": 86
    },
    {
     "cell_type": "raw",
     "metadata": {},
     "source": [
      "loop\uc5d0\ub294 for\uc640 while\ubb38 \ub450 \uac00\uc9c0 \uc8fc\uc694 \ubc29\ubc95\uc774 \uc788\uc74c. The for\ubb38\uc740 \ud55c\ubc88\uc5d0 \ud56d\ubaa9\uc758 \uc2dc\ud000\uc2a4\ub97c \ud1b5\ud574 \uc2e4\ud589\ub41c\ub2e4. \ub2e4\uc74c\uc740 for loop\uc758 \uc608\uc774\ub2e4."
     ]
    },
    {
     "cell_type": "code",
     "collapsed": false,
     "input": [
      "range(10, 15)"
     ],
     "language": "python",
     "metadata": {},
     "outputs": [
      {
       "metadata": {},
       "output_type": "pyout",
       "prompt_number": 87,
       "text": [
        "[10, 11, 12, 13, 14]"
       ]
      }
     ],
     "prompt_number": 87
    },
    {
     "cell_type": "code",
     "collapsed": false,
     "input": [
      "for number in range(10,15):\n",
      "    print number"
     ],
     "language": "python",
     "metadata": {},
     "outputs": [
      {
       "output_type": "stream",
       "stream": "stdout",
       "text": [
        "10\n",
        "11\n",
        "12\n",
        "13\n",
        "14\n"
       ]
      }
     ],
     "prompt_number": 88
    },
    {
     "cell_type": "code",
     "collapsed": false,
     "input": [
      "for char in 'abcde':\n",
      "    print char"
     ],
     "language": "python",
     "metadata": {},
     "outputs": [
      {
       "output_type": "stream",
       "stream": "stdout",
       "text": [
        "a\n",
        "b\n",
        "c\n",
        "d\n",
        "e\n"
       ]
      }
     ],
     "prompt_number": 89
    },
    {
     "cell_type": "code",
     "collapsed": false,
     "input": [
      "for name in ['adam','eve']:\n",
      "    print name"
     ],
     "language": "python",
     "metadata": {},
     "outputs": [
      {
       "output_type": "stream",
       "stream": "stdout",
       "text": [
        "adam\n",
        "eve\n"
       ]
      }
     ],
     "prompt_number": 90
    },
    {
     "cell_type": "raw",
     "metadata": {},
     "source": [
      "string, list, tuple, dictionary\ub294 \ubaa8\ub450 sequence\uc774\ubbc0\ub85c iterable\ud558\ub2e4. \ub530\ub77c\uc11c for loop\ub294 \uc774 \ubaa8\ub4e0 \uac83\uc744 \uc0ac\uc6a9 \uac00\ub2a5\ud568. \ub610\ub2e4\ub978 \uc720\uc6a9\ud55c Python \ubb38\ubc95\uc740 list\ub97c \ud1b5\ud574 while loop\ub97c \ub3c4\ub294 \ub3d9\uc548 \uc704\uce58\ub098 \uc778\ub371\uc2a4\ub97c \uacc4\uc18d \ucd94\uc801\ud558\uc5ec \ubc18\ubcf5\ud558\ub294 \uac83\uc774\ub2e4."
     ]
    },
    {
     "cell_type": "code",
     "collapsed": false,
     "input": [
      "for i, name in enumerate(['cliburn', 'jacob', 'adam']):\n",
      "    print i, name"
     ],
     "language": "python",
     "metadata": {},
     "outputs": [
      {
       "output_type": "stream",
       "stream": "stdout",
       "text": [
        "0 cliburn\n",
        "1 jacob\n",
        "2 adam\n"
       ]
      }
     ],
     "prompt_number": 91
    },
    {
     "cell_type": "raw",
     "metadata": {},
     "source": [
      "for loop\ub294 \uae30\uc874\uc758 \uac83\uc5d0 \uc0c8\ub85c\uc6b4 list\ub97c \uc0dd\uc131\ud558\ub294\ub370 \ud754\ud788 \uc0ac\uc6a9\ub41c\ub2e4. \ub2e4\uc74c \uc608\ub294 10\uc5d0\uc11c 15\uae4c\uc9c0 \ubaa8\ub4e0 \uc81c\uacf1\uc758 list\ub97c \uc0dd\uc131\ud558\ub294 \uc608\uc774\ub2e4."
     ]
    },
    {
     "cell_type": "code",
     "collapsed": false,
     "input": [
      "squares = []\n",
      "\n",
      "for i in range(10, 16):\n",
      "    squares.append(i**2)\n",
      "    \n",
      "squares"
     ],
     "language": "python",
     "metadata": {},
     "outputs": [
      {
       "metadata": {},
       "output_type": "pyout",
       "prompt_number": 92,
       "text": [
        "[100, 121, 144, 169, 196, 225]"
       ]
      }
     ],
     "prompt_number": 92
    },
    {
     "cell_type": "raw",
     "metadata": {},
     "source": [
      "range(10, 16)\uc740 [10,11,12,13,14,15]\uc744 \uc758\ubbf8\ud568. Python indexing\uc740 \uccab\ubc88\uc9f8\ub294 \ud3ec\ud568\ud558\uc9c0\ub9cc \ub9c8\uc9c0\ub9c9\uc740 \ud3ec\ud568\ud558\uc9c0 \uc54a\uae30 \ub54c\ubb38.\n",
      "\n",
      "We can now combine if checks with loops to filter lists that we are constructing, only adding items to our list if they meet certain conditions. Suppose we wanted to only collect the squares of the odd numbers and discard the even one in the previous example:"
     ]
    },
    {
     "cell_type": "code",
     "collapsed": false,
     "input": [
      "oddsquares = []\n",
      "\n",
      "for i in range(10,16):\n",
      "    if i%2==1:\n",
      "        oddsquares.append(i**2)\n",
      "        \n",
      "oddsquares"
     ],
     "language": "python",
     "metadata": {},
     "outputs": [
      {
       "metadata": {},
       "output_type": "pyout",
       "prompt_number": 93,
       "text": [
        "[121, 169, 225]"
       ]
      }
     ],
     "prompt_number": 93
    },
    {
     "cell_type": "raw",
     "metadata": {},
     "source": [
      "This process of looping over a sequence and collecting the items in a list, filtering by some condition if necessary, is so common that Python has a short cut way of doing it known as list comprehension. Here is the nicer list comprehension version of the above two examples:"
     ]
    },
    {
     "cell_type": "code",
     "collapsed": false,
     "input": [
      "squares = [i**2 for i in range(10, 16)]\n",
      "\n",
      "squares"
     ],
     "language": "python",
     "metadata": {},
     "outputs": [
      {
       "metadata": {},
       "output_type": "pyout",
       "prompt_number": 94,
       "text": [
        "[100, 121, 144, 169, 196, 225]"
       ]
      }
     ],
     "prompt_number": 94
    },
    {
     "cell_type": "code",
     "collapsed": false,
     "input": [
      "oddsquares = [i**2 for i in range(10, 16) if (i%2==1)]\n",
      "\n",
      "oddsquares"
     ],
     "language": "python",
     "metadata": {},
     "outputs": [
      {
       "metadata": {},
       "output_type": "pyout",
       "prompt_number": 95,
       "text": [
        "[121, 169, 225]"
       ]
      }
     ],
     "prompt_number": 95
    },
    {
     "cell_type": "raw",
     "metadata": {},
     "source": [
      "\ub2e4\uc74c\uc740 nest loop\ub97c \uc774\uc6a9\ud558\uc5ec 96-well plate\ub97c \uc704\ud574 \ub77c\ubca8\uc744 \uc0dd\uc131\ud558\ub294 \uc608\uc774\ub2e4."
     ]
    },
    {
     "cell_type": "code",
     "collapsed": false,
     "input": [
      "wells = ['%s%02d' % (r, c) for r in 'ABCDEF' for c in range(1, 13)]\n",
      "\n",
      "wells[:15]"
     ],
     "language": "python",
     "metadata": {},
     "outputs": [
      {
       "metadata": {},
       "output_type": "pyout",
       "prompt_number": 96,
       "text": [
        "['A01',\n",
        " 'A02',\n",
        " 'A03',\n",
        " 'A04',\n",
        " 'A05',\n",
        " 'A06',\n",
        " 'A07',\n",
        " 'A08',\n",
        " 'A09',\n",
        " 'A10',\n",
        " 'A11',\n",
        " 'A12',\n",
        " 'B01',\n",
        " 'B02',\n",
        " 'B03']"
       ]
      }
     ],
     "prompt_number": 96
    },
    {
     "cell_type": "raw",
     "metadata": {},
     "source": [
      "\ube48 list\ub97c \uc0dd\uc131\ud558\ub294 \ub354 \uae34 \ubc84\uc804\uc744 \uc0ac\uc6a9\ud558\uc5ec \uc911\ucca9\ub41c for loop\ub97c \uc0ac\uc6a9\ud558\ub294 \uac83\uc744 \uc774\ud574\ud558\uc790."
     ]
    },
    {
     "cell_type": "code",
     "collapsed": false,
     "input": [
      "wells = []\n",
      "\n",
      "for r in 'ABCDE':\n",
      "    for c in range(1,13):\n",
      "        wells.append('%s%02d' % (r, c))\n",
      "        \n",
      "wells[:15]"
     ],
     "language": "python",
     "metadata": {},
     "outputs": [
      {
       "metadata": {},
       "output_type": "pyout",
       "prompt_number": 97,
       "text": [
        "['A01',\n",
        " 'A02',\n",
        " 'A03',\n",
        " 'A04',\n",
        " 'A05',\n",
        " 'A06',\n",
        " 'A07',\n",
        " 'A08',\n",
        " 'A09',\n",
        " 'A10',\n",
        " 'A11',\n",
        " 'A12',\n",
        " 'B01',\n",
        " 'B02',\n",
        " 'B03']"
       ]
      }
     ],
     "prompt_number": 97
    },
    {
     "cell_type": "raw",
     "metadata": {},
     "source": [
      "Don\u2019t worry about the funny \u2018%02d\u2019 and \u2018%s\u2019 bits in the code. We will explain string interpolation in the next session. Congratulations! You have learnt the basic building blocks of a python program. Once you complete the exercise below, we will finish off our Python crash course with I/O and creating your own functions."
     ]
    },
    {
     "cell_type": "heading",
     "level": 3,
     "metadata": {},
     "source": [
      "4.9.9 \ud504\ub85c\uadf8\ub7a8 \uc800\uc7a5\uacfc \uc7ac\uc0ac\uc6a9"
     ]
    },
    {
     "cell_type": "raw",
     "metadata": {},
     "source": [
      "ipython\uc744 \uc0ac\uc6a9\ud558\ub294 \uac83\uc774 \uc989\uac01\uc801\uc778 \ud53c\ub4dc\ubc31\uc5d0\ub294 \ud3b8\ub9ac\ud558\uc9c0\ub9cc, \ub098\uc911\uc5d0 \ucf54\ub4dc\ub97c \uc7ac \uc0ac\uc6a9\ud558\uae30 \uc704\ud574\uc11c\ub294 \ud14d\uc2a4\ud2b8 \uc5d0\ub514\ud130\ub97c \uc0ac\uc6a9\ud558\uc5ec \ucf54\ub529\ud558\uc5ec .py \ud655\uc7a5\uc790\ub97c \uac00\uc9c4 \ud30c\uc77c\ub85c \uc800\uc7a5\ud558\ub294\uac8c \uc88b\uc744 \uac83\uc785\ub2c8\ub2e4. \uac01\uc790\uac00 \uc0ac\uc6a9\ud558\ub294 \ud14d\uc2a4\ud2b8 \uc5d0\ub514\ud130\uc5d0 \uc544\ub798 \ucf54\ub4dc\ub97c \uc791\uc131\ud558\uace0 expert.py \uc774\ub984\uc73c\ub85c \uc800\uc7a5\ud558\uc138\uc694."
     ]
    },
    {
     "cell_type": "code",
     "collapsed": false,
     "input": [
      "print \"I am an expert programmer\""
     ],
     "language": "python",
     "metadata": {},
     "outputs": [
      {
       "output_type": "stream",
       "stream": "stdout",
       "text": [
        "I am an expert programmer\n"
       ]
      }
     ],
     "prompt_number": 98
    },
    {
     "cell_type": "raw",
     "metadata": {},
     "source": [
      "\uc774\uc81c \uc0c8\ub85c\uc6b4 \ud130\ubbf8\ub110\uc744 \uc5f4\uc5b4\uc11c \ud504\ub85c\uadf8\ub7a8\uc744 \uc2e4\ud589\ud558\uc2dc\uc624. ipython \ub0b4\uc5d0\uc11c\ub294 run \ud0a4\uc6cc\ub4dc\ub97c \uc0ac\uc6a9\ud558\uba74 \ub429\ub2c8\ub2e4."
     ]
    },
    {
     "cell_type": "heading",
     "level": 3,
     "metadata": {},
     "source": [
      "4.9.10 Exercise"
     ]
    },
    {
     "cell_type": "raw",
     "metadata": {},
     "source": [
      "\ubb38\uc81c\ub97c \uc694\uc57d\ud558\uba74 1\uc5d0\uc11c 100\uae4c\uc9c0 \uc218 \uc911\uc5d0\uc11c 3\uc758 \ubc30\uc218\ub294 \ud574\ub2f9 \uc22b\uc790 \ub300\uc2e0 Fizz\ub97c \ucd9c\ub825\ud558\uace0, 5\uc758 \ubc30\uc218\ub294 Buzz\ub97c \ucd9c\ub825\ud558\uace0, 3\uacfc 5\uc758 \ubc30\uc218\ub294 FizzBuzz\ub97c \ucd9c\ub825\ud558\ub294 \ud504\ub85c\uadf8\ub7a8\uc744 \uc791\uc131\ud558\ub294 \uac83\uc785\ub2c8\ub2e4. \ud504\ub85c\uadf8\ub798\ubc0d \uc791\uc131 \ub2e8\uacc4\ub294 \ub2e4\uc74c\uc744 \ucc38\uc870\ud558\uc138\uc694.\n",
      "first, how do you print the numbers from 1 to 100? Next, how do you find multiples of 3? How do you change what is printed if the number is a multiple of 3? And so on ..."
     ]
    }
   ],
   "metadata": {}
  }
 ]
}